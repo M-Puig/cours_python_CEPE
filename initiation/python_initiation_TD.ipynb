{
 "cells": [
  {
   "cell_type": "markdown",
   "metadata": {
    "id": "hAuKGUzxz-fh"
   },
   "source": [
    "# Python initialisation : TD"
   ]
  },
  {
   "cell_type": "markdown",
   "metadata": {
    "id": "KIWkesg-0Fr9"
   },
   "source": [
    "Le but de ce TD est de vous familiariser avec le package pandas pour l'analyse de données et matplotlib pour la visualisation de données.\n",
    "\n",
    "Nous allons travailler avec un fichier contenant les données d'un jour de ventes dans une chaîne américaine de restauration rapide (Chipotle)."
   ]
  },
  {
   "cell_type": "markdown",
   "metadata": {
    "id": "zYRGP43E2Lxh"
   },
   "source": [
    "Commençons par importer le package pandas :"
   ]
  },
  {
   "cell_type": "code",
   "execution_count": 1,
   "metadata": {
    "id": "e2V3Dn3j2S_B"
   },
   "outputs": [],
   "source": [
    "import pandas as pd"
   ]
  },
  {
   "cell_type": "markdown",
   "metadata": {
    "id": "V215saTT2TXx"
   },
   "source": [
    "Puis importons les données dans un DataFrame pandas :"
   ]
  },
  {
   "cell_type": "code",
   "execution_count": 2,
   "metadata": {
    "id": "OXfRWkIv0E9-"
   },
   "outputs": [],
   "source": [
    "url = 'https://raw.githubusercontent.com/justmarkham/DAT8/master/data/chipotle.tsv'\n",
    "path = '../data/chipotle.tsv'\n",
    "df = pd.read_csv(path, sep = '\\t') # les données sont séparées par un tab"
   ]
  },
  {
   "cell_type": "markdown",
   "metadata": {
    "id": "9PB0r6xF89mq"
   },
   "source": [
    "## Tâche 1 : comprendre les données / nettoyage"
   ]
  },
  {
   "cell_type": "markdown",
   "metadata": {
    "id": "THbLrRUO9CJ_"
   },
   "source": [
    "Pour commencer, essayons de comprendre la structure des données."
   ]
  },
  {
   "cell_type": "code",
   "execution_count": 3,
   "metadata": {
    "id": "u08q5dpr9AiJ"
   },
   "outputs": [
    {
     "data": {
      "text/html": [
       "<div>\n",
       "<style scoped>\n",
       "    .dataframe tbody tr th:only-of-type {\n",
       "        vertical-align: middle;\n",
       "    }\n",
       "\n",
       "    .dataframe tbody tr th {\n",
       "        vertical-align: top;\n",
       "    }\n",
       "\n",
       "    .dataframe thead th {\n",
       "        text-align: right;\n",
       "    }\n",
       "</style>\n",
       "<table border=\"1\" class=\"dataframe\">\n",
       "  <thead>\n",
       "    <tr style=\"text-align: right;\">\n",
       "      <th></th>\n",
       "      <th>order_id</th>\n",
       "      <th>quantity</th>\n",
       "      <th>item_name</th>\n",
       "      <th>choice_description</th>\n",
       "      <th>item_price</th>\n",
       "    </tr>\n",
       "  </thead>\n",
       "  <tbody>\n",
       "    <tr>\n",
       "      <th>0</th>\n",
       "      <td>1</td>\n",
       "      <td>1</td>\n",
       "      <td>Chips and Fresh Tomato Salsa</td>\n",
       "      <td>NaN</td>\n",
       "      <td>$2.39</td>\n",
       "    </tr>\n",
       "    <tr>\n",
       "      <th>1</th>\n",
       "      <td>1</td>\n",
       "      <td>1</td>\n",
       "      <td>Izze</td>\n",
       "      <td>[Clementine]</td>\n",
       "      <td>$3.39</td>\n",
       "    </tr>\n",
       "    <tr>\n",
       "      <th>2</th>\n",
       "      <td>1</td>\n",
       "      <td>1</td>\n",
       "      <td>Nantucket Nectar</td>\n",
       "      <td>[Apple]</td>\n",
       "      <td>$3.39</td>\n",
       "    </tr>\n",
       "    <tr>\n",
       "      <th>3</th>\n",
       "      <td>1</td>\n",
       "      <td>1</td>\n",
       "      <td>Chips and Tomatillo-Green Chili Salsa</td>\n",
       "      <td>NaN</td>\n",
       "      <td>$2.39</td>\n",
       "    </tr>\n",
       "    <tr>\n",
       "      <th>4</th>\n",
       "      <td>2</td>\n",
       "      <td>2</td>\n",
       "      <td>Chicken Bowl</td>\n",
       "      <td>[Tomatillo-Red Chili Salsa (Hot), [Black Beans...</td>\n",
       "      <td>$16.98</td>\n",
       "    </tr>\n",
       "    <tr>\n",
       "      <th>5</th>\n",
       "      <td>3</td>\n",
       "      <td>1</td>\n",
       "      <td>Chicken Bowl</td>\n",
       "      <td>[Fresh Tomato Salsa (Mild), [Rice, Cheese, Sou...</td>\n",
       "      <td>$10.98</td>\n",
       "    </tr>\n",
       "    <tr>\n",
       "      <th>6</th>\n",
       "      <td>3</td>\n",
       "      <td>1</td>\n",
       "      <td>Side of Chips</td>\n",
       "      <td>NaN</td>\n",
       "      <td>$1.69</td>\n",
       "    </tr>\n",
       "  </tbody>\n",
       "</table>\n",
       "</div>"
      ],
      "text/plain": [
       "   order_id  quantity                              item_name  \\\n",
       "0         1         1           Chips and Fresh Tomato Salsa   \n",
       "1         1         1                                   Izze   \n",
       "2         1         1                       Nantucket Nectar   \n",
       "3         1         1  Chips and Tomatillo-Green Chili Salsa   \n",
       "4         2         2                           Chicken Bowl   \n",
       "5         3         1                           Chicken Bowl   \n",
       "6         3         1                          Side of Chips   \n",
       "\n",
       "                                  choice_description item_price  \n",
       "0                                                NaN     $2.39   \n",
       "1                                       [Clementine]     $3.39   \n",
       "2                                            [Apple]     $3.39   \n",
       "3                                                NaN     $2.39   \n",
       "4  [Tomatillo-Red Chili Salsa (Hot), [Black Beans...    $16.98   \n",
       "5  [Fresh Tomato Salsa (Mild), [Rice, Cheese, Sou...    $10.98   \n",
       "6                                                NaN     $1.69   "
      ]
     },
     "execution_count": 3,
     "metadata": {},
     "output_type": "execute_result"
    }
   ],
   "source": [
    "# Afficher les 7 premières lignes du dataframe\n",
    "df.head(n=7)"
   ]
  },
  {
   "cell_type": "code",
   "execution_count": 4,
   "metadata": {},
   "outputs": [
    {
     "data": {
      "text/plain": [
       "order_id               int64\n",
       "quantity               int64\n",
       "item_name             object\n",
       "choice_description    object\n",
       "item_price            object\n",
       "dtype: object"
      ]
     },
     "execution_count": 4,
     "metadata": {},
     "output_type": "execute_result"
    }
   ],
   "source": [
    "df.dtypes"
   ]
  },
  {
   "cell_type": "code",
   "execution_count": 5,
   "metadata": {},
   "outputs": [
    {
     "data": {
      "text/plain": [
       "order_id                 0\n",
       "quantity                 0\n",
       "item_name                0\n",
       "choice_description    1246\n",
       "item_price               0\n",
       "dtype: int64"
      ]
     },
     "execution_count": 5,
     "metadata": {},
     "output_type": "execute_result"
    }
   ],
   "source": [
    "df.isnull().sum()"
   ]
  },
  {
   "cell_type": "code",
   "execution_count": 6,
   "metadata": {},
   "outputs": [
    {
     "data": {
      "text/plain": [
       "1834"
      ]
     },
     "execution_count": 6,
     "metadata": {},
     "output_type": "execute_result"
    }
   ],
   "source": [
    "len(df[\"order_id\"].unique())"
   ]
  },
  {
   "cell_type": "code",
   "execution_count": 7,
   "metadata": {},
   "outputs": [
    {
     "data": {
      "text/plain": [
       "1834"
      ]
     },
     "execution_count": 7,
     "metadata": {},
     "output_type": "execute_result"
    }
   ],
   "source": [
    "df[\"order_id\"].nunique()"
   ]
  },
  {
   "cell_type": "code",
   "execution_count": 8,
   "metadata": {},
   "outputs": [
    {
     "data": {
      "text/plain": [
       "(4622, 5)"
      ]
     },
     "execution_count": 8,
     "metadata": {},
     "output_type": "execute_result"
    }
   ],
   "source": [
    "df.shape"
   ]
  },
  {
   "cell_type": "markdown",
   "metadata": {
    "id": "LnFLIi1sOKFw"
   },
   "source": [
    "Les données contiennent les informations suivantes :\n",
    "\n",
    "*   `order_id` : l'indice de la commande\n",
    "*   `quantity` : le nombre de produits commandés\n",
    "*   `item_name` : le nom du produit commandé\n",
    "*   `choice_description` : le détail des ingrédients en option\n",
    "*   `item_price` : le prix total de la commande\n",
    "\n",
    "Une vente correspondant à un unique client est ainsi représentée par son `order_id`. Chaque item différent du menu que le client correspondant a commandé se retrouve donc sur une ligne séparée. Par exemple, si le client #11 a commandé un sandwich et une boisson, alors la vente #11 est représentée par deux lignes, une pour le sandwich et une pour la boisson, toutes deux avec `order_id=11`.\n"
   ]
  },
  {
   "cell_type": "code",
   "execution_count": 9,
   "metadata": {
    "id": "mvR2GASM9vEj"
   },
   "outputs": [
    {
     "data": {
      "text/plain": [
       "4622"
      ]
     },
     "execution_count": 9,
     "metadata": {},
     "output_type": "execute_result"
    }
   ],
   "source": [
    "# Quel est le nombre de lignes dans ce jeu de données ?\n",
    "df.shape[0]"
   ]
  },
  {
   "cell_type": "code",
   "execution_count": 10,
   "metadata": {
    "id": "PFw0h9bNWzbm"
   },
   "outputs": [
    {
     "data": {
      "text/plain": [
       "5"
      ]
     },
     "execution_count": 10,
     "metadata": {},
     "output_type": "execute_result"
    }
   ],
   "source": [
    "# Quel est le nombre de colonnes ?\n",
    "df.shape[1]"
   ]
  },
  {
   "cell_type": "code",
   "execution_count": 11,
   "metadata": {
    "id": "kM1PO3dGtOEl"
   },
   "outputs": [
    {
     "data": {
      "text/plain": [
       "1834"
      ]
     },
     "execution_count": 11,
     "metadata": {},
     "output_type": "execute_result"
    }
   ],
   "source": [
    "# Combien de clients différents sont-ils venus ce jour-là ?\n",
    "df['order_id'].nunique()"
   ]
  },
  {
   "cell_type": "code",
   "execution_count": 12,
   "metadata": {
    "id": "kYu5Np_ucRJU"
   },
   "outputs": [
    {
     "data": {
      "text/plain": [
       "order_id                 0\n",
       "quantity                 0\n",
       "item_name                0\n",
       "choice_description    1246\n",
       "item_price               0\n",
       "dtype: int64"
      ]
     },
     "execution_count": 12,
     "metadata": {},
     "output_type": "execute_result"
    }
   ],
   "source": [
    "# Vérifier s'il y a des données manquantes\n",
    "df.isnull().sum()"
   ]
  },
  {
   "cell_type": "code",
   "execution_count": 13,
   "metadata": {
    "id": "NTNlaRWd9vaE"
   },
   "outputs": [
    {
     "data": {
      "text/plain": [
       "Index(['order_id', 'quantity', 'item_name', 'choice_description',\n",
       "       'item_price'],\n",
       "      dtype='object')"
      ]
     },
     "execution_count": 13,
     "metadata": {},
     "output_type": "execute_result"
    }
   ],
   "source": [
    "# Afficher le nom de toutes les colonnes\n",
    "df.columns"
   ]
  },
  {
   "cell_type": "code",
   "execution_count": 14,
   "metadata": {
    "id": "e9kvr2R69vm6"
   },
   "outputs": [
    {
     "name": "stdout",
     "output_type": "stream",
     "text": [
      "order_id               int64\n",
      "quantity               int64\n",
      "item_name             object\n",
      "choice_description    object\n",
      "item_price            object\n",
      "dtype: object\n",
      "object\n"
     ]
    },
    {
     "name": "stderr",
     "output_type": "stream",
     "text": [
      "/tmp/ipykernel_24666/3311470189.py:4: FutureWarning: Series.__getitem__ treating keys as positions is deprecated. In a future version, integer keys will always be treated as labels (consistent with DataFrame behavior). To access a value by position, use `ser.iloc[pos]`\n",
      "  print(df.dtypes[4])\n"
     ]
    }
   ],
   "source": [
    "# Afficher le type de toutes les colonnes\n",
    "print(df.dtypes)\n",
    "# Quel est le type de la 5ème colonne ?\n",
    "print(df.dtypes[4])"
   ]
  },
  {
   "cell_type": "markdown",
   "metadata": {
    "id": "eGk5PTh3bJF0"
   },
   "source": [
    "La dernière colonne (le prix) est une chaîne de caractères commençant par '\\$'. Transformons-la en float. Pour cela, vérifions tout d'abord que tous les éléments commencent bien par '\\$'.\n",
    "\n",
    "Indice : utiliser le package numpy et la fonction np.all() qui vérifie que tous les éléments d'une liste sont True."
   ]
  },
  {
   "cell_type": "code",
   "execution_count": 15,
   "metadata": {},
   "outputs": [],
   "source": [
    "import numpy as np"
   ]
  },
  {
   "cell_type": "code",
   "execution_count": 16,
   "metadata": {},
   "outputs": [
    {
     "data": {
      "text/plain": [
       "array(['$2.39 ', '$3.39 ', '$3.39 ', ..., '$11.25 ', '$8.75 ', '$8.75 '],\n",
       "      dtype=object)"
      ]
     },
     "execution_count": 16,
     "metadata": {},
     "output_type": "execute_result"
    }
   ],
   "source": [
    "df['item_price'].values"
   ]
  },
  {
   "cell_type": "code",
   "execution_count": 17,
   "metadata": {},
   "outputs": [
    {
     "data": {
      "text/plain": [
       "True"
      ]
     },
     "execution_count": 17,
     "metadata": {},
     "output_type": "execute_result"
    }
   ],
   "source": [
    "np.all([True if ('$' in elt) else False for elt in df['item_price']])"
   ]
  },
  {
   "cell_type": "code",
   "execution_count": 18,
   "metadata": {
    "id": "aA5gi7fSdPkk"
   },
   "outputs": [
    {
     "data": {
      "text/plain": [
       "True"
      ]
     },
     "execution_count": 18,
     "metadata": {},
     "output_type": "execute_result"
    }
   ],
   "source": [
    "df[\"item_price\"].str.startswith(\"$\").all()"
   ]
  },
  {
   "cell_type": "code",
   "execution_count": 19,
   "metadata": {},
   "outputs": [
    {
     "data": {
      "text/plain": [
       "True"
      ]
     },
     "execution_count": 19,
     "metadata": {},
     "output_type": "execute_result"
    }
   ],
   "source": [
    "df[\"item_price\"].apply(lambda x: '$' in x).all()"
   ]
  },
  {
   "cell_type": "code",
   "execution_count": 20,
   "metadata": {},
   "outputs": [
    {
     "name": "stdout",
     "output_type": "stream",
     "text": [
      "mot\n",
      "ot\n"
     ]
    }
   ],
   "source": [
    "c = \"mot\"\n",
    "print(c)\n",
    "print(c[1:])"
   ]
  },
  {
   "cell_type": "code",
   "execution_count": 21,
   "metadata": {},
   "outputs": [],
   "source": [
    "#df[\"item_price\"] = df[\"item_price\"].apply(lambda x: float(x[1:]))"
   ]
  },
  {
   "cell_type": "code",
   "execution_count": 22,
   "metadata": {},
   "outputs": [
    {
     "data": {
      "text/plain": [
       "0        $2.39 \n",
       "1        $3.39 \n",
       "2        $3.39 \n",
       "3        $2.39 \n",
       "4       $16.98 \n",
       "         ...   \n",
       "4617    $11.75 \n",
       "4618    $11.75 \n",
       "4619    $11.25 \n",
       "4620     $8.75 \n",
       "4621     $8.75 \n",
       "Name: item_price, Length: 4622, dtype: object"
      ]
     },
     "execution_count": 22,
     "metadata": {},
     "output_type": "execute_result"
    }
   ],
   "source": [
    "df[\"item_price\"]"
   ]
  },
  {
   "cell_type": "code",
   "execution_count": 23,
   "metadata": {},
   "outputs": [],
   "source": [
    "df[\"item_price\"] = df[\"item_price\"].str.replace(\"$\", \"\").astype(float)"
   ]
  },
  {
   "cell_type": "code",
   "execution_count": 24,
   "metadata": {},
   "outputs": [],
   "source": [
    "#df['item_price'] = df[\"item_price\"].apply(lambda x: float(x[1:]))"
   ]
  },
  {
   "cell_type": "markdown",
   "metadata": {
    "id": "hrE8D2cq9Gwj"
   },
   "source": [
    "## Tâche 2 : quelques analyses descriptives"
   ]
  },
  {
   "cell_type": "markdown",
   "metadata": {
    "id": "6kegRJb1X3m2"
   },
   "source": [
    "Commençons par obtenir la liste de tous les éléments différents du menu vendus ce jour-là."
   ]
  },
  {
   "cell_type": "code",
   "execution_count": 25,
   "metadata": {},
   "outputs": [
    {
     "data": {
      "text/plain": [
       "array(['Chips and Fresh Tomato Salsa', 'Izze', 'Nantucket Nectar',\n",
       "       'Chips and Tomatillo-Green Chili Salsa', 'Chicken Bowl',\n",
       "       'Side of Chips', 'Steak Burrito', 'Steak Soft Tacos',\n",
       "       'Chips and Guacamole', 'Chicken Crispy Tacos',\n",
       "       'Chicken Soft Tacos', 'Chicken Burrito', 'Canned Soda',\n",
       "       'Barbacoa Burrito', 'Carnitas Burrito', 'Carnitas Bowl',\n",
       "       'Bottled Water', 'Chips and Tomatillo Green Chili Salsa',\n",
       "       'Barbacoa Bowl', 'Chips', 'Chicken Salad Bowl', 'Steak Bowl',\n",
       "       'Barbacoa Soft Tacos', 'Veggie Burrito', 'Veggie Bowl',\n",
       "       'Steak Crispy Tacos', 'Chips and Tomatillo Red Chili Salsa',\n",
       "       'Barbacoa Crispy Tacos', 'Veggie Salad Bowl',\n",
       "       'Chips and Roasted Chili-Corn Salsa',\n",
       "       'Chips and Roasted Chili Corn Salsa', 'Carnitas Soft Tacos',\n",
       "       'Chicken Salad', 'Canned Soft Drink', 'Steak Salad Bowl',\n",
       "       '6 Pack Soft Drink', 'Chips and Tomatillo-Red Chili Salsa', 'Bowl',\n",
       "       'Burrito', 'Crispy Tacos', 'Carnitas Crispy Tacos', 'Steak Salad',\n",
       "       'Chips and Mild Fresh Tomato Salsa', 'Veggie Soft Tacos',\n",
       "       'Carnitas Salad Bowl', 'Barbacoa Salad Bowl', 'Salad',\n",
       "       'Veggie Crispy Tacos', 'Veggie Salad', 'Carnitas Salad'],\n",
       "      dtype=object)"
      ]
     },
     "execution_count": 25,
     "metadata": {},
     "output_type": "execute_result"
    }
   ],
   "source": [
    "df[\"item_name\"].unique()"
   ]
  },
  {
   "cell_type": "code",
   "execution_count": 26,
   "metadata": {
    "id": "WQfLRmDb9IYa"
   },
   "outputs": [
    {
     "data": {
      "text/plain": [
       "item_name\n",
       "Chicken Bowl                             726\n",
       "Chicken Burrito                          553\n",
       "Chips and Guacamole                      479\n",
       "Steak Burrito                            368\n",
       "Canned Soft Drink                        301\n",
       "Steak Bowl                               211\n",
       "Chips                                    211\n",
       "Bottled Water                            162\n",
       "Chicken Soft Tacos                       115\n",
       "Chips and Fresh Tomato Salsa             110\n",
       "Chicken Salad Bowl                       110\n",
       "Canned Soda                              104\n",
       "Side of Chips                            101\n",
       "Veggie Burrito                            95\n",
       "Barbacoa Burrito                          91\n",
       "Veggie Bowl                               85\n",
       "Carnitas Bowl                             68\n",
       "Barbacoa Bowl                             66\n",
       "Carnitas Burrito                          59\n",
       "Steak Soft Tacos                          55\n",
       "6 Pack Soft Drink                         54\n",
       "Chips and Tomatillo Red Chili Salsa       48\n",
       "Chicken Crispy Tacos                      47\n",
       "Chips and Tomatillo Green Chili Salsa     43\n",
       "Carnitas Soft Tacos                       40\n",
       "Steak Crispy Tacos                        35\n",
       "Chips and Tomatillo-Green Chili Salsa     31\n",
       "Steak Salad Bowl                          29\n",
       "Nantucket Nectar                          27\n",
       "Barbacoa Soft Tacos                       25\n",
       "Chips and Roasted Chili Corn Salsa        22\n",
       "Izze                                      20\n",
       "Chips and Tomatillo-Red Chili Salsa       20\n",
       "Veggie Salad Bowl                         18\n",
       "Chips and Roasted Chili-Corn Salsa        18\n",
       "Barbacoa Crispy Tacos                     11\n",
       "Barbacoa Salad Bowl                       10\n",
       "Chicken Salad                              9\n",
       "Veggie Soft Tacos                          7\n",
       "Carnitas Crispy Tacos                      7\n",
       "Veggie Salad                               6\n",
       "Carnitas Salad Bowl                        6\n",
       "Burrito                                    6\n",
       "Steak Salad                                4\n",
       "Crispy Tacos                               2\n",
       "Salad                                      2\n",
       "Bowl                                       2\n",
       "Chips and Mild Fresh Tomato Salsa          1\n",
       "Veggie Crispy Tacos                        1\n",
       "Carnitas Salad                             1\n",
       "Name: count, dtype: int64"
      ]
     },
     "execution_count": 26,
     "metadata": {},
     "output_type": "execute_result"
    }
   ],
   "source": [
    "df[\"item_name\"].value_counts()"
   ]
  },
  {
   "cell_type": "markdown",
   "metadata": {
    "id": "_oXw_suaakiM"
   },
   "source": [
    "Quel est le prix moyen d'une vente ? Le nombre moyen d'items par vente ? Attention, il faut commencer par regrouper les ventes par `order_id`."
   ]
  },
  {
   "cell_type": "code",
   "execution_count": 27,
   "metadata": {},
   "outputs": [
    {
     "data": {
      "text/plain": [
       "quantity       2.711014\n",
       "item_price    18.811429\n",
       "dtype: float64"
      ]
     },
     "execution_count": 27,
     "metadata": {},
     "output_type": "execute_result"
    }
   ],
   "source": [
    "df_groupby = df[[\"order_id\", \"quantity\", \"item_price\"]].groupby(\"order_id\").sum()\n",
    "df_groupby.mean()"
   ]
  },
  {
   "cell_type": "markdown",
   "metadata": {
    "id": "J5Dq82IRi79Q"
   },
   "source": [
    "Indiquer la vente pour laquelle le client a payé le moins et celle pour laquelle il a payé le plus."
   ]
  },
  {
   "cell_type": "code",
   "execution_count": 28,
   "metadata": {
    "id": "e0Oxki1djACz"
   },
   "outputs": [],
   "source": [
    "commande_moins_cher = df_groupby[\"item_price\"].idxmin()"
   ]
  },
  {
   "cell_type": "code",
   "execution_count": 29,
   "metadata": {},
   "outputs": [
    {
     "data": {
      "text/plain": [
       "10.08"
      ]
     },
     "execution_count": 29,
     "metadata": {},
     "output_type": "execute_result"
    }
   ],
   "source": [
    "df_groupby.loc[commande_moins_cher][\"item_price\"]"
   ]
  },
  {
   "cell_type": "code",
   "execution_count": 30,
   "metadata": {},
   "outputs": [
    {
     "data": {
      "text/html": [
       "<div>\n",
       "<style scoped>\n",
       "    .dataframe tbody tr th:only-of-type {\n",
       "        vertical-align: middle;\n",
       "    }\n",
       "\n",
       "    .dataframe tbody tr th {\n",
       "        vertical-align: top;\n",
       "    }\n",
       "\n",
       "    .dataframe thead th {\n",
       "        text-align: right;\n",
       "    }\n",
       "</style>\n",
       "<table border=\"1\" class=\"dataframe\">\n",
       "  <thead>\n",
       "    <tr style=\"text-align: right;\">\n",
       "      <th></th>\n",
       "      <th>order_id</th>\n",
       "      <th>quantity</th>\n",
       "      <th>item_name</th>\n",
       "      <th>choice_description</th>\n",
       "      <th>item_price</th>\n",
       "    </tr>\n",
       "  </thead>\n",
       "  <tbody>\n",
       "    <tr>\n",
       "      <th>27</th>\n",
       "      <td>14</td>\n",
       "      <td>1</td>\n",
       "      <td>Carnitas Burrito</td>\n",
       "      <td>[[Tomatillo-Green Chili Salsa (Medium), Roaste...</td>\n",
       "      <td>8.99</td>\n",
       "    </tr>\n",
       "    <tr>\n",
       "      <th>28</th>\n",
       "      <td>14</td>\n",
       "      <td>1</td>\n",
       "      <td>Canned Soda</td>\n",
       "      <td>[Dr. Pepper]</td>\n",
       "      <td>1.09</td>\n",
       "    </tr>\n",
       "  </tbody>\n",
       "</table>\n",
       "</div>"
      ],
      "text/plain": [
       "    order_id  quantity         item_name  \\\n",
       "27        14         1  Carnitas Burrito   \n",
       "28        14         1       Canned Soda   \n",
       "\n",
       "                                   choice_description  item_price  \n",
       "27  [[Tomatillo-Green Chili Salsa (Medium), Roaste...        8.99  \n",
       "28                                       [Dr. Pepper]        1.09  "
      ]
     },
     "execution_count": 30,
     "metadata": {},
     "output_type": "execute_result"
    }
   ],
   "source": [
    "df[df[\"order_id\"]==commande_moins_cher]"
   ]
  },
  {
   "cell_type": "code",
   "execution_count": 31,
   "metadata": {},
   "outputs": [
    {
     "data": {
      "text/plain": [
       "10.08"
      ]
     },
     "execution_count": 31,
     "metadata": {},
     "output_type": "execute_result"
    }
   ],
   "source": [
    "df_groupby[\"item_price\"].min()"
   ]
  },
  {
   "cell_type": "code",
   "execution_count": 32,
   "metadata": {},
   "outputs": [],
   "source": [
    "commande_plus_cher = df_groupby[\"item_price\"].idxmax()"
   ]
  },
  {
   "cell_type": "code",
   "execution_count": 33,
   "metadata": {},
   "outputs": [
    {
     "data": {
      "text/plain": [
       "205.25"
      ]
     },
     "execution_count": 33,
     "metadata": {},
     "output_type": "execute_result"
    }
   ],
   "source": [
    "df_groupby.loc[commande_plus_cher][\"item_price\"]"
   ]
  },
  {
   "cell_type": "code",
   "execution_count": 34,
   "metadata": {},
   "outputs": [
    {
     "data": {
      "text/html": [
       "<div>\n",
       "<style scoped>\n",
       "    .dataframe tbody tr th:only-of-type {\n",
       "        vertical-align: middle;\n",
       "    }\n",
       "\n",
       "    .dataframe tbody tr th {\n",
       "        vertical-align: top;\n",
       "    }\n",
       "\n",
       "    .dataframe thead th {\n",
       "        text-align: right;\n",
       "    }\n",
       "</style>\n",
       "<table border=\"1\" class=\"dataframe\">\n",
       "  <thead>\n",
       "    <tr style=\"text-align: right;\">\n",
       "      <th></th>\n",
       "      <th>order_id</th>\n",
       "      <th>quantity</th>\n",
       "      <th>item_name</th>\n",
       "      <th>choice_description</th>\n",
       "      <th>item_price</th>\n",
       "    </tr>\n",
       "  </thead>\n",
       "  <tbody>\n",
       "    <tr>\n",
       "      <th>2304</th>\n",
       "      <td>926</td>\n",
       "      <td>1</td>\n",
       "      <td>Steak Burrito</td>\n",
       "      <td>[Fresh Tomato Salsa, [Rice, Sour Cream, Lettuce]]</td>\n",
       "      <td>9.25</td>\n",
       "    </tr>\n",
       "    <tr>\n",
       "      <th>2305</th>\n",
       "      <td>926</td>\n",
       "      <td>1</td>\n",
       "      <td>Chicken Bowl</td>\n",
       "      <td>[Roasted Chili Corn Salsa, [Fajita Vegetables,...</td>\n",
       "      <td>8.75</td>\n",
       "    </tr>\n",
       "    <tr>\n",
       "      <th>2306</th>\n",
       "      <td>926</td>\n",
       "      <td>1</td>\n",
       "      <td>Chicken Bowl</td>\n",
       "      <td>[Roasted Chili Corn Salsa, [Fajita Vegetables,...</td>\n",
       "      <td>8.75</td>\n",
       "    </tr>\n",
       "    <tr>\n",
       "      <th>2307</th>\n",
       "      <td>926</td>\n",
       "      <td>1</td>\n",
       "      <td>Chicken Bowl</td>\n",
       "      <td>[Roasted Chili Corn Salsa, [Fajita Vegetables,...</td>\n",
       "      <td>8.75</td>\n",
       "    </tr>\n",
       "    <tr>\n",
       "      <th>2308</th>\n",
       "      <td>926</td>\n",
       "      <td>1</td>\n",
       "      <td>Steak Bowl</td>\n",
       "      <td>[Fresh Tomato Salsa, [Rice, Black Beans, Lettu...</td>\n",
       "      <td>9.25</td>\n",
       "    </tr>\n",
       "    <tr>\n",
       "      <th>2309</th>\n",
       "      <td>926</td>\n",
       "      <td>1</td>\n",
       "      <td>Chicken Bowl</td>\n",
       "      <td>[Fresh Tomato Salsa, [Rice, Black Beans, Chees...</td>\n",
       "      <td>8.75</td>\n",
       "    </tr>\n",
       "    <tr>\n",
       "      <th>2310</th>\n",
       "      <td>926</td>\n",
       "      <td>1</td>\n",
       "      <td>Steak Burrito</td>\n",
       "      <td>[Roasted Chili Corn Salsa, [Rice, Cheese, Sour...</td>\n",
       "      <td>9.25</td>\n",
       "    </tr>\n",
       "    <tr>\n",
       "      <th>2311</th>\n",
       "      <td>926</td>\n",
       "      <td>1</td>\n",
       "      <td>Chicken Burrito</td>\n",
       "      <td>[Fresh Tomato Salsa, [Rice, Black Beans, Chees...</td>\n",
       "      <td>8.75</td>\n",
       "    </tr>\n",
       "    <tr>\n",
       "      <th>2312</th>\n",
       "      <td>926</td>\n",
       "      <td>1</td>\n",
       "      <td>Chicken Bowl</td>\n",
       "      <td>[Fresh Tomato Salsa, [Rice, Lettuce]]</td>\n",
       "      <td>8.75</td>\n",
       "    </tr>\n",
       "    <tr>\n",
       "      <th>2313</th>\n",
       "      <td>926</td>\n",
       "      <td>1</td>\n",
       "      <td>Chicken Bowl</td>\n",
       "      <td>[Fresh Tomato Salsa, [Rice, Cheese, Sour Cream...</td>\n",
       "      <td>8.75</td>\n",
       "    </tr>\n",
       "    <tr>\n",
       "      <th>2314</th>\n",
       "      <td>926</td>\n",
       "      <td>1</td>\n",
       "      <td>Chicken Salad Bowl</td>\n",
       "      <td>[Roasted Chili Corn Salsa, [Rice, Sour Cream]]</td>\n",
       "      <td>8.75</td>\n",
       "    </tr>\n",
       "    <tr>\n",
       "      <th>2315</th>\n",
       "      <td>926</td>\n",
       "      <td>1</td>\n",
       "      <td>Steak Bowl</td>\n",
       "      <td>[Fresh Tomato Salsa, [Rice, Black Beans, Chees...</td>\n",
       "      <td>9.25</td>\n",
       "    </tr>\n",
       "    <tr>\n",
       "      <th>2316</th>\n",
       "      <td>926</td>\n",
       "      <td>1</td>\n",
       "      <td>Chicken Burrito</td>\n",
       "      <td>[Roasted Chili Corn Salsa, [Rice, Black Beans,...</td>\n",
       "      <td>8.75</td>\n",
       "    </tr>\n",
       "    <tr>\n",
       "      <th>2317</th>\n",
       "      <td>926</td>\n",
       "      <td>1</td>\n",
       "      <td>Steak Bowl</td>\n",
       "      <td>[Roasted Chili Corn Salsa, [Rice, Black Beans,...</td>\n",
       "      <td>9.25</td>\n",
       "    </tr>\n",
       "    <tr>\n",
       "      <th>2318</th>\n",
       "      <td>926</td>\n",
       "      <td>1</td>\n",
       "      <td>Chicken Bowl</td>\n",
       "      <td>[Roasted Chili Corn Salsa, [Fajita Vegetables,...</td>\n",
       "      <td>8.75</td>\n",
       "    </tr>\n",
       "    <tr>\n",
       "      <th>2319</th>\n",
       "      <td>926</td>\n",
       "      <td>1</td>\n",
       "      <td>Steak Bowl</td>\n",
       "      <td>[Fresh Tomato Salsa, [Rice, Cheese]]</td>\n",
       "      <td>9.25</td>\n",
       "    </tr>\n",
       "    <tr>\n",
       "      <th>2320</th>\n",
       "      <td>926</td>\n",
       "      <td>1</td>\n",
       "      <td>Chicken Burrito</td>\n",
       "      <td>[Fresh Tomato Salsa, [Rice, Cheese, Lettuce]]</td>\n",
       "      <td>8.75</td>\n",
       "    </tr>\n",
       "    <tr>\n",
       "      <th>2321</th>\n",
       "      <td>926</td>\n",
       "      <td>1</td>\n",
       "      <td>Chicken Bowl</td>\n",
       "      <td>[Roasted Chili Corn Salsa, [Rice, Pinto Beans,...</td>\n",
       "      <td>8.75</td>\n",
       "    </tr>\n",
       "    <tr>\n",
       "      <th>2322</th>\n",
       "      <td>926</td>\n",
       "      <td>1</td>\n",
       "      <td>Chicken Bowl</td>\n",
       "      <td>[Roasted Chili Corn Salsa, [Rice, Cheese]]</td>\n",
       "      <td>8.75</td>\n",
       "    </tr>\n",
       "    <tr>\n",
       "      <th>2323</th>\n",
       "      <td>926</td>\n",
       "      <td>1</td>\n",
       "      <td>Barbacoa Burrito</td>\n",
       "      <td>[Fresh Tomato Salsa, [Rice, Black Beans, Chees...</td>\n",
       "      <td>9.25</td>\n",
       "    </tr>\n",
       "    <tr>\n",
       "      <th>2324</th>\n",
       "      <td>926</td>\n",
       "      <td>1</td>\n",
       "      <td>Chicken Burrito</td>\n",
       "      <td>[Tomatillo Red Chili Salsa, [Rice, Cheese, Sou...</td>\n",
       "      <td>8.75</td>\n",
       "    </tr>\n",
       "    <tr>\n",
       "      <th>2325</th>\n",
       "      <td>926</td>\n",
       "      <td>1</td>\n",
       "      <td>Steak Bowl</td>\n",
       "      <td>[Tomatillo Red Chili Salsa, [Rice, Black Beans...</td>\n",
       "      <td>9.25</td>\n",
       "    </tr>\n",
       "    <tr>\n",
       "      <th>2326</th>\n",
       "      <td>926</td>\n",
       "      <td>1</td>\n",
       "      <td>Veggie Bowl</td>\n",
       "      <td>[Roasted Chili Corn Salsa, [Rice, Black Beans,...</td>\n",
       "      <td>8.75</td>\n",
       "    </tr>\n",
       "  </tbody>\n",
       "</table>\n",
       "</div>"
      ],
      "text/plain": [
       "      order_id  quantity           item_name  \\\n",
       "2304       926         1       Steak Burrito   \n",
       "2305       926         1        Chicken Bowl   \n",
       "2306       926         1        Chicken Bowl   \n",
       "2307       926         1        Chicken Bowl   \n",
       "2308       926         1          Steak Bowl   \n",
       "2309       926         1        Chicken Bowl   \n",
       "2310       926         1       Steak Burrito   \n",
       "2311       926         1     Chicken Burrito   \n",
       "2312       926         1        Chicken Bowl   \n",
       "2313       926         1        Chicken Bowl   \n",
       "2314       926         1  Chicken Salad Bowl   \n",
       "2315       926         1          Steak Bowl   \n",
       "2316       926         1     Chicken Burrito   \n",
       "2317       926         1          Steak Bowl   \n",
       "2318       926         1        Chicken Bowl   \n",
       "2319       926         1          Steak Bowl   \n",
       "2320       926         1     Chicken Burrito   \n",
       "2321       926         1        Chicken Bowl   \n",
       "2322       926         1        Chicken Bowl   \n",
       "2323       926         1    Barbacoa Burrito   \n",
       "2324       926         1     Chicken Burrito   \n",
       "2325       926         1          Steak Bowl   \n",
       "2326       926         1         Veggie Bowl   \n",
       "\n",
       "                                     choice_description  item_price  \n",
       "2304  [Fresh Tomato Salsa, [Rice, Sour Cream, Lettuce]]        9.25  \n",
       "2305  [Roasted Chili Corn Salsa, [Fajita Vegetables,...        8.75  \n",
       "2306  [Roasted Chili Corn Salsa, [Fajita Vegetables,...        8.75  \n",
       "2307  [Roasted Chili Corn Salsa, [Fajita Vegetables,...        8.75  \n",
       "2308  [Fresh Tomato Salsa, [Rice, Black Beans, Lettu...        9.25  \n",
       "2309  [Fresh Tomato Salsa, [Rice, Black Beans, Chees...        8.75  \n",
       "2310  [Roasted Chili Corn Salsa, [Rice, Cheese, Sour...        9.25  \n",
       "2311  [Fresh Tomato Salsa, [Rice, Black Beans, Chees...        8.75  \n",
       "2312              [Fresh Tomato Salsa, [Rice, Lettuce]]        8.75  \n",
       "2313  [Fresh Tomato Salsa, [Rice, Cheese, Sour Cream...        8.75  \n",
       "2314     [Roasted Chili Corn Salsa, [Rice, Sour Cream]]        8.75  \n",
       "2315  [Fresh Tomato Salsa, [Rice, Black Beans, Chees...        9.25  \n",
       "2316  [Roasted Chili Corn Salsa, [Rice, Black Beans,...        8.75  \n",
       "2317  [Roasted Chili Corn Salsa, [Rice, Black Beans,...        9.25  \n",
       "2318  [Roasted Chili Corn Salsa, [Fajita Vegetables,...        8.75  \n",
       "2319               [Fresh Tomato Salsa, [Rice, Cheese]]        9.25  \n",
       "2320      [Fresh Tomato Salsa, [Rice, Cheese, Lettuce]]        8.75  \n",
       "2321  [Roasted Chili Corn Salsa, [Rice, Pinto Beans,...        8.75  \n",
       "2322         [Roasted Chili Corn Salsa, [Rice, Cheese]]        8.75  \n",
       "2323  [Fresh Tomato Salsa, [Rice, Black Beans, Chees...        9.25  \n",
       "2324  [Tomatillo Red Chili Salsa, [Rice, Cheese, Sou...        8.75  \n",
       "2325  [Tomatillo Red Chili Salsa, [Rice, Black Beans...        9.25  \n",
       "2326  [Roasted Chili Corn Salsa, [Rice, Black Beans,...        8.75  "
      ]
     },
     "execution_count": 34,
     "metadata": {},
     "output_type": "execute_result"
    }
   ],
   "source": [
    "df[df[\"order_id\"]==commande_plus_cher]"
   ]
  },
  {
   "cell_type": "markdown",
   "metadata": {
    "id": "Np-zVSC3YOzu"
   },
   "source": [
    "Quel item du menu a été le plus vendu ?\n",
    "\n",
    "Indice : La méthode DataFrame.idxmax() renvoie la ligne du DataFrame correspondant au maximum de la colonne."
   ]
  },
  {
   "cell_type": "code",
   "execution_count": 35,
   "metadata": {},
   "outputs": [
    {
     "data": {
      "text/plain": [
       "Index(['order_id', 'quantity', 'item_name', 'choice_description',\n",
       "       'item_price'],\n",
       "      dtype='object')"
      ]
     },
     "execution_count": 35,
     "metadata": {},
     "output_type": "execute_result"
    }
   ],
   "source": [
    "df.columns"
   ]
  },
  {
   "cell_type": "code",
   "execution_count": 36,
   "metadata": {
    "id": "rnNmUhi7YBSv"
   },
   "outputs": [
    {
     "data": {
      "text/html": [
       "<div>\n",
       "<style scoped>\n",
       "    .dataframe tbody tr th:only-of-type {\n",
       "        vertical-align: middle;\n",
       "    }\n",
       "\n",
       "    .dataframe tbody tr th {\n",
       "        vertical-align: top;\n",
       "    }\n",
       "\n",
       "    .dataframe thead th {\n",
       "        text-align: right;\n",
       "    }\n",
       "</style>\n",
       "<table border=\"1\" class=\"dataframe\">\n",
       "  <thead>\n",
       "    <tr style=\"text-align: right;\">\n",
       "      <th></th>\n",
       "      <th>quantity</th>\n",
       "      <th>item_price</th>\n",
       "    </tr>\n",
       "    <tr>\n",
       "      <th>item_name</th>\n",
       "      <th></th>\n",
       "      <th></th>\n",
       "    </tr>\n",
       "  </thead>\n",
       "  <tbody>\n",
       "    <tr>\n",
       "      <th>Chicken Bowl</th>\n",
       "      <td>761</td>\n",
       "      <td>7342.73</td>\n",
       "    </tr>\n",
       "    <tr>\n",
       "      <th>Chicken Burrito</th>\n",
       "      <td>591</td>\n",
       "      <td>5575.82</td>\n",
       "    </tr>\n",
       "    <tr>\n",
       "      <th>Chips and Guacamole</th>\n",
       "      <td>506</td>\n",
       "      <td>2201.04</td>\n",
       "    </tr>\n",
       "    <tr>\n",
       "      <th>Steak Burrito</th>\n",
       "      <td>386</td>\n",
       "      <td>3851.43</td>\n",
       "    </tr>\n",
       "    <tr>\n",
       "      <th>Canned Soft Drink</th>\n",
       "      <td>351</td>\n",
       "      <td>438.75</td>\n",
       "    </tr>\n",
       "    <tr>\n",
       "      <th>Chips</th>\n",
       "      <td>230</td>\n",
       "      <td>494.34</td>\n",
       "    </tr>\n",
       "    <tr>\n",
       "      <th>Steak Bowl</th>\n",
       "      <td>221</td>\n",
       "      <td>2260.19</td>\n",
       "    </tr>\n",
       "    <tr>\n",
       "      <th>Bottled Water</th>\n",
       "      <td>211</td>\n",
       "      <td>302.56</td>\n",
       "    </tr>\n",
       "    <tr>\n",
       "      <th>Chips and Fresh Tomato Salsa</th>\n",
       "      <td>130</td>\n",
       "      <td>361.36</td>\n",
       "    </tr>\n",
       "    <tr>\n",
       "      <th>Canned Soda</th>\n",
       "      <td>126</td>\n",
       "      <td>137.34</td>\n",
       "    </tr>\n",
       "    <tr>\n",
       "      <th>Chicken Salad Bowl</th>\n",
       "      <td>123</td>\n",
       "      <td>1228.75</td>\n",
       "    </tr>\n",
       "    <tr>\n",
       "      <th>Chicken Soft Tacos</th>\n",
       "      <td>120</td>\n",
       "      <td>1108.09</td>\n",
       "    </tr>\n",
       "    <tr>\n",
       "      <th>Side of Chips</th>\n",
       "      <td>110</td>\n",
       "      <td>185.90</td>\n",
       "    </tr>\n",
       "    <tr>\n",
       "      <th>Veggie Burrito</th>\n",
       "      <td>97</td>\n",
       "      <td>934.77</td>\n",
       "    </tr>\n",
       "    <tr>\n",
       "      <th>Barbacoa Burrito</th>\n",
       "      <td>91</td>\n",
       "      <td>894.75</td>\n",
       "    </tr>\n",
       "    <tr>\n",
       "      <th>Veggie Bowl</th>\n",
       "      <td>87</td>\n",
       "      <td>867.99</td>\n",
       "    </tr>\n",
       "    <tr>\n",
       "      <th>Carnitas Bowl</th>\n",
       "      <td>71</td>\n",
       "      <td>736.71</td>\n",
       "    </tr>\n",
       "    <tr>\n",
       "      <th>Barbacoa Bowl</th>\n",
       "      <td>66</td>\n",
       "      <td>672.36</td>\n",
       "    </tr>\n",
       "    <tr>\n",
       "      <th>Carnitas Burrito</th>\n",
       "      <td>60</td>\n",
       "      <td>597.83</td>\n",
       "    </tr>\n",
       "    <tr>\n",
       "      <th>Steak Soft Tacos</th>\n",
       "      <td>56</td>\n",
       "      <td>536.05</td>\n",
       "    </tr>\n",
       "    <tr>\n",
       "      <th>6 Pack Soft Drink</th>\n",
       "      <td>55</td>\n",
       "      <td>356.95</td>\n",
       "    </tr>\n",
       "    <tr>\n",
       "      <th>Chips and Tomatillo Red Chili Salsa</th>\n",
       "      <td>50</td>\n",
       "      <td>147.50</td>\n",
       "    </tr>\n",
       "    <tr>\n",
       "      <th>Chicken Crispy Tacos</th>\n",
       "      <td>50</td>\n",
       "      <td>472.13</td>\n",
       "    </tr>\n",
       "    <tr>\n",
       "      <th>Chips and Tomatillo Green Chili Salsa</th>\n",
       "      <td>45</td>\n",
       "      <td>132.75</td>\n",
       "    </tr>\n",
       "    <tr>\n",
       "      <th>Carnitas Soft Tacos</th>\n",
       "      <td>40</td>\n",
       "      <td>375.94</td>\n",
       "    </tr>\n",
       "    <tr>\n",
       "      <th>Steak Crispy Tacos</th>\n",
       "      <td>36</td>\n",
       "      <td>357.34</td>\n",
       "    </tr>\n",
       "    <tr>\n",
       "      <th>Chips and Tomatillo-Green Chili Salsa</th>\n",
       "      <td>33</td>\n",
       "      <td>78.87</td>\n",
       "    </tr>\n",
       "    <tr>\n",
       "      <th>Steak Salad Bowl</th>\n",
       "      <td>31</td>\n",
       "      <td>343.59</td>\n",
       "    </tr>\n",
       "    <tr>\n",
       "      <th>Nantucket Nectar</th>\n",
       "      <td>29</td>\n",
       "      <td>98.31</td>\n",
       "    </tr>\n",
       "    <tr>\n",
       "      <th>Chips and Tomatillo-Red Chili Salsa</th>\n",
       "      <td>25</td>\n",
       "      <td>59.75</td>\n",
       "    </tr>\n",
       "    <tr>\n",
       "      <th>Barbacoa Soft Tacos</th>\n",
       "      <td>25</td>\n",
       "      <td>250.46</td>\n",
       "    </tr>\n",
       "    <tr>\n",
       "      <th>Chips and Roasted Chili Corn Salsa</th>\n",
       "      <td>23</td>\n",
       "      <td>67.85</td>\n",
       "    </tr>\n",
       "    <tr>\n",
       "      <th>Izze</th>\n",
       "      <td>20</td>\n",
       "      <td>67.80</td>\n",
       "    </tr>\n",
       "    <tr>\n",
       "      <th>Veggie Salad Bowl</th>\n",
       "      <td>18</td>\n",
       "      <td>182.50</td>\n",
       "    </tr>\n",
       "    <tr>\n",
       "      <th>Chips and Roasted Chili-Corn Salsa</th>\n",
       "      <td>18</td>\n",
       "      <td>43.02</td>\n",
       "    </tr>\n",
       "    <tr>\n",
       "      <th>Barbacoa Crispy Tacos</th>\n",
       "      <td>12</td>\n",
       "      <td>120.21</td>\n",
       "    </tr>\n",
       "    <tr>\n",
       "      <th>Barbacoa Salad Bowl</th>\n",
       "      <td>10</td>\n",
       "      <td>106.40</td>\n",
       "    </tr>\n",
       "    <tr>\n",
       "      <th>Chicken Salad</th>\n",
       "      <td>9</td>\n",
       "      <td>81.09</td>\n",
       "    </tr>\n",
       "    <tr>\n",
       "      <th>Carnitas Crispy Tacos</th>\n",
       "      <td>8</td>\n",
       "      <td>77.96</td>\n",
       "    </tr>\n",
       "    <tr>\n",
       "      <th>Veggie Soft Tacos</th>\n",
       "      <td>8</td>\n",
       "      <td>73.96</td>\n",
       "    </tr>\n",
       "    <tr>\n",
       "      <th>Burrito</th>\n",
       "      <td>6</td>\n",
       "      <td>44.40</td>\n",
       "    </tr>\n",
       "    <tr>\n",
       "      <th>Veggie Salad</th>\n",
       "      <td>6</td>\n",
       "      <td>50.94</td>\n",
       "    </tr>\n",
       "    <tr>\n",
       "      <th>Carnitas Salad Bowl</th>\n",
       "      <td>6</td>\n",
       "      <td>66.34</td>\n",
       "    </tr>\n",
       "    <tr>\n",
       "      <th>Bowl</th>\n",
       "      <td>4</td>\n",
       "      <td>29.60</td>\n",
       "    </tr>\n",
       "    <tr>\n",
       "      <th>Steak Salad</th>\n",
       "      <td>4</td>\n",
       "      <td>35.66</td>\n",
       "    </tr>\n",
       "    <tr>\n",
       "      <th>Salad</th>\n",
       "      <td>2</td>\n",
       "      <td>14.80</td>\n",
       "    </tr>\n",
       "    <tr>\n",
       "      <th>Crispy Tacos</th>\n",
       "      <td>2</td>\n",
       "      <td>14.80</td>\n",
       "    </tr>\n",
       "    <tr>\n",
       "      <th>Chips and Mild Fresh Tomato Salsa</th>\n",
       "      <td>1</td>\n",
       "      <td>3.00</td>\n",
       "    </tr>\n",
       "    <tr>\n",
       "      <th>Carnitas Salad</th>\n",
       "      <td>1</td>\n",
       "      <td>8.99</td>\n",
       "    </tr>\n",
       "    <tr>\n",
       "      <th>Veggie Crispy Tacos</th>\n",
       "      <td>1</td>\n",
       "      <td>8.49</td>\n",
       "    </tr>\n",
       "  </tbody>\n",
       "</table>\n",
       "</div>"
      ],
      "text/plain": [
       "                                       quantity  item_price\n",
       "item_name                                                  \n",
       "Chicken Bowl                                761     7342.73\n",
       "Chicken Burrito                             591     5575.82\n",
       "Chips and Guacamole                         506     2201.04\n",
       "Steak Burrito                               386     3851.43\n",
       "Canned Soft Drink                           351      438.75\n",
       "Chips                                       230      494.34\n",
       "Steak Bowl                                  221     2260.19\n",
       "Bottled Water                               211      302.56\n",
       "Chips and Fresh Tomato Salsa                130      361.36\n",
       "Canned Soda                                 126      137.34\n",
       "Chicken Salad Bowl                          123     1228.75\n",
       "Chicken Soft Tacos                          120     1108.09\n",
       "Side of Chips                               110      185.90\n",
       "Veggie Burrito                               97      934.77\n",
       "Barbacoa Burrito                             91      894.75\n",
       "Veggie Bowl                                  87      867.99\n",
       "Carnitas Bowl                                71      736.71\n",
       "Barbacoa Bowl                                66      672.36\n",
       "Carnitas Burrito                             60      597.83\n",
       "Steak Soft Tacos                             56      536.05\n",
       "6 Pack Soft Drink                            55      356.95\n",
       "Chips and Tomatillo Red Chili Salsa          50      147.50\n",
       "Chicken Crispy Tacos                         50      472.13\n",
       "Chips and Tomatillo Green Chili Salsa        45      132.75\n",
       "Carnitas Soft Tacos                          40      375.94\n",
       "Steak Crispy Tacos                           36      357.34\n",
       "Chips and Tomatillo-Green Chili Salsa        33       78.87\n",
       "Steak Salad Bowl                             31      343.59\n",
       "Nantucket Nectar                             29       98.31\n",
       "Chips and Tomatillo-Red Chili Salsa          25       59.75\n",
       "Barbacoa Soft Tacos                          25      250.46\n",
       "Chips and Roasted Chili Corn Salsa           23       67.85\n",
       "Izze                                         20       67.80\n",
       "Veggie Salad Bowl                            18      182.50\n",
       "Chips and Roasted Chili-Corn Salsa           18       43.02\n",
       "Barbacoa Crispy Tacos                        12      120.21\n",
       "Barbacoa Salad Bowl                          10      106.40\n",
       "Chicken Salad                                 9       81.09\n",
       "Carnitas Crispy Tacos                         8       77.96\n",
       "Veggie Soft Tacos                             8       73.96\n",
       "Burrito                                       6       44.40\n",
       "Veggie Salad                                  6       50.94\n",
       "Carnitas Salad Bowl                           6       66.34\n",
       "Bowl                                          4       29.60\n",
       "Steak Salad                                   4       35.66\n",
       "Salad                                         2       14.80\n",
       "Crispy Tacos                                  2       14.80\n",
       "Chips and Mild Fresh Tomato Salsa             1        3.00\n",
       "Carnitas Salad                                1        8.99\n",
       "Veggie Crispy Tacos                           1        8.49"
      ]
     },
     "execution_count": 36,
     "metadata": {},
     "output_type": "execute_result"
    }
   ],
   "source": [
    "df[[\"item_name\",\"quantity\",\"item_price\"]].groupby(\"item_name\").sum().sort_values(ascending=False, by=\"quantity\")"
   ]
  },
  {
   "cell_type": "code",
   "execution_count": 37,
   "metadata": {},
   "outputs": [
    {
     "data": {
      "text/plain": [
       "item_name\n",
       "6 Pack Soft Drink                         55\n",
       "Barbacoa Bowl                             66\n",
       "Barbacoa Burrito                          91\n",
       "Barbacoa Crispy Tacos                     12\n",
       "Barbacoa Salad Bowl                       10\n",
       "Barbacoa Soft Tacos                       25\n",
       "Bottled Water                            211\n",
       "Bowl                                       4\n",
       "Burrito                                    6\n",
       "Canned Soda                              126\n",
       "Canned Soft Drink                        351\n",
       "Carnitas Bowl                             71\n",
       "Carnitas Burrito                          60\n",
       "Carnitas Crispy Tacos                      8\n",
       "Carnitas Salad                             1\n",
       "Carnitas Salad Bowl                        6\n",
       "Carnitas Soft Tacos                       40\n",
       "Chicken Bowl                             761\n",
       "Chicken Burrito                          591\n",
       "Chicken Crispy Tacos                      50\n",
       "Chicken Salad                              9\n",
       "Chicken Salad Bowl                       123\n",
       "Chicken Soft Tacos                       120\n",
       "Chips                                    230\n",
       "Chips and Fresh Tomato Salsa             130\n",
       "Chips and Guacamole                      506\n",
       "Chips and Mild Fresh Tomato Salsa          1\n",
       "Chips and Roasted Chili Corn Salsa        23\n",
       "Chips and Roasted Chili-Corn Salsa        18\n",
       "Chips and Tomatillo Green Chili Salsa     45\n",
       "Chips and Tomatillo Red Chili Salsa       50\n",
       "Chips and Tomatillo-Green Chili Salsa     33\n",
       "Chips and Tomatillo-Red Chili Salsa       25\n",
       "Crispy Tacos                               2\n",
       "Izze                                      20\n",
       "Nantucket Nectar                          29\n",
       "Salad                                      2\n",
       "Side of Chips                            110\n",
       "Steak Bowl                               221\n",
       "Steak Burrito                            386\n",
       "Steak Crispy Tacos                        36\n",
       "Steak Salad                                4\n",
       "Steak Salad Bowl                          31\n",
       "Steak Soft Tacos                          56\n",
       "Veggie Bowl                               87\n",
       "Veggie Burrito                            97\n",
       "Veggie Crispy Tacos                        1\n",
       "Veggie Salad                               6\n",
       "Veggie Salad Bowl                         18\n",
       "Veggie Soft Tacos                          8\n",
       "Name: quantity, dtype: int64"
      ]
     },
     "execution_count": 37,
     "metadata": {},
     "output_type": "execute_result"
    }
   ],
   "source": [
    "df.groupby(\"item_name\")[\"quantity\"].sum()"
   ]
  },
  {
   "cell_type": "code",
   "execution_count": 38,
   "metadata": {},
   "outputs": [
    {
     "data": {
      "text/plain": [
       "'Chicken Bowl'"
      ]
     },
     "execution_count": 38,
     "metadata": {},
     "output_type": "execute_result"
    }
   ],
   "source": [
    "df.groupby(\"item_name\")[\"quantity\"].sum().idxmax()"
   ]
  },
  {
   "cell_type": "markdown",
   "metadata": {
    "id": "V2AFnmj8b910"
   },
   "source": [
    "Combien de cet item du menu ont été vendus ?"
   ]
  },
  {
   "cell_type": "code",
   "execution_count": 39,
   "metadata": {
    "id": "HIA5R6ZHYY1D"
   },
   "outputs": [
    {
     "data": {
      "text/plain": [
       "item_name\n",
       "Chicken Bowl    761\n",
       "Name: quantity, dtype: int64"
      ]
     },
     "execution_count": 39,
     "metadata": {},
     "output_type": "execute_result"
    }
   ],
   "source": [
    "df.groupby(\"item_name\")[\"quantity\"].sum().sort_values(ascending=False).head(1)"
   ]
  },
  {
   "cell_type": "markdown",
   "metadata": {
    "id": "POxogANvhRm1"
   },
   "source": [
    "La colonne `item_price` correspond au prix total payé pour chaque item dans une vente donnée. Ce prix est donc égal au prix unitaire de l'item multiplié par la quantité que le client a achetée. Calculer le prix unitaire de chaque item dans chaque commande."
   ]
  },
  {
   "cell_type": "code",
   "execution_count": 40,
   "metadata": {
    "id": "SKO40WYTfftE"
   },
   "outputs": [],
   "source": [
    "df[\"unit_price\"] = df[\"item_price\"] / df[\"quantity\"]"
   ]
  },
  {
   "cell_type": "markdown",
   "metadata": {
    "id": "QWksFXCRhmps"
   },
   "source": [
    "En fonction des options choisies, le prix unitaire du même item peut varier d'une commande à l'autre. Quel est l'intervalle de prix pour chaque item du menu ?"
   ]
  },
  {
   "cell_type": "code",
   "execution_count": 41,
   "metadata": {
    "id": "rqJvdckKgmff"
   },
   "outputs": [
    {
     "data": {
      "text/plain": [
       "item_name\n",
       "6 Pack Soft Drink                         (6.49, 6.49)\n",
       "Barbacoa Bowl                            (8.69, 11.75)\n",
       "Barbacoa Burrito                         (8.69, 11.75)\n",
       "Barbacoa Crispy Tacos                    (8.99, 11.75)\n",
       "Barbacoa Salad Bowl                      (9.39, 11.89)\n",
       "Barbacoa Soft Tacos                      (8.99, 11.75)\n",
       "Bottled Water                              (1.09, 1.5)\n",
       "Bowl                                        (7.4, 7.4)\n",
       "Burrito                                     (7.4, 7.4)\n",
       "Canned Soda                               (1.09, 1.09)\n",
       "Canned Soft Drink                         (1.25, 1.25)\n",
       "Carnitas Bowl                            (8.99, 11.75)\n",
       "Carnitas Burrito                         (8.69, 11.75)\n",
       "Carnitas Crispy Tacos                    (8.99, 11.75)\n",
       "Carnitas Salad                            (8.99, 8.99)\n",
       "Carnitas Salad Bowl                      (9.39, 11.89)\n",
       "Carnitas Soft Tacos                      (8.99, 11.75)\n",
       "Chicken Bowl                             (8.19, 11.25)\n",
       "Chicken Burrito                          (8.19, 11.25)\n",
       "Chicken Crispy Tacos                     (8.49, 11.25)\n",
       "Chicken Salad                            (8.19, 10.98)\n",
       "Chicken Salad Bowl                       (8.75, 11.25)\n",
       "Chicken Soft Tacos                       (8.49, 11.25)\n",
       "Chips                                     (1.99, 2.15)\n",
       "Chips and Fresh Tomato Salsa              (2.29, 2.95)\n",
       "Chips and Guacamole                       (3.89, 4.45)\n",
       "Chips and Mild Fresh Tomato Salsa           (3.0, 3.0)\n",
       "Chips and Roasted Chili Corn Salsa        (2.95, 2.95)\n",
       "Chips and Roasted Chili-Corn Salsa        (2.39, 2.39)\n",
       "Chips and Tomatillo Green Chili Salsa     (2.95, 2.95)\n",
       "Chips and Tomatillo Red Chili Salsa       (2.95, 2.95)\n",
       "Chips and Tomatillo-Green Chili Salsa     (2.39, 2.39)\n",
       "Chips and Tomatillo-Red Chili Salsa       (2.39, 2.39)\n",
       "Crispy Tacos                                (7.4, 7.4)\n",
       "Izze                                      (3.39, 3.39)\n",
       "Nantucket Nectar                          (3.39, 3.39)\n",
       "Salad                                       (7.4, 7.4)\n",
       "Side of Chips                             (1.69, 1.69)\n",
       "Steak Bowl                               (8.69, 11.75)\n",
       "Steak Burrito                            (8.69, 11.75)\n",
       "Steak Crispy Tacos                       (8.69, 11.75)\n",
       "Steak Salad                               (8.69, 8.99)\n",
       "Steak Salad Bowl                         (9.39, 11.89)\n",
       "Steak Soft Tacos                         (8.99, 11.75)\n",
       "Veggie Bowl                              (8.49, 11.25)\n",
       "Veggie Burrito                           (8.49, 11.25)\n",
       "Veggie Crispy Tacos                       (8.49, 8.49)\n",
       "Veggie Salad                              (8.49, 8.49)\n",
       "Veggie Salad Bowl                        (8.75, 11.25)\n",
       "Veggie Soft Tacos                        (8.49, 11.25)\n",
       "dtype: object"
      ]
     },
     "execution_count": 41,
     "metadata": {},
     "output_type": "execute_result"
    }
   ],
   "source": [
    "df[[\"item_name\", \"unit_price\"]].groupby(\"item_name\")\\\n",
    ".apply(lambda x: (round(x[\"unit_price\"].min(),2), round(x[\"unit_price\"].max(),2)))"
   ]
  },
  {
   "cell_type": "code",
   "execution_count": 42,
   "metadata": {},
   "outputs": [],
   "source": [
    "df_minmax = df[[\"item_name\", \"unit_price\"]].groupby(\"item_name\").min()"
   ]
  },
  {
   "cell_type": "code",
   "execution_count": 43,
   "metadata": {},
   "outputs": [],
   "source": [
    "df_max = df[[\"item_name\", \"unit_price\"]].groupby(\"item_name\").max()"
   ]
  },
  {
   "cell_type": "code",
   "execution_count": 44,
   "metadata": {},
   "outputs": [],
   "source": [
    "df_minmax = df_minmax.merge(df_max, on=\"item_name\")\n",
    "df_minmax.rename(columns={\"unit_price_x\":\"unit_price_min\", \"unit_price_y\":\"unit_price_max\"}, inplace=True)"
   ]
  },
  {
   "cell_type": "code",
   "execution_count": 45,
   "metadata": {},
   "outputs": [
    {
     "data": {
      "text/html": [
       "<div>\n",
       "<style scoped>\n",
       "    .dataframe tbody tr th:only-of-type {\n",
       "        vertical-align: middle;\n",
       "    }\n",
       "\n",
       "    .dataframe tbody tr th {\n",
       "        vertical-align: top;\n",
       "    }\n",
       "\n",
       "    .dataframe thead th {\n",
       "        text-align: right;\n",
       "    }\n",
       "</style>\n",
       "<table border=\"1\" class=\"dataframe\">\n",
       "  <thead>\n",
       "    <tr style=\"text-align: right;\">\n",
       "      <th></th>\n",
       "      <th>unit_price_min</th>\n",
       "      <th>unit_price_max</th>\n",
       "    </tr>\n",
       "    <tr>\n",
       "      <th>item_name</th>\n",
       "      <th></th>\n",
       "      <th></th>\n",
       "    </tr>\n",
       "  </thead>\n",
       "  <tbody>\n",
       "    <tr>\n",
       "      <th>6 Pack Soft Drink</th>\n",
       "      <td>6.49</td>\n",
       "      <td>6.49</td>\n",
       "    </tr>\n",
       "    <tr>\n",
       "      <th>Barbacoa Bowl</th>\n",
       "      <td>8.69</td>\n",
       "      <td>11.75</td>\n",
       "    </tr>\n",
       "    <tr>\n",
       "      <th>Barbacoa Burrito</th>\n",
       "      <td>8.69</td>\n",
       "      <td>11.75</td>\n",
       "    </tr>\n",
       "    <tr>\n",
       "      <th>Barbacoa Crispy Tacos</th>\n",
       "      <td>8.99</td>\n",
       "      <td>11.75</td>\n",
       "    </tr>\n",
       "    <tr>\n",
       "      <th>Barbacoa Salad Bowl</th>\n",
       "      <td>9.39</td>\n",
       "      <td>11.89</td>\n",
       "    </tr>\n",
       "    <tr>\n",
       "      <th>Barbacoa Soft Tacos</th>\n",
       "      <td>8.99</td>\n",
       "      <td>11.75</td>\n",
       "    </tr>\n",
       "    <tr>\n",
       "      <th>Bottled Water</th>\n",
       "      <td>1.09</td>\n",
       "      <td>1.50</td>\n",
       "    </tr>\n",
       "    <tr>\n",
       "      <th>Bowl</th>\n",
       "      <td>7.40</td>\n",
       "      <td>7.40</td>\n",
       "    </tr>\n",
       "    <tr>\n",
       "      <th>Burrito</th>\n",
       "      <td>7.40</td>\n",
       "      <td>7.40</td>\n",
       "    </tr>\n",
       "    <tr>\n",
       "      <th>Canned Soda</th>\n",
       "      <td>1.09</td>\n",
       "      <td>1.09</td>\n",
       "    </tr>\n",
       "    <tr>\n",
       "      <th>Canned Soft Drink</th>\n",
       "      <td>1.25</td>\n",
       "      <td>1.25</td>\n",
       "    </tr>\n",
       "    <tr>\n",
       "      <th>Carnitas Bowl</th>\n",
       "      <td>8.99</td>\n",
       "      <td>11.75</td>\n",
       "    </tr>\n",
       "    <tr>\n",
       "      <th>Carnitas Burrito</th>\n",
       "      <td>8.69</td>\n",
       "      <td>11.75</td>\n",
       "    </tr>\n",
       "    <tr>\n",
       "      <th>Carnitas Crispy Tacos</th>\n",
       "      <td>8.99</td>\n",
       "      <td>11.75</td>\n",
       "    </tr>\n",
       "    <tr>\n",
       "      <th>Carnitas Salad</th>\n",
       "      <td>8.99</td>\n",
       "      <td>8.99</td>\n",
       "    </tr>\n",
       "    <tr>\n",
       "      <th>Carnitas Salad Bowl</th>\n",
       "      <td>9.39</td>\n",
       "      <td>11.89</td>\n",
       "    </tr>\n",
       "    <tr>\n",
       "      <th>Carnitas Soft Tacos</th>\n",
       "      <td>8.99</td>\n",
       "      <td>11.75</td>\n",
       "    </tr>\n",
       "    <tr>\n",
       "      <th>Chicken Bowl</th>\n",
       "      <td>8.19</td>\n",
       "      <td>11.25</td>\n",
       "    </tr>\n",
       "    <tr>\n",
       "      <th>Chicken Burrito</th>\n",
       "      <td>8.19</td>\n",
       "      <td>11.25</td>\n",
       "    </tr>\n",
       "    <tr>\n",
       "      <th>Chicken Crispy Tacos</th>\n",
       "      <td>8.49</td>\n",
       "      <td>11.25</td>\n",
       "    </tr>\n",
       "    <tr>\n",
       "      <th>Chicken Salad</th>\n",
       "      <td>8.19</td>\n",
       "      <td>10.98</td>\n",
       "    </tr>\n",
       "    <tr>\n",
       "      <th>Chicken Salad Bowl</th>\n",
       "      <td>8.75</td>\n",
       "      <td>11.25</td>\n",
       "    </tr>\n",
       "    <tr>\n",
       "      <th>Chicken Soft Tacos</th>\n",
       "      <td>8.49</td>\n",
       "      <td>11.25</td>\n",
       "    </tr>\n",
       "    <tr>\n",
       "      <th>Chips</th>\n",
       "      <td>1.99</td>\n",
       "      <td>2.15</td>\n",
       "    </tr>\n",
       "    <tr>\n",
       "      <th>Chips and Fresh Tomato Salsa</th>\n",
       "      <td>2.29</td>\n",
       "      <td>2.95</td>\n",
       "    </tr>\n",
       "    <tr>\n",
       "      <th>Chips and Guacamole</th>\n",
       "      <td>3.89</td>\n",
       "      <td>4.45</td>\n",
       "    </tr>\n",
       "    <tr>\n",
       "      <th>Chips and Mild Fresh Tomato Salsa</th>\n",
       "      <td>3.00</td>\n",
       "      <td>3.00</td>\n",
       "    </tr>\n",
       "    <tr>\n",
       "      <th>Chips and Roasted Chili Corn Salsa</th>\n",
       "      <td>2.95</td>\n",
       "      <td>2.95</td>\n",
       "    </tr>\n",
       "    <tr>\n",
       "      <th>Chips and Roasted Chili-Corn Salsa</th>\n",
       "      <td>2.39</td>\n",
       "      <td>2.39</td>\n",
       "    </tr>\n",
       "    <tr>\n",
       "      <th>Chips and Tomatillo Green Chili Salsa</th>\n",
       "      <td>2.95</td>\n",
       "      <td>2.95</td>\n",
       "    </tr>\n",
       "    <tr>\n",
       "      <th>Chips and Tomatillo Red Chili Salsa</th>\n",
       "      <td>2.95</td>\n",
       "      <td>2.95</td>\n",
       "    </tr>\n",
       "    <tr>\n",
       "      <th>Chips and Tomatillo-Green Chili Salsa</th>\n",
       "      <td>2.39</td>\n",
       "      <td>2.39</td>\n",
       "    </tr>\n",
       "    <tr>\n",
       "      <th>Chips and Tomatillo-Red Chili Salsa</th>\n",
       "      <td>2.39</td>\n",
       "      <td>2.39</td>\n",
       "    </tr>\n",
       "    <tr>\n",
       "      <th>Crispy Tacos</th>\n",
       "      <td>7.40</td>\n",
       "      <td>7.40</td>\n",
       "    </tr>\n",
       "    <tr>\n",
       "      <th>Izze</th>\n",
       "      <td>3.39</td>\n",
       "      <td>3.39</td>\n",
       "    </tr>\n",
       "    <tr>\n",
       "      <th>Nantucket Nectar</th>\n",
       "      <td>3.39</td>\n",
       "      <td>3.39</td>\n",
       "    </tr>\n",
       "    <tr>\n",
       "      <th>Salad</th>\n",
       "      <td>7.40</td>\n",
       "      <td>7.40</td>\n",
       "    </tr>\n",
       "    <tr>\n",
       "      <th>Side of Chips</th>\n",
       "      <td>1.69</td>\n",
       "      <td>1.69</td>\n",
       "    </tr>\n",
       "    <tr>\n",
       "      <th>Steak Bowl</th>\n",
       "      <td>8.69</td>\n",
       "      <td>11.75</td>\n",
       "    </tr>\n",
       "    <tr>\n",
       "      <th>Steak Burrito</th>\n",
       "      <td>8.69</td>\n",
       "      <td>11.75</td>\n",
       "    </tr>\n",
       "    <tr>\n",
       "      <th>Steak Crispy Tacos</th>\n",
       "      <td>8.69</td>\n",
       "      <td>11.75</td>\n",
       "    </tr>\n",
       "    <tr>\n",
       "      <th>Steak Salad</th>\n",
       "      <td>8.69</td>\n",
       "      <td>8.99</td>\n",
       "    </tr>\n",
       "    <tr>\n",
       "      <th>Steak Salad Bowl</th>\n",
       "      <td>9.39</td>\n",
       "      <td>11.89</td>\n",
       "    </tr>\n",
       "    <tr>\n",
       "      <th>Steak Soft Tacos</th>\n",
       "      <td>8.99</td>\n",
       "      <td>11.75</td>\n",
       "    </tr>\n",
       "    <tr>\n",
       "      <th>Veggie Bowl</th>\n",
       "      <td>8.49</td>\n",
       "      <td>11.25</td>\n",
       "    </tr>\n",
       "    <tr>\n",
       "      <th>Veggie Burrito</th>\n",
       "      <td>8.49</td>\n",
       "      <td>11.25</td>\n",
       "    </tr>\n",
       "    <tr>\n",
       "      <th>Veggie Crispy Tacos</th>\n",
       "      <td>8.49</td>\n",
       "      <td>8.49</td>\n",
       "    </tr>\n",
       "    <tr>\n",
       "      <th>Veggie Salad</th>\n",
       "      <td>8.49</td>\n",
       "      <td>8.49</td>\n",
       "    </tr>\n",
       "    <tr>\n",
       "      <th>Veggie Salad Bowl</th>\n",
       "      <td>8.75</td>\n",
       "      <td>11.25</td>\n",
       "    </tr>\n",
       "    <tr>\n",
       "      <th>Veggie Soft Tacos</th>\n",
       "      <td>8.49</td>\n",
       "      <td>11.25</td>\n",
       "    </tr>\n",
       "  </tbody>\n",
       "</table>\n",
       "</div>"
      ],
      "text/plain": [
       "                                       unit_price_min  unit_price_max\n",
       "item_name                                                            \n",
       "6 Pack Soft Drink                                6.49            6.49\n",
       "Barbacoa Bowl                                    8.69           11.75\n",
       "Barbacoa Burrito                                 8.69           11.75\n",
       "Barbacoa Crispy Tacos                            8.99           11.75\n",
       "Barbacoa Salad Bowl                              9.39           11.89\n",
       "Barbacoa Soft Tacos                              8.99           11.75\n",
       "Bottled Water                                    1.09            1.50\n",
       "Bowl                                             7.40            7.40\n",
       "Burrito                                          7.40            7.40\n",
       "Canned Soda                                      1.09            1.09\n",
       "Canned Soft Drink                                1.25            1.25\n",
       "Carnitas Bowl                                    8.99           11.75\n",
       "Carnitas Burrito                                 8.69           11.75\n",
       "Carnitas Crispy Tacos                            8.99           11.75\n",
       "Carnitas Salad                                   8.99            8.99\n",
       "Carnitas Salad Bowl                              9.39           11.89\n",
       "Carnitas Soft Tacos                              8.99           11.75\n",
       "Chicken Bowl                                     8.19           11.25\n",
       "Chicken Burrito                                  8.19           11.25\n",
       "Chicken Crispy Tacos                             8.49           11.25\n",
       "Chicken Salad                                    8.19           10.98\n",
       "Chicken Salad Bowl                               8.75           11.25\n",
       "Chicken Soft Tacos                               8.49           11.25\n",
       "Chips                                            1.99            2.15\n",
       "Chips and Fresh Tomato Salsa                     2.29            2.95\n",
       "Chips and Guacamole                              3.89            4.45\n",
       "Chips and Mild Fresh Tomato Salsa                3.00            3.00\n",
       "Chips and Roasted Chili Corn Salsa               2.95            2.95\n",
       "Chips and Roasted Chili-Corn Salsa               2.39            2.39\n",
       "Chips and Tomatillo Green Chili Salsa            2.95            2.95\n",
       "Chips and Tomatillo Red Chili Salsa              2.95            2.95\n",
       "Chips and Tomatillo-Green Chili Salsa            2.39            2.39\n",
       "Chips and Tomatillo-Red Chili Salsa              2.39            2.39\n",
       "Crispy Tacos                                     7.40            7.40\n",
       "Izze                                             3.39            3.39\n",
       "Nantucket Nectar                                 3.39            3.39\n",
       "Salad                                            7.40            7.40\n",
       "Side of Chips                                    1.69            1.69\n",
       "Steak Bowl                                       8.69           11.75\n",
       "Steak Burrito                                    8.69           11.75\n",
       "Steak Crispy Tacos                               8.69           11.75\n",
       "Steak Salad                                      8.69            8.99\n",
       "Steak Salad Bowl                                 9.39           11.89\n",
       "Steak Soft Tacos                                 8.99           11.75\n",
       "Veggie Bowl                                      8.49           11.25\n",
       "Veggie Burrito                                   8.49           11.25\n",
       "Veggie Crispy Tacos                              8.49            8.49\n",
       "Veggie Salad                                     8.49            8.49\n",
       "Veggie Salad Bowl                                8.75           11.25\n",
       "Veggie Soft Tacos                                8.49           11.25"
      ]
     },
     "execution_count": 45,
     "metadata": {},
     "output_type": "execute_result"
    }
   ],
   "source": [
    "df_minmax"
   ]
  },
  {
   "cell_type": "markdown",
   "metadata": {
    "id": "yCSJ1iXc1xsN"
   },
   "source": [
    "Calculer combien d'items coûtent toujous plus que $8."
   ]
  },
  {
   "cell_type": "code",
   "execution_count": 46,
   "metadata": {
    "id": "WzRjHELn1xG8"
   },
   "outputs": [
    {
     "data": {
      "text/plain": [
       "29"
      ]
     },
     "execution_count": 46,
     "metadata": {},
     "output_type": "execute_result"
    }
   ],
   "source": [
    "count_items_above_8 = (df_minmax[\"unit_price_min\"] > 8).sum()\n",
    "count_items_above_8"
   ]
  },
  {
   "cell_type": "code",
   "execution_count": 47,
   "metadata": {},
   "outputs": [
    {
     "data": {
      "text/plain": [
       "['Barbacoa Bowl',\n",
       " 'Barbacoa Burrito',\n",
       " 'Barbacoa Crispy Tacos',\n",
       " 'Barbacoa Salad Bowl',\n",
       " 'Barbacoa Soft Tacos',\n",
       " 'Carnitas Bowl',\n",
       " 'Carnitas Burrito',\n",
       " 'Carnitas Crispy Tacos',\n",
       " 'Carnitas Salad',\n",
       " 'Carnitas Salad Bowl',\n",
       " 'Carnitas Soft Tacos',\n",
       " 'Chicken Bowl',\n",
       " 'Chicken Burrito',\n",
       " 'Chicken Crispy Tacos',\n",
       " 'Chicken Salad',\n",
       " 'Chicken Salad Bowl',\n",
       " 'Chicken Soft Tacos',\n",
       " 'Steak Bowl',\n",
       " 'Steak Burrito',\n",
       " 'Steak Crispy Tacos',\n",
       " 'Steak Salad',\n",
       " 'Steak Salad Bowl',\n",
       " 'Steak Soft Tacos',\n",
       " 'Veggie Bowl',\n",
       " 'Veggie Burrito',\n",
       " 'Veggie Crispy Tacos',\n",
       " 'Veggie Salad',\n",
       " 'Veggie Salad Bowl',\n",
       " 'Veggie Soft Tacos']"
      ]
     },
     "execution_count": 47,
     "metadata": {},
     "output_type": "execute_result"
    }
   ],
   "source": [
    "df_minmax[\"unit_price_min\"][df_minmax[\"unit_price_min\"] > 8].index.to_list()"
   ]
  },
  {
   "cell_type": "markdown",
   "metadata": {
    "id": "IXm2r0Tjh6J-"
   },
   "source": [
    "Calculer le pourcentage des ventes dû à chaque item du menu."
   ]
  },
  {
   "cell_type": "code",
   "execution_count": 48,
   "metadata": {},
   "outputs": [
    {
     "data": {
      "text/plain": [
       "34500.16"
      ]
     },
     "execution_count": 48,
     "metadata": {},
     "output_type": "execute_result"
    }
   ],
   "source": [
    "df[\"item_price\"].sum()"
   ]
  },
  {
   "cell_type": "code",
   "execution_count": 49,
   "metadata": {},
   "outputs": [
    {
     "data": {
      "text/html": [
       "<div>\n",
       "<style scoped>\n",
       "    .dataframe tbody tr th:only-of-type {\n",
       "        vertical-align: middle;\n",
       "    }\n",
       "\n",
       "    .dataframe tbody tr th {\n",
       "        vertical-align: top;\n",
       "    }\n",
       "\n",
       "    .dataframe thead th {\n",
       "        text-align: right;\n",
       "    }\n",
       "</style>\n",
       "<table border=\"1\" class=\"dataframe\">\n",
       "  <thead>\n",
       "    <tr style=\"text-align: right;\">\n",
       "      <th></th>\n",
       "      <th>item_price</th>\n",
       "    </tr>\n",
       "    <tr>\n",
       "      <th>item_name</th>\n",
       "      <th></th>\n",
       "    </tr>\n",
       "  </thead>\n",
       "  <tbody>\n",
       "    <tr>\n",
       "      <th>Chicken Bowl</th>\n",
       "      <td>0.212832</td>\n",
       "    </tr>\n",
       "    <tr>\n",
       "      <th>Chicken Burrito</th>\n",
       "      <td>0.161617</td>\n",
       "    </tr>\n",
       "    <tr>\n",
       "      <th>Steak Burrito</th>\n",
       "      <td>0.111635</td>\n",
       "    </tr>\n",
       "    <tr>\n",
       "      <th>Steak Bowl</th>\n",
       "      <td>0.065512</td>\n",
       "    </tr>\n",
       "    <tr>\n",
       "      <th>Chips and Guacamole</th>\n",
       "      <td>0.063798</td>\n",
       "    </tr>\n",
       "    <tr>\n",
       "      <th>Chicken Salad Bowl</th>\n",
       "      <td>0.035616</td>\n",
       "    </tr>\n",
       "    <tr>\n",
       "      <th>Chicken Soft Tacos</th>\n",
       "      <td>0.032118</td>\n",
       "    </tr>\n",
       "    <tr>\n",
       "      <th>Veggie Burrito</th>\n",
       "      <td>0.027095</td>\n",
       "    </tr>\n",
       "    <tr>\n",
       "      <th>Barbacoa Burrito</th>\n",
       "      <td>0.025935</td>\n",
       "    </tr>\n",
       "    <tr>\n",
       "      <th>Veggie Bowl</th>\n",
       "      <td>0.025159</td>\n",
       "    </tr>\n",
       "  </tbody>\n",
       "</table>\n",
       "</div>"
      ],
      "text/plain": [
       "                     item_price\n",
       "item_name                      \n",
       "Chicken Bowl           0.212832\n",
       "Chicken Burrito        0.161617\n",
       "Steak Burrito          0.111635\n",
       "Steak Bowl             0.065512\n",
       "Chips and Guacamole    0.063798\n",
       "Chicken Salad Bowl     0.035616\n",
       "Chicken Soft Tacos     0.032118\n",
       "Veggie Burrito         0.027095\n",
       "Barbacoa Burrito       0.025935\n",
       "Veggie Bowl            0.025159"
      ]
     },
     "execution_count": 49,
     "metadata": {},
     "output_type": "execute_result"
    }
   ],
   "source": [
    "df_percent = df[[\"item_name\",\"item_price\"]].groupby(\"item_name\").sum()/df[\"item_price\"].sum()\n",
    "df_percent = df_percent.sort_values(by=\"item_price\", ascending=False)\n",
    "df_percent.head(10)"
   ]
  },
  {
   "cell_type": "markdown",
   "metadata": {
    "id": "kHYV8PAnzEqq"
   },
   "source": [
    "À quel pourcentage des ventes correspondent les 5 items les plus vendus en nombre ? Les 5 items dont le pourcentage des ventes est le plus haut ?"
   ]
  },
  {
   "cell_type": "code",
   "execution_count": 50,
   "metadata": {
    "id": "femfFs5g0Hb0"
   },
   "outputs": [],
   "source": [
    "item_plus_vendus = df[[\"item_name\",\"quantity\"]].groupby(\"item_name\").sum().sort_values(ascending=False, by=\"quantity\")"
   ]
  },
  {
   "cell_type": "code",
   "execution_count": 51,
   "metadata": {},
   "outputs": [
    {
     "data": {
      "text/html": [
       "<div>\n",
       "<style scoped>\n",
       "    .dataframe tbody tr th:only-of-type {\n",
       "        vertical-align: middle;\n",
       "    }\n",
       "\n",
       "    .dataframe tbody tr th {\n",
       "        vertical-align: top;\n",
       "    }\n",
       "\n",
       "    .dataframe thead th {\n",
       "        text-align: right;\n",
       "    }\n",
       "</style>\n",
       "<table border=\"1\" class=\"dataframe\">\n",
       "  <thead>\n",
       "    <tr style=\"text-align: right;\">\n",
       "      <th></th>\n",
       "      <th>quantity</th>\n",
       "    </tr>\n",
       "    <tr>\n",
       "      <th>item_name</th>\n",
       "      <th></th>\n",
       "    </tr>\n",
       "  </thead>\n",
       "  <tbody>\n",
       "    <tr>\n",
       "      <th>Chicken Bowl</th>\n",
       "      <td>761</td>\n",
       "    </tr>\n",
       "    <tr>\n",
       "      <th>Chicken Burrito</th>\n",
       "      <td>591</td>\n",
       "    </tr>\n",
       "    <tr>\n",
       "      <th>Chips and Guacamole</th>\n",
       "      <td>506</td>\n",
       "    </tr>\n",
       "    <tr>\n",
       "      <th>Steak Burrito</th>\n",
       "      <td>386</td>\n",
       "    </tr>\n",
       "    <tr>\n",
       "      <th>Canned Soft Drink</th>\n",
       "      <td>351</td>\n",
       "    </tr>\n",
       "    <tr>\n",
       "      <th>Chips</th>\n",
       "      <td>230</td>\n",
       "    </tr>\n",
       "    <tr>\n",
       "      <th>Steak Bowl</th>\n",
       "      <td>221</td>\n",
       "    </tr>\n",
       "    <tr>\n",
       "      <th>Bottled Water</th>\n",
       "      <td>211</td>\n",
       "    </tr>\n",
       "    <tr>\n",
       "      <th>Chips and Fresh Tomato Salsa</th>\n",
       "      <td>130</td>\n",
       "    </tr>\n",
       "    <tr>\n",
       "      <th>Canned Soda</th>\n",
       "      <td>126</td>\n",
       "    </tr>\n",
       "    <tr>\n",
       "      <th>Chicken Salad Bowl</th>\n",
       "      <td>123</td>\n",
       "    </tr>\n",
       "    <tr>\n",
       "      <th>Chicken Soft Tacos</th>\n",
       "      <td>120</td>\n",
       "    </tr>\n",
       "    <tr>\n",
       "      <th>Side of Chips</th>\n",
       "      <td>110</td>\n",
       "    </tr>\n",
       "    <tr>\n",
       "      <th>Veggie Burrito</th>\n",
       "      <td>97</td>\n",
       "    </tr>\n",
       "    <tr>\n",
       "      <th>Barbacoa Burrito</th>\n",
       "      <td>91</td>\n",
       "    </tr>\n",
       "    <tr>\n",
       "      <th>Veggie Bowl</th>\n",
       "      <td>87</td>\n",
       "    </tr>\n",
       "    <tr>\n",
       "      <th>Carnitas Bowl</th>\n",
       "      <td>71</td>\n",
       "    </tr>\n",
       "    <tr>\n",
       "      <th>Barbacoa Bowl</th>\n",
       "      <td>66</td>\n",
       "    </tr>\n",
       "    <tr>\n",
       "      <th>Carnitas Burrito</th>\n",
       "      <td>60</td>\n",
       "    </tr>\n",
       "    <tr>\n",
       "      <th>Steak Soft Tacos</th>\n",
       "      <td>56</td>\n",
       "    </tr>\n",
       "    <tr>\n",
       "      <th>6 Pack Soft Drink</th>\n",
       "      <td>55</td>\n",
       "    </tr>\n",
       "    <tr>\n",
       "      <th>Chips and Tomatillo Red Chili Salsa</th>\n",
       "      <td>50</td>\n",
       "    </tr>\n",
       "    <tr>\n",
       "      <th>Chicken Crispy Tacos</th>\n",
       "      <td>50</td>\n",
       "    </tr>\n",
       "    <tr>\n",
       "      <th>Chips and Tomatillo Green Chili Salsa</th>\n",
       "      <td>45</td>\n",
       "    </tr>\n",
       "    <tr>\n",
       "      <th>Carnitas Soft Tacos</th>\n",
       "      <td>40</td>\n",
       "    </tr>\n",
       "    <tr>\n",
       "      <th>Steak Crispy Tacos</th>\n",
       "      <td>36</td>\n",
       "    </tr>\n",
       "    <tr>\n",
       "      <th>Chips and Tomatillo-Green Chili Salsa</th>\n",
       "      <td>33</td>\n",
       "    </tr>\n",
       "    <tr>\n",
       "      <th>Steak Salad Bowl</th>\n",
       "      <td>31</td>\n",
       "    </tr>\n",
       "    <tr>\n",
       "      <th>Nantucket Nectar</th>\n",
       "      <td>29</td>\n",
       "    </tr>\n",
       "    <tr>\n",
       "      <th>Chips and Tomatillo-Red Chili Salsa</th>\n",
       "      <td>25</td>\n",
       "    </tr>\n",
       "    <tr>\n",
       "      <th>Barbacoa Soft Tacos</th>\n",
       "      <td>25</td>\n",
       "    </tr>\n",
       "    <tr>\n",
       "      <th>Chips and Roasted Chili Corn Salsa</th>\n",
       "      <td>23</td>\n",
       "    </tr>\n",
       "    <tr>\n",
       "      <th>Izze</th>\n",
       "      <td>20</td>\n",
       "    </tr>\n",
       "    <tr>\n",
       "      <th>Veggie Salad Bowl</th>\n",
       "      <td>18</td>\n",
       "    </tr>\n",
       "    <tr>\n",
       "      <th>Chips and Roasted Chili-Corn Salsa</th>\n",
       "      <td>18</td>\n",
       "    </tr>\n",
       "    <tr>\n",
       "      <th>Barbacoa Crispy Tacos</th>\n",
       "      <td>12</td>\n",
       "    </tr>\n",
       "    <tr>\n",
       "      <th>Barbacoa Salad Bowl</th>\n",
       "      <td>10</td>\n",
       "    </tr>\n",
       "    <tr>\n",
       "      <th>Chicken Salad</th>\n",
       "      <td>9</td>\n",
       "    </tr>\n",
       "    <tr>\n",
       "      <th>Carnitas Crispy Tacos</th>\n",
       "      <td>8</td>\n",
       "    </tr>\n",
       "    <tr>\n",
       "      <th>Veggie Soft Tacos</th>\n",
       "      <td>8</td>\n",
       "    </tr>\n",
       "    <tr>\n",
       "      <th>Burrito</th>\n",
       "      <td>6</td>\n",
       "    </tr>\n",
       "    <tr>\n",
       "      <th>Veggie Salad</th>\n",
       "      <td>6</td>\n",
       "    </tr>\n",
       "    <tr>\n",
       "      <th>Carnitas Salad Bowl</th>\n",
       "      <td>6</td>\n",
       "    </tr>\n",
       "    <tr>\n",
       "      <th>Bowl</th>\n",
       "      <td>4</td>\n",
       "    </tr>\n",
       "    <tr>\n",
       "      <th>Steak Salad</th>\n",
       "      <td>4</td>\n",
       "    </tr>\n",
       "    <tr>\n",
       "      <th>Salad</th>\n",
       "      <td>2</td>\n",
       "    </tr>\n",
       "    <tr>\n",
       "      <th>Crispy Tacos</th>\n",
       "      <td>2</td>\n",
       "    </tr>\n",
       "    <tr>\n",
       "      <th>Chips and Mild Fresh Tomato Salsa</th>\n",
       "      <td>1</td>\n",
       "    </tr>\n",
       "    <tr>\n",
       "      <th>Carnitas Salad</th>\n",
       "      <td>1</td>\n",
       "    </tr>\n",
       "    <tr>\n",
       "      <th>Veggie Crispy Tacos</th>\n",
       "      <td>1</td>\n",
       "    </tr>\n",
       "  </tbody>\n",
       "</table>\n",
       "</div>"
      ],
      "text/plain": [
       "                                       quantity\n",
       "item_name                                      \n",
       "Chicken Bowl                                761\n",
       "Chicken Burrito                             591\n",
       "Chips and Guacamole                         506\n",
       "Steak Burrito                               386\n",
       "Canned Soft Drink                           351\n",
       "Chips                                       230\n",
       "Steak Bowl                                  221\n",
       "Bottled Water                               211\n",
       "Chips and Fresh Tomato Salsa                130\n",
       "Canned Soda                                 126\n",
       "Chicken Salad Bowl                          123\n",
       "Chicken Soft Tacos                          120\n",
       "Side of Chips                               110\n",
       "Veggie Burrito                               97\n",
       "Barbacoa Burrito                             91\n",
       "Veggie Bowl                                  87\n",
       "Carnitas Bowl                                71\n",
       "Barbacoa Bowl                                66\n",
       "Carnitas Burrito                             60\n",
       "Steak Soft Tacos                             56\n",
       "6 Pack Soft Drink                            55\n",
       "Chips and Tomatillo Red Chili Salsa          50\n",
       "Chicken Crispy Tacos                         50\n",
       "Chips and Tomatillo Green Chili Salsa        45\n",
       "Carnitas Soft Tacos                          40\n",
       "Steak Crispy Tacos                           36\n",
       "Chips and Tomatillo-Green Chili Salsa        33\n",
       "Steak Salad Bowl                             31\n",
       "Nantucket Nectar                             29\n",
       "Chips and Tomatillo-Red Chili Salsa          25\n",
       "Barbacoa Soft Tacos                          25\n",
       "Chips and Roasted Chili Corn Salsa           23\n",
       "Izze                                         20\n",
       "Veggie Salad Bowl                            18\n",
       "Chips and Roasted Chili-Corn Salsa           18\n",
       "Barbacoa Crispy Tacos                        12\n",
       "Barbacoa Salad Bowl                          10\n",
       "Chicken Salad                                 9\n",
       "Carnitas Crispy Tacos                         8\n",
       "Veggie Soft Tacos                             8\n",
       "Burrito                                       6\n",
       "Veggie Salad                                  6\n",
       "Carnitas Salad Bowl                           6\n",
       "Bowl                                          4\n",
       "Steak Salad                                   4\n",
       "Salad                                         2\n",
       "Crispy Tacos                                  2\n",
       "Chips and Mild Fresh Tomato Salsa             1\n",
       "Carnitas Salad                                1\n",
       "Veggie Crispy Tacos                           1"
      ]
     },
     "execution_count": 51,
     "metadata": {},
     "output_type": "execute_result"
    }
   ],
   "source": [
    "item_plus_vendus"
   ]
  },
  {
   "cell_type": "code",
   "execution_count": 52,
   "metadata": {},
   "outputs": [
    {
     "name": "stdout",
     "output_type": "stream",
     "text": [
      "['Chicken Bowl', 'Chicken Burrito', 'Chips and Guacamole', 'Steak Burrito', 'Canned Soft Drink']\n"
     ]
    }
   ],
   "source": [
    "top_5_items_list = item_plus_vendus.head(5).index.tolist()\n",
    "print(top_5_items_list)"
   ]
  },
  {
   "cell_type": "code",
   "execution_count": 53,
   "metadata": {},
   "outputs": [
    {
     "data": {
      "text/plain": [
       "item_price    0.562599\n",
       "dtype: float64"
      ]
     },
     "execution_count": 53,
     "metadata": {},
     "output_type": "execute_result"
    }
   ],
   "source": [
    "df_percent.loc[top_5_items_list].sum()"
   ]
  },
  {
   "cell_type": "code",
   "execution_count": 54,
   "metadata": {},
   "outputs": [
    {
     "data": {
      "text/html": [
       "<div>\n",
       "<style scoped>\n",
       "    .dataframe tbody tr th:only-of-type {\n",
       "        vertical-align: middle;\n",
       "    }\n",
       "\n",
       "    .dataframe tbody tr th {\n",
       "        vertical-align: top;\n",
       "    }\n",
       "\n",
       "    .dataframe thead th {\n",
       "        text-align: right;\n",
       "    }\n",
       "</style>\n",
       "<table border=\"1\" class=\"dataframe\">\n",
       "  <thead>\n",
       "    <tr style=\"text-align: right;\">\n",
       "      <th></th>\n",
       "      <th>item_price</th>\n",
       "    </tr>\n",
       "    <tr>\n",
       "      <th>item_name</th>\n",
       "      <th></th>\n",
       "    </tr>\n",
       "  </thead>\n",
       "  <tbody>\n",
       "    <tr>\n",
       "      <th>Chicken Bowl</th>\n",
       "      <td>0.212832</td>\n",
       "    </tr>\n",
       "    <tr>\n",
       "      <th>Chicken Burrito</th>\n",
       "      <td>0.161617</td>\n",
       "    </tr>\n",
       "    <tr>\n",
       "      <th>Chips and Guacamole</th>\n",
       "      <td>0.063798</td>\n",
       "    </tr>\n",
       "    <tr>\n",
       "      <th>Steak Burrito</th>\n",
       "      <td>0.111635</td>\n",
       "    </tr>\n",
       "    <tr>\n",
       "      <th>Canned Soft Drink</th>\n",
       "      <td>0.012717</td>\n",
       "    </tr>\n",
       "  </tbody>\n",
       "</table>\n",
       "</div>"
      ],
      "text/plain": [
       "                     item_price\n",
       "item_name                      \n",
       "Chicken Bowl           0.212832\n",
       "Chicken Burrito        0.161617\n",
       "Chips and Guacamole    0.063798\n",
       "Steak Burrito          0.111635\n",
       "Canned Soft Drink      0.012717"
      ]
     },
     "execution_count": 54,
     "metadata": {},
     "output_type": "execute_result"
    }
   ],
   "source": [
    "df_percent.loc[top_5_items_list]"
   ]
  },
  {
   "cell_type": "code",
   "execution_count": 55,
   "metadata": {},
   "outputs": [
    {
     "data": {
      "text/html": [
       "<div>\n",
       "<style scoped>\n",
       "    .dataframe tbody tr th:only-of-type {\n",
       "        vertical-align: middle;\n",
       "    }\n",
       "\n",
       "    .dataframe tbody tr th {\n",
       "        vertical-align: top;\n",
       "    }\n",
       "\n",
       "    .dataframe thead th {\n",
       "        text-align: right;\n",
       "    }\n",
       "</style>\n",
       "<table border=\"1\" class=\"dataframe\">\n",
       "  <thead>\n",
       "    <tr style=\"text-align: right;\">\n",
       "      <th></th>\n",
       "      <th>item_price</th>\n",
       "    </tr>\n",
       "    <tr>\n",
       "      <th>item_name</th>\n",
       "      <th></th>\n",
       "    </tr>\n",
       "  </thead>\n",
       "  <tbody>\n",
       "    <tr>\n",
       "      <th>Chicken Bowl</th>\n",
       "      <td>0.212832</td>\n",
       "    </tr>\n",
       "    <tr>\n",
       "      <th>Chicken Burrito</th>\n",
       "      <td>0.161617</td>\n",
       "    </tr>\n",
       "    <tr>\n",
       "      <th>Steak Burrito</th>\n",
       "      <td>0.111635</td>\n",
       "    </tr>\n",
       "    <tr>\n",
       "      <th>Steak Bowl</th>\n",
       "      <td>0.065512</td>\n",
       "    </tr>\n",
       "    <tr>\n",
       "      <th>Chips and Guacamole</th>\n",
       "      <td>0.063798</td>\n",
       "    </tr>\n",
       "  </tbody>\n",
       "</table>\n",
       "</div>"
      ],
      "text/plain": [
       "                     item_price\n",
       "item_name                      \n",
       "Chicken Bowl           0.212832\n",
       "Chicken Burrito        0.161617\n",
       "Steak Burrito          0.111635\n",
       "Steak Bowl             0.065512\n",
       "Chips and Guacamole    0.063798"
      ]
     },
     "execution_count": 55,
     "metadata": {},
     "output_type": "execute_result"
    }
   ],
   "source": [
    "df_percent.loc[df_percent.head(5).index.tolist()]"
   ]
  },
  {
   "cell_type": "code",
   "execution_count": 56,
   "metadata": {},
   "outputs": [
    {
     "data": {
      "text/plain": [
       "item_price    0.615395\n",
       "dtype: float64"
      ]
     },
     "execution_count": 56,
     "metadata": {},
     "output_type": "execute_result"
    }
   ],
   "source": [
    "df_percent.loc[df_percent.head(5).index.tolist()].sum()"
   ]
  },
  {
   "cell_type": "code",
   "execution_count": 57,
   "metadata": {},
   "outputs": [
    {
     "data": {
      "text/plain": [
       "<Axes: ylabel='item_name'>"
      ]
     },
     "execution_count": 57,
     "metadata": {},
     "output_type": "execute_result"
    },
    {
     "data": {
      "image/png": "[encoded data removed]",
      "text/plain": [
       "<Figure size 1000x500 with 1 Axes>"
      ]
     },
     "metadata": {},
     "output_type": "display_data"
    }
   ],
   "source": [
    "df_percent.loc[top_5_items_list].sort_values(by=\"item_price\").plot(kind=\"barh\", figsize=(10, 5), legend=False)"
   ]
  },
  {
   "cell_type": "markdown",
   "metadata": {
    "id": "3ARSKWVk2pU3"
   },
   "source": [
    "Un peu plus compliqué : quel est le choix le plus populaire comme accompagnement de \"Chicken Bowl\" ? Noter que la colonne \"choice_description\" est de type string.\n",
    "\n",
    "Indices : si x est de type string, x.replace('c', 'd') remplace toutes les occurences de 'c' par 'd' dans x. x.split('e') divise x selon les occurrences de 'e' dans x en une liste de strings.\n"
   ]
  },
  {
   "cell_type": "code",
   "execution_count": 60,
   "metadata": {},
   "outputs": [
    {
     "data": {
      "text/plain": [
       "0                                                     NaN\n",
       "1                                            [Clementine]\n",
       "2                                                 [Apple]\n",
       "3                                                     NaN\n",
       "4       [Tomatillo-Red Chili Salsa (Hot), [Black Beans...\n",
       "                              ...                        \n",
       "4617    [Fresh Tomato Salsa, [Rice, Black Beans, Sour ...\n",
       "4618    [Fresh Tomato Salsa, [Rice, Sour Cream, Cheese...\n",
       "4619    [Fresh Tomato Salsa, [Fajita Vegetables, Pinto...\n",
       "4620    [Fresh Tomato Salsa, [Fajita Vegetables, Lettu...\n",
       "4621    [Fresh Tomato Salsa, [Fajita Vegetables, Pinto...\n",
       "Name: choice_description, Length: 4622, dtype: object"
      ]
     },
     "execution_count": 60,
     "metadata": {},
     "output_type": "execute_result"
    }
   ],
   "source": [
    "df[\"choice_description\"]"
   ]
  },
  {
   "cell_type": "code",
   "execution_count": null,
   "metadata": {},
   "outputs": [],
   "source": [
    "df[\"choice_description_list\"] = df[\"choice_description\"].str.replace(\"[\", \"\")\n",
    "df[\"choice_description_list\"] = df[\"choice_description_list\"].str.replace(\"]\",\"\")\n",
    "df[\"choice_description_list\"] = df[\"choice_description_list\"].str.replace(\" \",\"\")"
   ]
  },
  {
   "cell_type": "code",
   "execution_count": 62,
   "metadata": {
    "id": "tUyIOF7k2zV_"
   },
   "outputs": [],
   "source": [
    "df[\"choice_description_list\"] = df[\"choice_description\"].str.replace(r\"[\\[\\]\\ ]\", \"\", regex=True)"
   ]
  },
  {
   "cell_type": "code",
   "execution_count": 63,
   "metadata": {},
   "outputs": [
    {
     "data": {
      "text/plain": [
       "0                                                     NaN\n",
       "1                                              Clementine\n",
       "2                                                   Apple\n",
       "3                                                     NaN\n",
       "4       Tomatillo-RedChiliSalsa(Hot),BlackBeans,Rice,C...\n",
       "                              ...                        \n",
       "4617    FreshTomatoSalsa,Rice,BlackBeans,SourCream,Che...\n",
       "4618    FreshTomatoSalsa,Rice,SourCream,Cheese,Lettuce...\n",
       "4619    FreshTomatoSalsa,FajitaVegetables,PintoBeans,G...\n",
       "4620            FreshTomatoSalsa,FajitaVegetables,Lettuce\n",
       "4621    FreshTomatoSalsa,FajitaVegetables,PintoBeans,L...\n",
       "Name: choice_description_list, Length: 4622, dtype: object"
      ]
     },
     "execution_count": 63,
     "metadata": {},
     "output_type": "execute_result"
    }
   ],
   "source": [
    "df[\"choice_description_list\"]"
   ]
  },
  {
   "cell_type": "code",
   "execution_count": 64,
   "metadata": {},
   "outputs": [],
   "source": [
    "df[\"choice_description_list\"] = df[\"choice_description_list\"].str.split(\",\")"
   ]
  },
  {
   "cell_type": "code",
   "execution_count": 65,
   "metadata": {},
   "outputs": [
    {
     "data": {
      "text/plain": [
       "0                                                     NaN\n",
       "1                                            [Clementine]\n",
       "2                                                 [Apple]\n",
       "3                                                     NaN\n",
       "4       [Tomatillo-RedChiliSalsa(Hot), BlackBeans, Ric...\n",
       "                              ...                        \n",
       "4617    [FreshTomatoSalsa, Rice, BlackBeans, SourCream...\n",
       "4618    [FreshTomatoSalsa, Rice, SourCream, Cheese, Le...\n",
       "4619    [FreshTomatoSalsa, FajitaVegetables, PintoBean...\n",
       "4620        [FreshTomatoSalsa, FajitaVegetables, Lettuce]\n",
       "4621    [FreshTomatoSalsa, FajitaVegetables, PintoBean...\n",
       "Name: choice_description_list, Length: 4622, dtype: object"
      ]
     },
     "execution_count": 65,
     "metadata": {},
     "output_type": "execute_result"
    }
   ],
   "source": [
    "df[\"choice_description_list\"]"
   ]
  },
  {
   "cell_type": "code",
   "execution_count": 66,
   "metadata": {
    "id": "IKdEin0b3RgL"
   },
   "outputs": [],
   "source": [
    "choice_description_list = df[df[\"item_name\"]==\"Chicken Bowl\"][\"choice_description_list\"].dropna()"
   ]
  },
  {
   "cell_type": "code",
   "execution_count": 67,
   "metadata": {},
   "outputs": [
    {
     "data": {
      "text/plain": [
       "4       [Tomatillo-RedChiliSalsa(Hot), BlackBeans, Ric...\n",
       "5       [FreshTomatoSalsa(Mild), Rice, Cheese, SourCre...\n",
       "13      [FreshTomatoSalsa, FajitaVegetables, Rice, Che...\n",
       "19      [TomatilloRedChiliSalsa, FajitaVegetables, Bla...\n",
       "26      [RoastedChiliCornSalsa(Medium), PintoBeans, Ri...\n",
       "                              ...                        \n",
       "4590    [RoastedChiliCornSalsa, Rice, BlackBeans, Chee...\n",
       "4591    [TomatilloRedChiliSalsa, Rice, BlackBeans, Sou...\n",
       "4595         [TomatilloGreenChiliSalsa, Rice, BlackBeans]\n",
       "4599             [RoastedChiliCornSalsa, Cheese, Lettuce]\n",
       "4604    [FreshTomatoSalsa, Rice, BlackBeans, Cheese, S...\n",
       "Name: choice_description_list, Length: 726, dtype: object"
      ]
     },
     "execution_count": 67,
     "metadata": {},
     "output_type": "execute_result"
    }
   ],
   "source": [
    "choice_description_list"
   ]
  },
  {
   "cell_type": "code",
   "execution_count": 68,
   "metadata": {},
   "outputs": [],
   "source": [
    "big_list = []\n",
    "for index, row in choice_description_list.items():\n",
    "    big_list += row"
   ]
  },
  {
   "cell_type": "code",
   "execution_count": 71,
   "metadata": {},
   "outputs": [
    {
     "data": {
      "text/plain": [
       "['Tomatillo-RedChiliSalsa(Hot)',\n",
       " 'BlackBeans',\n",
       " 'Rice',\n",
       " 'Cheese',\n",
       " 'SourCream',\n",
       " 'FreshTomatoSalsa(Mild)',\n",
       " 'Rice',\n",
       " 'Cheese',\n",
       " 'SourCream',\n",
       " 'Guacamole',\n",
       " 'Lettuce',\n",
       " 'FreshTomatoSalsa',\n",
       " 'FajitaVegetables',\n",
       " 'Rice',\n",
       " 'Cheese',\n",
       " 'SourCream',\n",
       " 'Guacamole',\n",
       " 'TomatilloRedChiliSalsa',\n",
       " 'FajitaVegetables',\n",
       " 'BlackBeans',\n",
       " 'SourCream',\n",
       " 'Cheese',\n",
       " 'Lettuce',\n",
       " 'RoastedChiliCornSalsa(Medium)',\n",
       " 'PintoBeans',\n",
       " 'Rice',\n",
       " 'FajitaVeggies',\n",
       " 'Cheese',\n",
       " 'SourCream',\n",
       " 'Lettuce',\n",
       " 'RoastedChiliCornSalsa',\n",
       " 'Rice',\n",
       " 'BlackBeans',\n",
       " 'Cheese',\n",
       " 'SourCream',\n",
       " 'Guacamole',\n",
       " 'Lettuce',\n",
       " 'FreshTomatoSalsa',\n",
       " 'Rice',\n",
       " 'BlackBeans',\n",
       " 'PintoBeans',\n",
       " 'Cheese',\n",
       " 'Lettuce',\n",
       " 'FreshTomatoSalsa',\n",
       " 'Rice',\n",
       " 'BlackBeans',\n",
       " 'Cheese',\n",
       " 'SourCream',\n",
       " 'Lettuce',\n",
       " 'TomatilloRedChiliSalsa',\n",
       " 'Rice',\n",
       " 'FajitaVegetables',\n",
       " 'SourCream',\n",
       " 'Lettuce',\n",
       " 'TomatilloRedChiliSalsa',\n",
       " 'Rice',\n",
       " 'BlackBeans',\n",
       " 'Cheese',\n",
       " 'SourCream',\n",
       " 'Lettuce',\n",
       " 'FreshTomatoSalsa',\n",
       " 'Guacamole',\n",
       " 'Cheese',\n",
       " 'SourCream',\n",
       " 'FajitaVegetables',\n",
       " 'Rice',\n",
       " 'FreshTomatoSalsa',\n",
       " 'Rice',\n",
       " 'FajitaVegetables',\n",
       " 'SourCream',\n",
       " 'Cheese',\n",
       " 'Guacamole',\n",
       " 'TomatilloGreenChiliSalsa',\n",
       " 'Rice',\n",
       " 'SourCream',\n",
       " 'Cheese',\n",
       " 'Guacamole',\n",
       " 'FreshTomatoSalsa',\n",
       " 'FajitaVegetables',\n",
       " 'Rice',\n",
       " 'BlackBeans',\n",
       " 'Cheese',\n",
       " 'Guacamole',\n",
       " 'Lettuce',\n",
       " 'FreshTomatoSalsa',\n",
       " 'FajitaVegetables',\n",
       " 'Rice',\n",
       " 'Lettuce',\n",
       " 'FreshTomatoSalsa(Mild)',\n",
       " 'BlackBeans',\n",
       " 'Rice',\n",
       " 'FajitaVeggies',\n",
       " 'Cheese',\n",
       " 'SourCream',\n",
       " 'Lettuce',\n",
       " 'RoastedChiliCornSalsa(Medium)',\n",
       " 'BlackBeans',\n",
       " 'Rice',\n",
       " 'FajitaVeggies',\n",
       " 'Cheese',\n",
       " 'SourCream',\n",
       " 'Guacamole',\n",
       " 'Lettuce',\n",
       " 'FreshTomatoSalsa',\n",
       " 'Rice',\n",
       " 'BlackBeans',\n",
       " 'SourCream',\n",
       " 'FreshTomatoSalsa',\n",
       " 'Rice',\n",
       " 'Cheese',\n",
       " 'SourCream',\n",
       " 'RoastedChiliCornSalsa(Medium)',\n",
       " 'Tomatillo-RedChiliSalsa(Hot)',\n",
       " 'BlackBeans',\n",
       " 'Rice',\n",
       " 'FajitaVeggies',\n",
       " 'Guacamole',\n",
       " 'Lettuce',\n",
       " 'FreshTomatoSalsa',\n",
       " 'Rice',\n",
       " 'Cheese',\n",
       " 'Lettuce',\n",
       " 'RoastedChiliCornSalsa',\n",
       " 'FajitaVegetables',\n",
       " 'Rice',\n",
       " 'BlackBeans',\n",
       " 'Cheese',\n",
       " 'SourCream',\n",
       " 'Guacamole',\n",
       " 'Lettuce',\n",
       " 'RoastedChiliCornSalsa',\n",
       " 'FajitaVegetables',\n",
       " 'Rice',\n",
       " 'BlackBeans',\n",
       " 'PintoBeans',\n",
       " 'Cheese',\n",
       " 'SourCream',\n",
       " 'Guacamole',\n",
       " 'Lettuce',\n",
       " 'TomatilloGreenChiliSalsa',\n",
       " 'Rice',\n",
       " 'BlackBeans',\n",
       " 'Cheese',\n",
       " 'SourCream',\n",
       " 'RoastedChiliCornSalsa',\n",
       " 'Rice',\n",
       " 'BlackBeans',\n",
       " 'Cheese',\n",
       " 'SourCream',\n",
       " 'TomatilloGreenChiliSalsa',\n",
       " 'Rice',\n",
       " 'PintoBeans',\n",
       " 'SourCream',\n",
       " 'Lettuce',\n",
       " 'FreshTomatoSalsa',\n",
       " 'FajitaVegetables',\n",
       " 'Rice',\n",
       " 'BlackBeans',\n",
       " 'Cheese',\n",
       " 'SourCream',\n",
       " 'Lettuce',\n",
       " 'TomatilloRedChiliSalsa',\n",
       " 'Rice',\n",
       " 'Cheese',\n",
       " 'Lettuce',\n",
       " 'FreshTomatoSalsa',\n",
       " 'Rice',\n",
       " 'BlackBeans',\n",
       " 'Cheese',\n",
       " 'FreshTomatoSalsa',\n",
       " 'Rice',\n",
       " 'BlackBeans',\n",
       " 'Cheese',\n",
       " 'SourCream',\n",
       " 'FreshTomatoSalsa',\n",
       " 'Rice',\n",
       " 'Cheese',\n",
       " 'SourCream',\n",
       " 'RoastedChiliCornSalsa',\n",
       " 'FajitaVegetables',\n",
       " 'Rice',\n",
       " 'BlackBeans',\n",
       " 'Guacamole',\n",
       " 'Lettuce',\n",
       " 'TomatilloGreenChiliSalsa',\n",
       " 'Rice',\n",
       " 'SourCream',\n",
       " 'Guacamole',\n",
       " 'Lettuce',\n",
       " 'FreshTomatoSalsa(Mild)',\n",
       " 'Rice',\n",
       " 'FajitaVeggies',\n",
       " 'Cheese',\n",
       " 'SourCream',\n",
       " 'Lettuce',\n",
       " 'FreshTomatoSalsa',\n",
       " 'Rice',\n",
       " 'BlackBeans',\n",
       " 'Cheese',\n",
       " 'SourCream',\n",
       " 'Guacamole',\n",
       " 'Lettuce',\n",
       " 'FreshTomatoSalsa',\n",
       " 'Rice',\n",
       " 'BlackBeans',\n",
       " 'Cheese',\n",
       " 'SourCream',\n",
       " 'Lettuce',\n",
       " 'FreshTomatoSalsa',\n",
       " 'Rice',\n",
       " 'BlackBeans',\n",
       " 'Cheese',\n",
       " 'SourCream',\n",
       " 'FreshTomatoSalsa',\n",
       " 'FajitaVegetables',\n",
       " 'Rice',\n",
       " 'BlackBeans',\n",
       " 'SourCream',\n",
       " 'TomatilloRedChiliSalsa',\n",
       " 'Rice',\n",
       " 'Cheese',\n",
       " 'Tomatillo-RedChiliSalsa(Hot)',\n",
       " 'Rice',\n",
       " 'FajitaVeggies',\n",
       " 'Cheese',\n",
       " 'SourCream',\n",
       " 'Lettuce',\n",
       " 'FreshTomatoSalsa',\n",
       " 'Rice',\n",
       " 'Cheese',\n",
       " 'SourCream',\n",
       " 'FreshTomatoSalsa',\n",
       " 'Rice',\n",
       " 'BlackBeans',\n",
       " 'Cheese',\n",
       " 'SourCream',\n",
       " 'Guacamole',\n",
       " 'TomatilloRedChiliSalsa',\n",
       " 'Rice',\n",
       " 'BlackBeans',\n",
       " 'Cheese',\n",
       " 'SourCream',\n",
       " 'Guacamole',\n",
       " 'Lettuce',\n",
       " 'FreshTomatoSalsa(Mild)',\n",
       " 'Tomatillo-GreenChiliSalsa(Medium)',\n",
       " 'RoastedChiliCornSalsa(Medium)',\n",
       " 'BlackBeans',\n",
       " 'Rice',\n",
       " 'FajitaVeggies',\n",
       " 'Cheese',\n",
       " 'Guacamole',\n",
       " 'Lettuce',\n",
       " 'TomatilloGreenChiliSalsa',\n",
       " 'SourCream',\n",
       " 'Cheese',\n",
       " 'Guacamole',\n",
       " 'TomatilloRedChiliSalsa',\n",
       " 'RoastedChiliCornSalsa',\n",
       " 'Rice',\n",
       " 'Lettuce',\n",
       " 'FreshTomatoSalsa',\n",
       " 'Rice',\n",
       " 'BlackBeans',\n",
       " 'Cheese',\n",
       " 'Lettuce',\n",
       " 'FreshTomatoSalsa',\n",
       " 'Rice',\n",
       " 'BlackBeans',\n",
       " 'Cheese',\n",
       " 'SourCream',\n",
       " 'Guacamole',\n",
       " 'Lettuce',\n",
       " 'FreshTomatoSalsa',\n",
       " 'Rice',\n",
       " 'BlackBeans',\n",
       " 'Cheese',\n",
       " 'FreshTomatoSalsa(Mild)',\n",
       " 'BlackBeans',\n",
       " 'Rice',\n",
       " 'FajitaVeggies',\n",
       " 'Cheese',\n",
       " 'SourCream',\n",
       " 'Lettuce',\n",
       " 'TomatilloGreenChiliSalsa',\n",
       " 'Rice',\n",
       " 'BlackBeans',\n",
       " 'Cheese',\n",
       " 'RoastedChiliCornSalsa',\n",
       " 'Rice',\n",
       " 'FajitaVegetables',\n",
       " 'BlackBeans',\n",
       " 'SourCream',\n",
       " 'Cheese',\n",
       " 'Lettuce',\n",
       " 'FreshTomatoSalsa',\n",
       " 'FajitaVegetables',\n",
       " 'Rice',\n",
       " 'BlackBeans',\n",
       " 'Cheese',\n",
       " 'FreshTomatoSalsa',\n",
       " 'Rice',\n",
       " 'BlackBeans',\n",
       " 'Cheese',\n",
       " 'SourCream',\n",
       " 'Guacamole',\n",
       " 'Lettuce',\n",
       " 'FreshTomatoSalsa',\n",
       " 'FajitaVegetables',\n",
       " 'Rice',\n",
       " 'BlackBeans',\n",
       " 'Cheese',\n",
       " 'FreshTomatoSalsa',\n",
       " 'Rice',\n",
       " 'BlackBeans',\n",
       " 'Cheese',\n",
       " 'SourCream',\n",
       " 'Lettuce',\n",
       " 'FreshTomatoSalsa',\n",
       " 'FajitaVegetables',\n",
       " 'Rice',\n",
       " 'Cheese',\n",
       " 'SourCream',\n",
       " 'Guacamole',\n",
       " 'RoastedChiliCornSalsa',\n",
       " 'FajitaVegetables',\n",
       " 'Rice',\n",
       " 'BlackBeans',\n",
       " 'Guacamole',\n",
       " 'Tomatillo-RedChiliSalsa(Hot)',\n",
       " 'Rice',\n",
       " 'FreshTomatoSalsa',\n",
       " 'Rice',\n",
       " 'BlackBeans',\n",
       " 'SourCream',\n",
       " 'Cheese',\n",
       " 'FreshTomatoSalsa',\n",
       " 'Rice',\n",
       " 'Cheese',\n",
       " 'Lettuce',\n",
       " 'TomatilloGreenChiliSalsa',\n",
       " 'Rice',\n",
       " 'BlackBeans',\n",
       " 'Cheese',\n",
       " 'RoastedChiliCornSalsa',\n",
       " 'Rice',\n",
       " 'PintoBeans',\n",
       " 'Lettuce',\n",
       " 'Guacamole',\n",
       " 'RoastedChiliCornSalsa(Medium)',\n",
       " 'BlackBeans',\n",
       " 'FajitaVeggies',\n",
       " 'Cheese',\n",
       " 'Guacamole',\n",
       " 'Lettuce',\n",
       " 'FreshTomatoSalsa',\n",
       " 'Rice',\n",
       " 'Cheese',\n",
       " 'Lettuce',\n",
       " 'RoastedChiliCornSalsa',\n",
       " 'Rice',\n",
       " 'BlackBeans',\n",
       " 'Cheese',\n",
       " 'SourCream',\n",
       " 'Guacamole',\n",
       " 'Lettuce',\n",
       " 'FreshTomatoSalsa(Mild)',\n",
       " 'Rice',\n",
       " 'Cheese',\n",
       " 'SourCream',\n",
       " 'Lettuce',\n",
       " 'FreshTomatoSalsa',\n",
       " 'Rice',\n",
       " 'PintoBeans',\n",
       " 'SourCream',\n",
       " 'Cheese',\n",
       " 'Lettuce',\n",
       " 'TomatilloGreenChiliSalsa',\n",
       " 'Rice',\n",
       " 'BlackBeans',\n",
       " 'SourCream',\n",
       " 'Lettuce',\n",
       " 'RoastedChiliCornSalsa',\n",
       " 'Rice',\n",
       " 'Cheese',\n",
       " 'Lettuce',\n",
       " 'FreshTomatoSalsa',\n",
       " 'Rice',\n",
       " 'PintoBeans',\n",
       " 'Cheese',\n",
       " 'SourCream',\n",
       " 'Lettuce',\n",
       " 'Tomatillo-RedChiliSalsa(Hot)',\n",
       " 'BlackBeans',\n",
       " 'Rice',\n",
       " 'FajitaVeggies',\n",
       " 'Cheese',\n",
       " 'Lettuce',\n",
       " 'FreshTomatoSalsa',\n",
       " 'FajitaVegetables',\n",
       " 'Rice',\n",
       " 'Lettuce',\n",
       " 'Tomatillo-RedChiliSalsa(Hot)',\n",
       " 'BlackBeans',\n",
       " 'Rice',\n",
       " 'Cheese',\n",
       " 'SourCream',\n",
       " 'Lettuce',\n",
       " 'FreshTomatoSalsa',\n",
       " 'Rice',\n",
       " 'BlackBeans',\n",
       " 'Cheese',\n",
       " 'SourCream',\n",
       " 'Guacamole',\n",
       " 'Lettuce',\n",
       " 'FreshTomatoSalsa',\n",
       " 'FajitaVegetables',\n",
       " 'Rice',\n",
       " 'Cheese',\n",
       " 'SourCream',\n",
       " 'Guacamole',\n",
       " 'TomatilloGreenChiliSalsa',\n",
       " 'Rice',\n",
       " 'SourCream',\n",
       " 'Cheese',\n",
       " 'Guacamole',\n",
       " 'TomatilloGreenChiliSalsa',\n",
       " 'FajitaVegetables',\n",
       " 'Rice',\n",
       " 'BlackBeans',\n",
       " 'Cheese',\n",
       " 'SourCream',\n",
       " 'Guacamole',\n",
       " 'Lettuce',\n",
       " 'RoastedChiliCornSalsa',\n",
       " 'Rice',\n",
       " 'BlackBeans',\n",
       " 'Cheese',\n",
       " 'SourCream',\n",
       " 'Lettuce',\n",
       " 'FreshTomatoSalsa',\n",
       " 'Rice',\n",
       " 'BlackBeans',\n",
       " 'SourCream',\n",
       " 'Cheese',\n",
       " 'RoastedChiliCornSalsa',\n",
       " 'FajitaVegetables',\n",
       " 'Rice',\n",
       " 'BlackBeans',\n",
       " 'Cheese',\n",
       " 'SourCream',\n",
       " 'Guacamole',\n",
       " 'Lettuce',\n",
       " 'Tomatillo-GreenChiliSalsa(Medium)',\n",
       " 'BlackBeans',\n",
       " 'Tomatillo-GreenChiliSalsa(Medium)',\n",
       " 'BlackBeans',\n",
       " 'FreshTomatoSalsa',\n",
       " 'Rice',\n",
       " 'BlackBeans',\n",
       " 'Cheese',\n",
       " 'SourCream',\n",
       " 'Lettuce',\n",
       " 'RoastedChiliCornSalsa',\n",
       " 'FajitaVegetables',\n",
       " 'Rice',\n",
       " 'BlackBeans',\n",
       " 'Cheese',\n",
       " 'Lettuce',\n",
       " 'TomatilloRedChiliSalsa',\n",
       " 'FajitaVegetables',\n",
       " 'Rice',\n",
       " 'BlackBeans',\n",
       " 'Cheese',\n",
       " 'SourCream',\n",
       " 'Lettuce',\n",
       " 'FreshTomatoSalsa(Mild)',\n",
       " 'RoastedChiliCornSalsa(Medium)',\n",
       " 'Rice',\n",
       " 'SourCream',\n",
       " 'Guacamole',\n",
       " 'Lettuce',\n",
       " 'TomatilloRedChiliSalsa',\n",
       " 'Rice',\n",
       " 'FajitaVegetables',\n",
       " 'BlackBeans',\n",
       " 'SourCream',\n",
       " 'Cheese',\n",
       " 'TomatilloRedChiliSalsa',\n",
       " 'Rice',\n",
       " 'Cheese',\n",
       " 'SourCream',\n",
       " 'Lettuce',\n",
       " 'RoastedChiliCornSalsa(Medium)',\n",
       " 'FreshTomatoSalsa(Mild)',\n",
       " 'Rice',\n",
       " 'BlackBeans',\n",
       " 'FajitaVeggies',\n",
       " 'Cheese',\n",
       " 'SourCream',\n",
       " 'Guacamole',\n",
       " 'TomatilloRedChiliSalsa',\n",
       " 'Rice',\n",
       " 'BlackBeans',\n",
       " 'Cheese',\n",
       " 'SourCream',\n",
       " 'Lettuce',\n",
       " 'FreshTomatoSalsa',\n",
       " 'Rice',\n",
       " 'Guacamole',\n",
       " 'FreshTomatoSalsa',\n",
       " 'Rice',\n",
       " 'BlackBeans',\n",
       " 'Cheese',\n",
       " 'SourCream',\n",
       " 'Guacamole',\n",
       " 'TomatilloGreenChiliSalsa',\n",
       " 'Rice',\n",
       " 'PintoBeans',\n",
       " 'SourCream',\n",
       " 'Lettuce',\n",
       " 'TomatilloRedChiliSalsa',\n",
       " 'Rice',\n",
       " 'SourCream',\n",
       " 'Cheese',\n",
       " 'Guacamole',\n",
       " 'RoastedChiliCornSalsa',\n",
       " 'FajitaVegetables',\n",
       " 'PintoBeans',\n",
       " 'SourCream',\n",
       " 'Guacamole',\n",
       " 'TomatilloGreenChiliSalsa',\n",
       " 'Rice',\n",
       " 'Cheese',\n",
       " 'SourCream',\n",
       " 'Lettuce',\n",
       " 'Tomatillo-RedChiliSalsa(Hot)',\n",
       " 'PintoBeans',\n",
       " 'Rice',\n",
       " 'FajitaVeggies',\n",
       " 'Cheese',\n",
       " 'SourCream',\n",
       " 'Lettuce',\n",
       " 'FreshTomatoSalsa(Mild)',\n",
       " 'Rice',\n",
       " 'FajitaVeggies',\n",
       " 'SourCream',\n",
       " 'Guacamole',\n",
       " 'FreshTomatoSalsa',\n",
       " 'Rice',\n",
       " 'Cheese',\n",
       " 'SourCream',\n",
       " 'RoastedChiliCornSalsa',\n",
       " 'FajitaVegetables',\n",
       " 'Rice',\n",
       " 'Cheese',\n",
       " 'SourCream',\n",
       " 'Guacamole',\n",
       " 'Lettuce',\n",
       " 'RoastedChiliCornSalsa',\n",
       " 'Rice',\n",
       " 'Cheese',\n",
       " 'SourCream',\n",
       " 'Lettuce',\n",
       " 'TomatilloGreenChiliSalsa',\n",
       " 'Rice',\n",
       " 'Cheese',\n",
       " 'SourCream',\n",
       " 'Lettuce',\n",
       " 'FreshTomatoSalsa',\n",
       " 'Rice',\n",
       " 'BlackBeans',\n",
       " 'Cheese',\n",
       " 'SourCream',\n",
       " 'FreshTomatoSalsa',\n",
       " 'FajitaVegetables',\n",
       " 'Rice',\n",
       " 'Cheese',\n",
       " 'SourCream',\n",
       " 'Lettuce',\n",
       " 'FreshTomatoSalsa(Mild)',\n",
       " 'PintoBeans',\n",
       " 'Rice',\n",
       " 'Cheese',\n",
       " 'SourCream',\n",
       " 'Lettuce',\n",
       " 'Tomatillo-RedChiliSalsa(Hot)',\n",
       " 'Rice',\n",
       " 'FajitaVeggies',\n",
       " 'Cheese',\n",
       " 'SourCream',\n",
       " 'Lettuce',\n",
       " 'FreshTomatoSalsa',\n",
       " 'FajitaVegetables',\n",
       " 'Rice',\n",
       " 'BlackBeans',\n",
       " 'SourCream',\n",
       " 'RoastedChiliCornSalsa',\n",
       " 'FajitaVegetables',\n",
       " 'Rice',\n",
       " 'BlackBeans',\n",
       " 'Cheese',\n",
       " 'SourCream',\n",
       " 'TomatilloRedChiliSalsa',\n",
       " 'Rice',\n",
       " 'BlackBeans',\n",
       " 'Cheese',\n",
       " 'Lettuce',\n",
       " 'Guacamole',\n",
       " 'FreshTomatoSalsa',\n",
       " 'FajitaVegetables',\n",
       " 'Rice',\n",
       " 'Lettuce',\n",
       " 'FreshTomatoSalsa',\n",
       " 'Rice',\n",
       " 'BlackBeans',\n",
       " 'Cheese',\n",
       " 'Lettuce',\n",
       " 'FreshTomatoSalsa',\n",
       " 'FajitaVegetables',\n",
       " 'Rice',\n",
       " 'BlackBeans',\n",
       " 'Cheese',\n",
       " 'SourCream',\n",
       " 'Lettuce',\n",
       " 'TomatilloGreenChiliSalsa',\n",
       " 'FajitaVegetables',\n",
       " 'Rice',\n",
       " 'BlackBeans',\n",
       " 'Cheese',\n",
       " 'SourCream',\n",
       " 'Lettuce',\n",
       " 'TomatilloGreenChiliSalsa',\n",
       " 'Rice',\n",
       " 'SourCream',\n",
       " 'Cheese',\n",
       " 'Guacamole',\n",
       " 'FreshTomatoSalsa',\n",
       " 'Rice',\n",
       " 'FajitaVegetables',\n",
       " 'PintoBeans',\n",
       " 'SourCream',\n",
       " 'Cheese',\n",
       " 'Lettuce',\n",
       " 'Guacamole',\n",
       " 'FreshTomatoSalsa(Mild)',\n",
       " 'Tomatillo-RedChiliSalsa(Hot)',\n",
       " 'BlackBeans',\n",
       " 'Rice',\n",
       " 'Cheese',\n",
       " 'SourCream',\n",
       " 'RoastedChiliCornSalsa(Medium)',\n",
       " 'BlackBeans',\n",
       " 'Rice',\n",
       " 'SourCream',\n",
       " 'Guacamole',\n",
       " 'RoastedChiliCornSalsa(Medium)',\n",
       " 'Rice',\n",
       " 'Cheese',\n",
       " 'RoastedChiliCornSalsa(Medium)',\n",
       " 'BlackBeans',\n",
       " 'Rice',\n",
       " 'Cheese',\n",
       " 'SourCream',\n",
       " 'Lettuce',\n",
       " 'FreshTomatoSalsa',\n",
       " 'Rice',\n",
       " 'SourCream',\n",
       " 'Cheese',\n",
       " 'Lettuce',\n",
       " 'FreshTomatoSalsa',\n",
       " 'FreshTomatoSalsa',\n",
       " 'Rice',\n",
       " 'Cheese',\n",
       " 'BlackBeans',\n",
       " 'FreshTomatoSalsa',\n",
       " 'Rice',\n",
       " 'Cheese',\n",
       " 'SourCream',\n",
       " 'Lettuce',\n",
       " 'FreshTomatoSalsa',\n",
       " 'Rice',\n",
       " 'Cheese',\n",
       " 'SourCream',\n",
       " 'Lettuce',\n",
       " 'FreshTomatoSalsa',\n",
       " 'FajitaVegetables',\n",
       " 'Rice',\n",
       " 'FreshTomatoSalsa(Mild)',\n",
       " 'Tomatillo-RedChiliSalsa(Hot)',\n",
       " 'BlackBeans',\n",
       " 'Rice',\n",
       " 'Cheese',\n",
       " 'SourCream',\n",
       " 'FreshTomatoSalsa',\n",
       " 'FajitaVegetables',\n",
       " 'Rice',\n",
       " 'Tomatillo-GreenChiliSalsa(Medium)',\n",
       " 'RoastedChiliCornSalsa(Medium)',\n",
       " 'BlackBeans',\n",
       " 'Rice',\n",
       " 'Cheese',\n",
       " 'SourCream',\n",
       " 'Lettuce',\n",
       " 'FreshTomatoSalsa',\n",
       " 'FajitaVegetables',\n",
       " 'Rice',\n",
       " 'BlackBeans',\n",
       " 'Cheese',\n",
       " 'Guacamole',\n",
       " 'Lettuce',\n",
       " 'TomatilloGreenChiliSalsa',\n",
       " 'FajitaVegetables',\n",
       " 'Rice',\n",
       " 'Cheese',\n",
       " 'Lettuce',\n",
       " 'FreshTomatoSalsa',\n",
       " 'Rice',\n",
       " 'FajitaVegetables',\n",
       " 'TomatilloRedChiliSalsa',\n",
       " 'FajitaVegetables',\n",
       " 'Rice',\n",
       " 'BlackBeans',\n",
       " 'Cheese',\n",
       " 'SourCream',\n",
       " 'Guacamole',\n",
       " 'Lettuce',\n",
       " 'FreshTomatoSalsa',\n",
       " 'FajitaVegetables',\n",
       " 'Rice',\n",
       " 'Lettuce',\n",
       " 'FreshTomatoSalsa',\n",
       " 'Rice',\n",
       " 'BlackBeans',\n",
       " 'Cheese',\n",
       " 'FreshTomatoSalsa',\n",
       " 'Rice',\n",
       " 'Cheese',\n",
       " 'SourCream',\n",
       " 'Lettuce',\n",
       " 'TomatilloRedChiliSalsa',\n",
       " 'Rice',\n",
       " 'BlackBeans',\n",
       " 'Cheese',\n",
       " 'SourCream',\n",
       " 'Lettuce',\n",
       " 'RoastedChiliCornSalsa',\n",
       " 'Rice',\n",
       " 'PintoBeans',\n",
       " 'Cheese',\n",
       " 'SourCream',\n",
       " 'Guacamole',\n",
       " 'Lettuce',\n",
       " 'RoastedChiliCornSalsa',\n",
       " 'Rice',\n",
       " 'Cheese',\n",
       " 'Lettuce',\n",
       " 'FreshTomatoSalsa',\n",
       " 'FajitaVegetables',\n",
       " 'Rice',\n",
       " 'RoastedChiliCornSalsa',\n",
       " 'FajitaVegetables',\n",
       " 'Rice',\n",
       " 'PintoBeans',\n",
       " 'Cheese',\n",
       " 'SourCream',\n",
       " 'Lettuce',\n",
       " 'RoastedChiliCornSalsa(Medium)',\n",
       " 'Tomatillo-RedChiliSalsa(Hot)',\n",
       " 'PintoBeans',\n",
       " 'Rice',\n",
       " 'FajitaVeggies',\n",
       " 'RoastedChiliCornSalsa',\n",
       " 'FajitaVegetables',\n",
       " 'Rice',\n",
       " 'BlackBeans',\n",
       " 'Cheese',\n",
       " 'FreshTomatoSalsa',\n",
       " 'FajitaVegetables',\n",
       " 'Rice',\n",
       " 'BlackBeans',\n",
       " 'Cheese',\n",
       " 'Guacamole',\n",
       " 'Lettuce',\n",
       " 'RoastedChiliCornSalsa',\n",
       " 'Rice',\n",
       " 'BlackBeans',\n",
       " 'Cheese',\n",
       " 'Guacamole',\n",
       " 'FreshTomatoSalsa',\n",
       " 'Rice',\n",
       " 'BlackBeans',\n",
       " 'Cheese',\n",
       " 'SourCream',\n",
       " 'Lettuce',\n",
       " 'RoastedChiliCornSalsa',\n",
       " 'Rice',\n",
       " 'BlackBeans',\n",
       " 'Cheese',\n",
       " 'SourCream',\n",
       " 'Guacamole',\n",
       " 'FreshTomatoSalsa',\n",
       " 'Rice',\n",
       " 'BlackBeans',\n",
       " 'Cheese',\n",
       " 'Guacamole',\n",
       " 'FreshTomatoSalsa(Mild)',\n",
       " 'Tomatillo-RedChiliSalsa(Hot)',\n",
       " 'BlackBeans',\n",
       " 'Rice',\n",
       " 'Cheese',\n",
       " 'SourCream',\n",
       " 'Guacamole',\n",
       " 'Tomatillo-RedChiliSalsa(Hot)',\n",
       " 'PintoBeans',\n",
       " 'Rice',\n",
       " 'Cheese',\n",
       " 'SourCream',\n",
       " 'Guacamole',\n",
       " 'RoastedChiliCornSalsa',\n",
       " 'Rice',\n",
       " 'BlackBeans',\n",
       " 'SourCream',\n",
       " 'Guacamole',\n",
       " 'TomatilloGreenChiliSalsa',\n",
       " 'Rice',\n",
       " 'Cheese',\n",
       " 'Guacamole',\n",
       " 'Lettuce',\n",
       " 'FreshTomatoSalsa',\n",
       " 'FajitaVegetables',\n",
       " 'Rice',\n",
       " 'FreshTomatoSalsa',\n",
       " 'Rice',\n",
       " 'BlackBeans',\n",
       " 'FreshTomatoSalsa',\n",
       " 'FajitaVegetables',\n",
       " 'Rice',\n",
       " 'FreshTomatoSalsa',\n",
       " 'FajitaVegetables',\n",
       " 'Rice',\n",
       " 'Cheese',\n",
       " 'SourCream',\n",
       " 'Guacamole',\n",
       " 'Lettuce',\n",
       " 'FreshTomatoSalsa(Mild)',\n",
       " 'Rice',\n",
       " 'BlackBeans',\n",
       " 'FajitaVeggies',\n",
       " 'Cheese',\n",
       " 'Guacamole',\n",
       " 'Lettuce',\n",
       " 'RoastedChiliCornSalsa',\n",
       " 'Rice',\n",
       " 'BlackBeans',\n",
       " 'Cheese',\n",
       " 'SourCream',\n",
       " 'Lettuce',\n",
       " 'RoastedChiliCornSalsa',\n",
       " 'FajitaVegetables',\n",
       " 'BlackBeans',\n",
       " 'Guacamole',\n",
       " 'TomatilloGreenChiliSalsa',\n",
       " 'Rice',\n",
       " 'PintoBeans',\n",
       " 'SourCream',\n",
       " 'Lettuce',\n",
       " 'FreshTomatoSalsa(Mild)',\n",
       " 'Tomatillo-RedChiliSalsa(Hot)',\n",
       " 'BlackBeans',\n",
       " 'Rice',\n",
       " 'Cheese',\n",
       " 'SourCream',\n",
       " 'FreshTomatoSalsa(Mild)',\n",
       " 'BlackBeans',\n",
       " 'Rice',\n",
       " 'Cheese',\n",
       " 'TomatilloRedChiliSalsa',\n",
       " 'BlackBeans',\n",
       " 'Cheese',\n",
       " 'SourCream',\n",
       " 'FreshTomatoSalsa',\n",
       " 'Rice',\n",
       " 'Cheese',\n",
       " 'SourCream',\n",
       " 'Lettuce',\n",
       " 'FreshTomatoSalsa',\n",
       " 'Rice',\n",
       " 'FajitaVegetables',\n",
       " 'TomatilloRedChiliSalsa',\n",
       " 'Rice',\n",
       " 'Cheese',\n",
       " 'Lettuce',\n",
       " 'TomatilloGreenChiliSalsa',\n",
       " 'Rice',\n",
       " 'BlackBeans',\n",
       " 'PintoBeans',\n",
       " 'Guacamole',\n",
       " 'Lettuce',\n",
       " 'RoastedChiliCornSalsa',\n",
       " 'Rice',\n",
       " 'BlackBeans',\n",
       " 'SourCream',\n",
       " 'TomatilloRedChiliSalsa',\n",
       " 'FajitaVegetables',\n",
       " 'Rice',\n",
       " 'BlackBeans',\n",
       " 'Cheese',\n",
       " 'SourCream',\n",
       " 'Tomatillo-GreenChiliSalsa(Medium)',\n",
       " 'FajitaVeggies',\n",
       " 'Cheese',\n",
       " 'Guacamole',\n",
       " 'Lettuce',\n",
       " 'RoastedChiliCornSalsa',\n",
       " 'Rice',\n",
       " 'BlackBeans',\n",
       " 'Cheese',\n",
       " 'Lettuce',\n",
       " 'Guacamole',\n",
       " 'RoastedChiliCornSalsa(Medium)',\n",
       " 'Rice',\n",
       " 'Cheese',\n",
       " 'FreshTomatoSalsa',\n",
       " 'Rice',\n",
       " 'Lettuce',\n",
       " 'RoastedChiliCornSalsa',\n",
       " 'Rice',\n",
       " 'BlackBeans',\n",
       " 'Cheese',\n",
       " 'TomatilloRedChiliSalsa',\n",
       " 'FajitaVegetables',\n",
       " 'Rice',\n",
       " 'Cheese',\n",
       " 'Guacamole',\n",
       " 'FreshTomatoSalsa',\n",
       " 'Rice',\n",
       " 'SourCream',\n",
       " 'Guacamole',\n",
       " 'FreshTomatoSalsa(Mild)',\n",
       " 'RoastedChiliCornSalsa(Medium)',\n",
       " 'Rice',\n",
       " 'FajitaVeggies',\n",
       " 'RoastedChiliCornSalsa',\n",
       " 'FajitaVegetables',\n",
       " 'Rice',\n",
       " 'SourCream',\n",
       " 'Lettuce',\n",
       " 'FreshTomatoSalsa',\n",
       " 'FajitaVegetables',\n",
       " 'Rice',\n",
       " 'BlackBeans',\n",
       " 'PintoBeans',\n",
       " 'Cheese',\n",
       " 'SourCream',\n",
       " 'Guacamole',\n",
       " 'RoastedChiliCornSalsa(Medium)',\n",
       " 'Tomatillo-RedChiliSalsa(Hot)',\n",
       " 'PintoBeans',\n",
       " 'Rice',\n",
       " 'FajitaVeggies',\n",
       " 'Cheese',\n",
       " 'Lettuce',\n",
       " 'FreshTomatoSalsa(Mild)',\n",
       " 'BlackBeans',\n",
       " 'Rice',\n",
       " 'SourCream',\n",
       " 'Guacamole',\n",
       " 'FreshTomatoSalsa',\n",
       " 'FajitaVegetables',\n",
       " 'Rice',\n",
       " 'FreshTomatoSalsa',\n",
       " 'Rice',\n",
       " 'BlackBeans',\n",
       " 'Cheese',\n",
       " 'SourCream',\n",
       " 'Guacamole',\n",
       " 'Lettuce',\n",
       " 'FreshTomatoSalsa',\n",
       " 'Rice',\n",
       " 'BlackBeans',\n",
       " 'Cheese',\n",
       " 'SourCream',\n",
       " 'Lettuce',\n",
       " 'FreshTomatoSalsa',\n",
       " 'FajitaVegetables',\n",
       " 'PintoBeans',\n",
       " 'Guacamole',\n",
       " 'Lettuce',\n",
       " 'FreshTomatoSalsa',\n",
       " 'Rice',\n",
       " 'Cheese',\n",
       " 'SourCream',\n",
       " 'Lettuce',\n",
       " 'TomatilloRedChiliSalsa',\n",
       " 'FajitaVegetables',\n",
       " 'Rice',\n",
       " 'BlackBeans',\n",
       " 'Cheese',\n",
       " 'SourCream',\n",
       " ...]"
      ]
     },
     "execution_count": 71,
     "metadata": {},
     "output_type": "execute_result"
    }
   ],
   "source": [
    "big_list = choice_description_list.explode().tolist()\n",
    "big_list"
   ]
  },
  {
   "cell_type": "code",
   "execution_count": null,
   "metadata": {},
   "outputs": [
    {
     "data": {
      "text/plain": [
       "['Tomatillo-RedChiliSalsa(Hot)',\n",
       " 'BlackBeans',\n",
       " 'Rice',\n",
       " 'Cheese',\n",
       " 'SourCream',\n",
       " 'FreshTomatoSalsa(Mild)',\n",
       " 'Rice',\n",
       " 'Cheese',\n",
       " 'SourCream',\n",
       " 'Guacamole',\n",
       " 'Lettuce',\n",
       " 'FreshTomatoSalsa',\n",
       " 'FajitaVegetables',\n",
       " 'Rice',\n",
       " 'Cheese',\n",
       " 'SourCream',\n",
       " 'Guacamole',\n",
       " 'TomatilloRedChiliSalsa',\n",
       " 'FajitaVegetables',\n",
       " 'BlackBeans',\n",
       " 'SourCream',\n",
       " 'Cheese',\n",
       " 'Lettuce',\n",
       " 'RoastedChiliCornSalsa(Medium)',\n",
       " 'PintoBeans',\n",
       " 'Rice',\n",
       " 'FajitaVeggies',\n",
       " 'Cheese',\n",
       " 'SourCream',\n",
       " 'Lettuce',\n",
       " 'RoastedChiliCornSalsa',\n",
       " 'Rice',\n",
       " 'BlackBeans',\n",
       " 'Cheese',\n",
       " 'SourCream',\n",
       " 'Guacamole',\n",
       " 'Lettuce',\n",
       " 'FreshTomatoSalsa',\n",
       " 'Rice',\n",
       " 'BlackBeans',\n",
       " 'PintoBeans',\n",
       " 'Cheese',\n",
       " 'Lettuce',\n",
       " 'FreshTomatoSalsa',\n",
       " 'Rice',\n",
       " 'BlackBeans',\n",
       " 'Cheese',\n",
       " 'SourCream',\n",
       " 'Lettuce',\n",
       " 'TomatilloRedChiliSalsa',\n",
       " 'Rice',\n",
       " 'FajitaVegetables',\n",
       " 'SourCream',\n",
       " 'Lettuce',\n",
       " 'TomatilloRedChiliSalsa',\n",
       " 'Rice',\n",
       " 'BlackBeans',\n",
       " 'Cheese',\n",
       " 'SourCream',\n",
       " 'Lettuce',\n",
       " 'FreshTomatoSalsa',\n",
       " 'Guacamole',\n",
       " 'Cheese',\n",
       " 'SourCream',\n",
       " 'FajitaVegetables',\n",
       " 'Rice',\n",
       " 'FreshTomatoSalsa',\n",
       " 'Rice',\n",
       " 'FajitaVegetables',\n",
       " 'SourCream',\n",
       " 'Cheese',\n",
       " 'Guacamole',\n",
       " 'TomatilloGreenChiliSalsa',\n",
       " 'Rice',\n",
       " 'SourCream',\n",
       " 'Cheese',\n",
       " 'Guacamole',\n",
       " 'FreshTomatoSalsa',\n",
       " 'FajitaVegetables',\n",
       " 'Rice',\n",
       " 'BlackBeans',\n",
       " 'Cheese',\n",
       " 'Guacamole',\n",
       " 'Lettuce',\n",
       " 'FreshTomatoSalsa',\n",
       " 'FajitaVegetables',\n",
       " 'Rice',\n",
       " 'Lettuce',\n",
       " 'FreshTomatoSalsa(Mild)',\n",
       " 'BlackBeans',\n",
       " 'Rice',\n",
       " 'FajitaVeggies',\n",
       " 'Cheese',\n",
       " 'SourCream',\n",
       " 'Lettuce',\n",
       " 'RoastedChiliCornSalsa(Medium)',\n",
       " 'BlackBeans',\n",
       " 'Rice',\n",
       " 'FajitaVeggies',\n",
       " 'Cheese',\n",
       " 'SourCream',\n",
       " 'Guacamole',\n",
       " 'Lettuce',\n",
       " 'FreshTomatoSalsa',\n",
       " 'Rice',\n",
       " 'BlackBeans',\n",
       " 'SourCream',\n",
       " 'FreshTomatoSalsa',\n",
       " 'Rice',\n",
       " 'Cheese',\n",
       " 'SourCream',\n",
       " 'RoastedChiliCornSalsa(Medium)',\n",
       " 'Tomatillo-RedChiliSalsa(Hot)',\n",
       " 'BlackBeans',\n",
       " 'Rice',\n",
       " 'FajitaVeggies',\n",
       " 'Guacamole',\n",
       " 'Lettuce',\n",
       " 'FreshTomatoSalsa',\n",
       " 'Rice',\n",
       " 'Cheese',\n",
       " 'Lettuce',\n",
       " 'RoastedChiliCornSalsa',\n",
       " 'FajitaVegetables',\n",
       " 'Rice',\n",
       " 'BlackBeans',\n",
       " 'Cheese',\n",
       " 'SourCream',\n",
       " 'Guacamole',\n",
       " 'Lettuce',\n",
       " 'RoastedChiliCornSalsa',\n",
       " 'FajitaVegetables',\n",
       " 'Rice',\n",
       " 'BlackBeans',\n",
       " 'PintoBeans',\n",
       " 'Cheese',\n",
       " 'SourCream',\n",
       " 'Guacamole',\n",
       " 'Lettuce',\n",
       " 'TomatilloGreenChiliSalsa',\n",
       " 'Rice',\n",
       " 'BlackBeans',\n",
       " 'Cheese',\n",
       " 'SourCream',\n",
       " 'RoastedChiliCornSalsa',\n",
       " 'Rice',\n",
       " 'BlackBeans',\n",
       " 'Cheese',\n",
       " 'SourCream',\n",
       " 'TomatilloGreenChiliSalsa',\n",
       " 'Rice',\n",
       " 'PintoBeans',\n",
       " 'SourCream',\n",
       " 'Lettuce',\n",
       " 'FreshTomatoSalsa',\n",
       " 'FajitaVegetables',\n",
       " 'Rice',\n",
       " 'BlackBeans',\n",
       " 'Cheese',\n",
       " 'SourCream',\n",
       " 'Lettuce',\n",
       " 'TomatilloRedChiliSalsa',\n",
       " 'Rice',\n",
       " 'Cheese',\n",
       " 'Lettuce',\n",
       " 'FreshTomatoSalsa',\n",
       " 'Rice',\n",
       " 'BlackBeans',\n",
       " 'Cheese',\n",
       " 'FreshTomatoSalsa',\n",
       " 'Rice',\n",
       " 'BlackBeans',\n",
       " 'Cheese',\n",
       " 'SourCream',\n",
       " 'FreshTomatoSalsa',\n",
       " 'Rice',\n",
       " 'Cheese',\n",
       " 'SourCream',\n",
       " 'RoastedChiliCornSalsa',\n",
       " 'FajitaVegetables',\n",
       " 'Rice',\n",
       " 'BlackBeans',\n",
       " 'Guacamole',\n",
       " 'Lettuce',\n",
       " 'TomatilloGreenChiliSalsa',\n",
       " 'Rice',\n",
       " 'SourCream',\n",
       " 'Guacamole',\n",
       " 'Lettuce',\n",
       " 'FreshTomatoSalsa(Mild)',\n",
       " 'Rice',\n",
       " 'FajitaVeggies',\n",
       " 'Cheese',\n",
       " 'SourCream',\n",
       " 'Lettuce',\n",
       " 'FreshTomatoSalsa',\n",
       " 'Rice',\n",
       " 'BlackBeans',\n",
       " 'Cheese',\n",
       " 'SourCream',\n",
       " 'Guacamole',\n",
       " 'Lettuce',\n",
       " 'FreshTomatoSalsa',\n",
       " 'Rice',\n",
       " 'BlackBeans',\n",
       " 'Cheese',\n",
       " 'SourCream',\n",
       " 'Lettuce',\n",
       " 'FreshTomatoSalsa',\n",
       " 'Rice',\n",
       " 'BlackBeans',\n",
       " 'Cheese',\n",
       " 'SourCream',\n",
       " 'FreshTomatoSalsa',\n",
       " 'FajitaVegetables',\n",
       " 'Rice',\n",
       " 'BlackBeans',\n",
       " 'SourCream',\n",
       " 'TomatilloRedChiliSalsa',\n",
       " 'Rice',\n",
       " 'Cheese',\n",
       " 'Tomatillo-RedChiliSalsa(Hot)',\n",
       " 'Rice',\n",
       " 'FajitaVeggies',\n",
       " 'Cheese',\n",
       " 'SourCream',\n",
       " 'Lettuce',\n",
       " 'FreshTomatoSalsa',\n",
       " 'Rice',\n",
       " 'Cheese',\n",
       " 'SourCream',\n",
       " 'FreshTomatoSalsa',\n",
       " 'Rice',\n",
       " 'BlackBeans',\n",
       " 'Cheese',\n",
       " 'SourCream',\n",
       " 'Guacamole',\n",
       " 'TomatilloRedChiliSalsa',\n",
       " 'Rice',\n",
       " 'BlackBeans',\n",
       " 'Cheese',\n",
       " 'SourCream',\n",
       " 'Guacamole',\n",
       " 'Lettuce',\n",
       " 'FreshTomatoSalsa(Mild)',\n",
       " 'Tomatillo-GreenChiliSalsa(Medium)',\n",
       " 'RoastedChiliCornSalsa(Medium)',\n",
       " 'BlackBeans',\n",
       " 'Rice',\n",
       " 'FajitaVeggies',\n",
       " 'Cheese',\n",
       " 'Guacamole',\n",
       " 'Lettuce',\n",
       " 'TomatilloGreenChiliSalsa',\n",
       " 'SourCream',\n",
       " 'Cheese',\n",
       " 'Guacamole',\n",
       " 'TomatilloRedChiliSalsa',\n",
       " 'RoastedChiliCornSalsa',\n",
       " 'Rice',\n",
       " 'Lettuce',\n",
       " 'FreshTomatoSalsa',\n",
       " 'Rice',\n",
       " 'BlackBeans',\n",
       " 'Cheese',\n",
       " 'Lettuce',\n",
       " 'FreshTomatoSalsa',\n",
       " 'Rice',\n",
       " 'BlackBeans',\n",
       " 'Cheese',\n",
       " 'SourCream',\n",
       " 'Guacamole',\n",
       " 'Lettuce',\n",
       " 'FreshTomatoSalsa',\n",
       " 'Rice',\n",
       " 'BlackBeans',\n",
       " 'Cheese',\n",
       " 'FreshTomatoSalsa(Mild)',\n",
       " 'BlackBeans',\n",
       " 'Rice',\n",
       " 'FajitaVeggies',\n",
       " 'Cheese',\n",
       " 'SourCream',\n",
       " 'Lettuce',\n",
       " 'TomatilloGreenChiliSalsa',\n",
       " 'Rice',\n",
       " 'BlackBeans',\n",
       " 'Cheese',\n",
       " 'RoastedChiliCornSalsa',\n",
       " 'Rice',\n",
       " 'FajitaVegetables',\n",
       " 'BlackBeans',\n",
       " 'SourCream',\n",
       " 'Cheese',\n",
       " 'Lettuce',\n",
       " 'FreshTomatoSalsa',\n",
       " 'FajitaVegetables',\n",
       " 'Rice',\n",
       " 'BlackBeans',\n",
       " 'Cheese',\n",
       " 'FreshTomatoSalsa',\n",
       " 'Rice',\n",
       " 'BlackBeans',\n",
       " 'Cheese',\n",
       " 'SourCream',\n",
       " 'Guacamole',\n",
       " 'Lettuce',\n",
       " 'FreshTomatoSalsa',\n",
       " 'FajitaVegetables',\n",
       " 'Rice',\n",
       " 'BlackBeans',\n",
       " 'Cheese',\n",
       " 'FreshTomatoSalsa',\n",
       " 'Rice',\n",
       " 'BlackBeans',\n",
       " 'Cheese',\n",
       " 'SourCream',\n",
       " 'Lettuce',\n",
       " 'FreshTomatoSalsa',\n",
       " 'FajitaVegetables',\n",
       " 'Rice',\n",
       " 'Cheese',\n",
       " 'SourCream',\n",
       " 'Guacamole',\n",
       " 'RoastedChiliCornSalsa',\n",
       " 'FajitaVegetables',\n",
       " 'Rice',\n",
       " 'BlackBeans',\n",
       " 'Guacamole',\n",
       " 'Tomatillo-RedChiliSalsa(Hot)',\n",
       " 'Rice',\n",
       " 'FreshTomatoSalsa',\n",
       " 'Rice',\n",
       " 'BlackBeans',\n",
       " 'SourCream',\n",
       " 'Cheese',\n",
       " 'FreshTomatoSalsa',\n",
       " 'Rice',\n",
       " 'Cheese',\n",
       " 'Lettuce',\n",
       " 'TomatilloGreenChiliSalsa',\n",
       " 'Rice',\n",
       " 'BlackBeans',\n",
       " 'Cheese',\n",
       " 'RoastedChiliCornSalsa',\n",
       " 'Rice',\n",
       " 'PintoBeans',\n",
       " 'Lettuce',\n",
       " 'Guacamole',\n",
       " 'RoastedChiliCornSalsa(Medium)',\n",
       " 'BlackBeans',\n",
       " 'FajitaVeggies',\n",
       " 'Cheese',\n",
       " 'Guacamole',\n",
       " 'Lettuce',\n",
       " 'FreshTomatoSalsa',\n",
       " 'Rice',\n",
       " 'Cheese',\n",
       " 'Lettuce',\n",
       " 'RoastedChiliCornSalsa',\n",
       " 'Rice',\n",
       " 'BlackBeans',\n",
       " 'Cheese',\n",
       " 'SourCream',\n",
       " 'Guacamole',\n",
       " 'Lettuce',\n",
       " 'FreshTomatoSalsa(Mild)',\n",
       " 'Rice',\n",
       " 'Cheese',\n",
       " 'SourCream',\n",
       " 'Lettuce',\n",
       " 'FreshTomatoSalsa',\n",
       " 'Rice',\n",
       " 'PintoBeans',\n",
       " 'SourCream',\n",
       " 'Cheese',\n",
       " 'Lettuce',\n",
       " 'TomatilloGreenChiliSalsa',\n",
       " 'Rice',\n",
       " 'BlackBeans',\n",
       " 'SourCream',\n",
       " 'Lettuce',\n",
       " 'RoastedChiliCornSalsa',\n",
       " 'Rice',\n",
       " 'Cheese',\n",
       " 'Lettuce',\n",
       " 'FreshTomatoSalsa',\n",
       " 'Rice',\n",
       " 'PintoBeans',\n",
       " 'Cheese',\n",
       " 'SourCream',\n",
       " 'Lettuce',\n",
       " 'Tomatillo-RedChiliSalsa(Hot)',\n",
       " 'BlackBeans',\n",
       " 'Rice',\n",
       " 'FajitaVeggies',\n",
       " 'Cheese',\n",
       " 'Lettuce',\n",
       " 'FreshTomatoSalsa',\n",
       " 'FajitaVegetables',\n",
       " 'Rice',\n",
       " 'Lettuce',\n",
       " 'Tomatillo-RedChiliSalsa(Hot)',\n",
       " 'BlackBeans',\n",
       " 'Rice',\n",
       " 'Cheese',\n",
       " 'SourCream',\n",
       " 'Lettuce',\n",
       " 'FreshTomatoSalsa',\n",
       " 'Rice',\n",
       " 'BlackBeans',\n",
       " 'Cheese',\n",
       " 'SourCream',\n",
       " 'Guacamole',\n",
       " 'Lettuce',\n",
       " 'FreshTomatoSalsa',\n",
       " 'FajitaVegetables',\n",
       " 'Rice',\n",
       " 'Cheese',\n",
       " 'SourCream',\n",
       " 'Guacamole',\n",
       " 'TomatilloGreenChiliSalsa',\n",
       " 'Rice',\n",
       " 'SourCream',\n",
       " 'Cheese',\n",
       " 'Guacamole',\n",
       " 'TomatilloGreenChiliSalsa',\n",
       " 'FajitaVegetables',\n",
       " 'Rice',\n",
       " 'BlackBeans',\n",
       " 'Cheese',\n",
       " 'SourCream',\n",
       " 'Guacamole',\n",
       " 'Lettuce',\n",
       " 'RoastedChiliCornSalsa',\n",
       " 'Rice',\n",
       " 'BlackBeans',\n",
       " 'Cheese',\n",
       " 'SourCream',\n",
       " 'Lettuce',\n",
       " 'FreshTomatoSalsa',\n",
       " 'Rice',\n",
       " 'BlackBeans',\n",
       " 'SourCream',\n",
       " 'Cheese',\n",
       " 'RoastedChiliCornSalsa',\n",
       " 'FajitaVegetables',\n",
       " 'Rice',\n",
       " 'BlackBeans',\n",
       " 'Cheese',\n",
       " 'SourCream',\n",
       " 'Guacamole',\n",
       " 'Lettuce',\n",
       " 'Tomatillo-GreenChiliSalsa(Medium)',\n",
       " 'BlackBeans',\n",
       " 'Tomatillo-GreenChiliSalsa(Medium)',\n",
       " 'BlackBeans',\n",
       " 'FreshTomatoSalsa',\n",
       " 'Rice',\n",
       " 'BlackBeans',\n",
       " 'Cheese',\n",
       " 'SourCream',\n",
       " 'Lettuce',\n",
       " 'RoastedChiliCornSalsa',\n",
       " 'FajitaVegetables',\n",
       " 'Rice',\n",
       " 'BlackBeans',\n",
       " 'Cheese',\n",
       " 'Lettuce',\n",
       " 'TomatilloRedChiliSalsa',\n",
       " 'FajitaVegetables',\n",
       " 'Rice',\n",
       " 'BlackBeans',\n",
       " 'Cheese',\n",
       " 'SourCream',\n",
       " 'Lettuce',\n",
       " 'FreshTomatoSalsa(Mild)',\n",
       " 'RoastedChiliCornSalsa(Medium)',\n",
       " 'Rice',\n",
       " 'SourCream',\n",
       " 'Guacamole',\n",
       " 'Lettuce',\n",
       " 'TomatilloRedChiliSalsa',\n",
       " 'Rice',\n",
       " 'FajitaVegetables',\n",
       " 'BlackBeans',\n",
       " 'SourCream',\n",
       " 'Cheese',\n",
       " 'TomatilloRedChiliSalsa',\n",
       " 'Rice',\n",
       " 'Cheese',\n",
       " 'SourCream',\n",
       " 'Lettuce',\n",
       " 'RoastedChiliCornSalsa(Medium)',\n",
       " 'FreshTomatoSalsa(Mild)',\n",
       " 'Rice',\n",
       " 'BlackBeans',\n",
       " 'FajitaVeggies',\n",
       " 'Cheese',\n",
       " 'SourCream',\n",
       " 'Guacamole',\n",
       " 'TomatilloRedChiliSalsa',\n",
       " 'Rice',\n",
       " 'BlackBeans',\n",
       " 'Cheese',\n",
       " 'SourCream',\n",
       " 'Lettuce',\n",
       " 'FreshTomatoSalsa',\n",
       " 'Rice',\n",
       " 'Guacamole',\n",
       " 'FreshTomatoSalsa',\n",
       " 'Rice',\n",
       " 'BlackBeans',\n",
       " 'Cheese',\n",
       " 'SourCream',\n",
       " 'Guacamole',\n",
       " 'TomatilloGreenChiliSalsa',\n",
       " 'Rice',\n",
       " 'PintoBeans',\n",
       " 'SourCream',\n",
       " 'Lettuce',\n",
       " 'TomatilloRedChiliSalsa',\n",
       " 'Rice',\n",
       " 'SourCream',\n",
       " 'Cheese',\n",
       " 'Guacamole',\n",
       " 'RoastedChiliCornSalsa',\n",
       " 'FajitaVegetables',\n",
       " 'PintoBeans',\n",
       " 'SourCream',\n",
       " 'Guacamole',\n",
       " 'TomatilloGreenChiliSalsa',\n",
       " 'Rice',\n",
       " 'Cheese',\n",
       " 'SourCream',\n",
       " 'Lettuce',\n",
       " 'Tomatillo-RedChiliSalsa(Hot)',\n",
       " 'PintoBeans',\n",
       " 'Rice',\n",
       " 'FajitaVeggies',\n",
       " 'Cheese',\n",
       " 'SourCream',\n",
       " 'Lettuce',\n",
       " 'FreshTomatoSalsa(Mild)',\n",
       " 'Rice',\n",
       " 'FajitaVeggies',\n",
       " 'SourCream',\n",
       " 'Guacamole',\n",
       " 'FreshTomatoSalsa',\n",
       " 'Rice',\n",
       " 'Cheese',\n",
       " 'SourCream',\n",
       " 'RoastedChiliCornSalsa',\n",
       " 'FajitaVegetables',\n",
       " 'Rice',\n",
       " 'Cheese',\n",
       " 'SourCream',\n",
       " 'Guacamole',\n",
       " 'Lettuce',\n",
       " 'RoastedChiliCornSalsa',\n",
       " 'Rice',\n",
       " 'Cheese',\n",
       " 'SourCream',\n",
       " 'Lettuce',\n",
       " 'TomatilloGreenChiliSalsa',\n",
       " 'Rice',\n",
       " 'Cheese',\n",
       " 'SourCream',\n",
       " 'Lettuce',\n",
       " 'FreshTomatoSalsa',\n",
       " 'Rice',\n",
       " 'BlackBeans',\n",
       " 'Cheese',\n",
       " 'SourCream',\n",
       " 'FreshTomatoSalsa',\n",
       " 'FajitaVegetables',\n",
       " 'Rice',\n",
       " 'Cheese',\n",
       " 'SourCream',\n",
       " 'Lettuce',\n",
       " 'FreshTomatoSalsa(Mild)',\n",
       " 'PintoBeans',\n",
       " 'Rice',\n",
       " 'Cheese',\n",
       " 'SourCream',\n",
       " 'Lettuce',\n",
       " 'Tomatillo-RedChiliSalsa(Hot)',\n",
       " 'Rice',\n",
       " 'FajitaVeggies',\n",
       " 'Cheese',\n",
       " 'SourCream',\n",
       " 'Lettuce',\n",
       " 'FreshTomatoSalsa',\n",
       " 'FajitaVegetables',\n",
       " 'Rice',\n",
       " 'BlackBeans',\n",
       " 'SourCream',\n",
       " 'RoastedChiliCornSalsa',\n",
       " 'FajitaVegetables',\n",
       " 'Rice',\n",
       " 'BlackBeans',\n",
       " 'Cheese',\n",
       " 'SourCream',\n",
       " 'TomatilloRedChiliSalsa',\n",
       " 'Rice',\n",
       " 'BlackBeans',\n",
       " 'Cheese',\n",
       " 'Lettuce',\n",
       " 'Guacamole',\n",
       " 'FreshTomatoSalsa',\n",
       " 'FajitaVegetables',\n",
       " 'Rice',\n",
       " 'Lettuce',\n",
       " 'FreshTomatoSalsa',\n",
       " 'Rice',\n",
       " 'BlackBeans',\n",
       " 'Cheese',\n",
       " 'Lettuce',\n",
       " 'FreshTomatoSalsa',\n",
       " 'FajitaVegetables',\n",
       " 'Rice',\n",
       " 'BlackBeans',\n",
       " 'Cheese',\n",
       " 'SourCream',\n",
       " 'Lettuce',\n",
       " 'TomatilloGreenChiliSalsa',\n",
       " 'FajitaVegetables',\n",
       " 'Rice',\n",
       " 'BlackBeans',\n",
       " 'Cheese',\n",
       " 'SourCream',\n",
       " 'Lettuce',\n",
       " 'TomatilloGreenChiliSalsa',\n",
       " 'Rice',\n",
       " 'SourCream',\n",
       " 'Cheese',\n",
       " 'Guacamole',\n",
       " 'FreshTomatoSalsa',\n",
       " 'Rice',\n",
       " 'FajitaVegetables',\n",
       " 'PintoBeans',\n",
       " 'SourCream',\n",
       " 'Cheese',\n",
       " 'Lettuce',\n",
       " 'Guacamole',\n",
       " 'FreshTomatoSalsa(Mild)',\n",
       " 'Tomatillo-RedChiliSalsa(Hot)',\n",
       " 'BlackBeans',\n",
       " 'Rice',\n",
       " 'Cheese',\n",
       " 'SourCream',\n",
       " 'RoastedChiliCornSalsa(Medium)',\n",
       " 'BlackBeans',\n",
       " 'Rice',\n",
       " 'SourCream',\n",
       " 'Guacamole',\n",
       " 'RoastedChiliCornSalsa(Medium)',\n",
       " 'Rice',\n",
       " 'Cheese',\n",
       " 'RoastedChiliCornSalsa(Medium)',\n",
       " 'BlackBeans',\n",
       " 'Rice',\n",
       " 'Cheese',\n",
       " 'SourCream',\n",
       " 'Lettuce',\n",
       " 'FreshTomatoSalsa',\n",
       " 'Rice',\n",
       " 'SourCream',\n",
       " 'Cheese',\n",
       " 'Lettuce',\n",
       " 'FreshTomatoSalsa',\n",
       " 'FreshTomatoSalsa',\n",
       " 'Rice',\n",
       " 'Cheese',\n",
       " 'BlackBeans',\n",
       " 'FreshTomatoSalsa',\n",
       " 'Rice',\n",
       " 'Cheese',\n",
       " 'SourCream',\n",
       " 'Lettuce',\n",
       " 'FreshTomatoSalsa',\n",
       " 'Rice',\n",
       " 'Cheese',\n",
       " 'SourCream',\n",
       " 'Lettuce',\n",
       " 'FreshTomatoSalsa',\n",
       " 'FajitaVegetables',\n",
       " 'Rice',\n",
       " 'FreshTomatoSalsa(Mild)',\n",
       " 'Tomatillo-RedChiliSalsa(Hot)',\n",
       " 'BlackBeans',\n",
       " 'Rice',\n",
       " 'Cheese',\n",
       " 'SourCream',\n",
       " 'FreshTomatoSalsa',\n",
       " 'FajitaVegetables',\n",
       " 'Rice',\n",
       " 'Tomatillo-GreenChiliSalsa(Medium)',\n",
       " 'RoastedChiliCornSalsa(Medium)',\n",
       " 'BlackBeans',\n",
       " 'Rice',\n",
       " 'Cheese',\n",
       " 'SourCream',\n",
       " 'Lettuce',\n",
       " 'FreshTomatoSalsa',\n",
       " 'FajitaVegetables',\n",
       " 'Rice',\n",
       " 'BlackBeans',\n",
       " 'Cheese',\n",
       " 'Guacamole',\n",
       " 'Lettuce',\n",
       " 'TomatilloGreenChiliSalsa',\n",
       " 'FajitaVegetables',\n",
       " 'Rice',\n",
       " 'Cheese',\n",
       " 'Lettuce',\n",
       " 'FreshTomatoSalsa',\n",
       " 'Rice',\n",
       " 'FajitaVegetables',\n",
       " 'TomatilloRedChiliSalsa',\n",
       " 'FajitaVegetables',\n",
       " 'Rice',\n",
       " 'BlackBeans',\n",
       " 'Cheese',\n",
       " 'SourCream',\n",
       " 'Guacamole',\n",
       " 'Lettuce',\n",
       " 'FreshTomatoSalsa',\n",
       " 'FajitaVegetables',\n",
       " 'Rice',\n",
       " 'Lettuce',\n",
       " 'FreshTomatoSalsa',\n",
       " 'Rice',\n",
       " 'BlackBeans',\n",
       " 'Cheese',\n",
       " 'FreshTomatoSalsa',\n",
       " 'Rice',\n",
       " 'Cheese',\n",
       " 'SourCream',\n",
       " 'Lettuce',\n",
       " 'TomatilloRedChiliSalsa',\n",
       " 'Rice',\n",
       " 'BlackBeans',\n",
       " 'Cheese',\n",
       " 'SourCream',\n",
       " 'Lettuce',\n",
       " 'RoastedChiliCornSalsa',\n",
       " 'Rice',\n",
       " 'PintoBeans',\n",
       " 'Cheese',\n",
       " 'SourCream',\n",
       " 'Guacamole',\n",
       " 'Lettuce',\n",
       " 'RoastedChiliCornSalsa',\n",
       " 'Rice',\n",
       " 'Cheese',\n",
       " 'Lettuce',\n",
       " 'FreshTomatoSalsa',\n",
       " 'FajitaVegetables',\n",
       " 'Rice',\n",
       " 'RoastedChiliCornSalsa',\n",
       " 'FajitaVegetables',\n",
       " 'Rice',\n",
       " 'PintoBeans',\n",
       " 'Cheese',\n",
       " 'SourCream',\n",
       " 'Lettuce',\n",
       " 'RoastedChiliCornSalsa(Medium)',\n",
       " 'Tomatillo-RedChiliSalsa(Hot)',\n",
       " 'PintoBeans',\n",
       " 'Rice',\n",
       " 'FajitaVeggies',\n",
       " 'RoastedChiliCornSalsa',\n",
       " 'FajitaVegetables',\n",
       " 'Rice',\n",
       " 'BlackBeans',\n",
       " 'Cheese',\n",
       " 'FreshTomatoSalsa',\n",
       " 'FajitaVegetables',\n",
       " 'Rice',\n",
       " 'BlackBeans',\n",
       " 'Cheese',\n",
       " 'Guacamole',\n",
       " 'Lettuce',\n",
       " 'RoastedChiliCornSalsa',\n",
       " 'Rice',\n",
       " 'BlackBeans',\n",
       " 'Cheese',\n",
       " 'Guacamole',\n",
       " 'FreshTomatoSalsa',\n",
       " 'Rice',\n",
       " 'BlackBeans',\n",
       " 'Cheese',\n",
       " 'SourCream',\n",
       " 'Lettuce',\n",
       " 'RoastedChiliCornSalsa',\n",
       " 'Rice',\n",
       " 'BlackBeans',\n",
       " 'Cheese',\n",
       " 'SourCream',\n",
       " 'Guacamole',\n",
       " 'FreshTomatoSalsa',\n",
       " 'Rice',\n",
       " 'BlackBeans',\n",
       " 'Cheese',\n",
       " 'Guacamole',\n",
       " 'FreshTomatoSalsa(Mild)',\n",
       " 'Tomatillo-RedChiliSalsa(Hot)',\n",
       " 'BlackBeans',\n",
       " 'Rice',\n",
       " 'Cheese',\n",
       " 'SourCream',\n",
       " 'Guacamole',\n",
       " 'Tomatillo-RedChiliSalsa(Hot)',\n",
       " 'PintoBeans',\n",
       " 'Rice',\n",
       " 'Cheese',\n",
       " 'SourCream',\n",
       " 'Guacamole',\n",
       " 'RoastedChiliCornSalsa',\n",
       " 'Rice',\n",
       " 'BlackBeans',\n",
       " 'SourCream',\n",
       " 'Guacamole',\n",
       " 'TomatilloGreenChiliSalsa',\n",
       " 'Rice',\n",
       " 'Cheese',\n",
       " 'Guacamole',\n",
       " 'Lettuce',\n",
       " 'FreshTomatoSalsa',\n",
       " 'FajitaVegetables',\n",
       " 'Rice',\n",
       " 'FreshTomatoSalsa',\n",
       " 'Rice',\n",
       " 'BlackBeans',\n",
       " 'FreshTomatoSalsa',\n",
       " 'FajitaVegetables',\n",
       " 'Rice',\n",
       " 'FreshTomatoSalsa',\n",
       " 'FajitaVegetables',\n",
       " 'Rice',\n",
       " 'Cheese',\n",
       " 'SourCream',\n",
       " 'Guacamole',\n",
       " 'Lettuce',\n",
       " 'FreshTomatoSalsa(Mild)',\n",
       " 'Rice',\n",
       " 'BlackBeans',\n",
       " 'FajitaVeggies',\n",
       " 'Cheese',\n",
       " 'Guacamole',\n",
       " 'Lettuce',\n",
       " 'RoastedChiliCornSalsa',\n",
       " 'Rice',\n",
       " 'BlackBeans',\n",
       " 'Cheese',\n",
       " 'SourCream',\n",
       " 'Lettuce',\n",
       " 'RoastedChiliCornSalsa',\n",
       " 'FajitaVegetables',\n",
       " 'BlackBeans',\n",
       " 'Guacamole',\n",
       " 'TomatilloGreenChiliSalsa',\n",
       " 'Rice',\n",
       " 'PintoBeans',\n",
       " 'SourCream',\n",
       " 'Lettuce',\n",
       " 'FreshTomatoSalsa(Mild)',\n",
       " 'Tomatillo-RedChiliSalsa(Hot)',\n",
       " 'BlackBeans',\n",
       " 'Rice',\n",
       " 'Cheese',\n",
       " 'SourCream',\n",
       " 'FreshTomatoSalsa(Mild)',\n",
       " 'BlackBeans',\n",
       " 'Rice',\n",
       " 'Cheese',\n",
       " 'TomatilloRedChiliSalsa',\n",
       " 'BlackBeans',\n",
       " 'Cheese',\n",
       " 'SourCream',\n",
       " 'FreshTomatoSalsa',\n",
       " 'Rice',\n",
       " 'Cheese',\n",
       " 'SourCream',\n",
       " 'Lettuce',\n",
       " 'FreshTomatoSalsa',\n",
       " 'Rice',\n",
       " 'FajitaVegetables',\n",
       " 'TomatilloRedChiliSalsa',\n",
       " 'Rice',\n",
       " 'Cheese',\n",
       " 'Lettuce',\n",
       " 'TomatilloGreenChiliSalsa',\n",
       " 'Rice',\n",
       " 'BlackBeans',\n",
       " 'PintoBeans',\n",
       " 'Guacamole',\n",
       " 'Lettuce',\n",
       " 'RoastedChiliCornSalsa',\n",
       " 'Rice',\n",
       " 'BlackBeans',\n",
       " 'SourCream',\n",
       " 'TomatilloRedChiliSalsa',\n",
       " 'FajitaVegetables',\n",
       " 'Rice',\n",
       " 'BlackBeans',\n",
       " 'Cheese',\n",
       " 'SourCream',\n",
       " 'Tomatillo-GreenChiliSalsa(Medium)',\n",
       " 'FajitaVeggies',\n",
       " 'Cheese',\n",
       " 'Guacamole',\n",
       " 'Lettuce',\n",
       " 'RoastedChiliCornSalsa',\n",
       " 'Rice',\n",
       " 'BlackBeans',\n",
       " 'Cheese',\n",
       " 'Lettuce',\n",
       " 'Guacamole',\n",
       " 'RoastedChiliCornSalsa(Medium)',\n",
       " 'Rice',\n",
       " 'Cheese',\n",
       " 'FreshTomatoSalsa',\n",
       " 'Rice',\n",
       " 'Lettuce',\n",
       " 'RoastedChiliCornSalsa',\n",
       " 'Rice',\n",
       " 'BlackBeans',\n",
       " 'Cheese',\n",
       " 'TomatilloRedChiliSalsa',\n",
       " 'FajitaVegetables',\n",
       " 'Rice',\n",
       " 'Cheese',\n",
       " 'Guacamole',\n",
       " 'FreshTomatoSalsa',\n",
       " 'Rice',\n",
       " 'SourCream',\n",
       " 'Guacamole',\n",
       " 'FreshTomatoSalsa(Mild)',\n",
       " 'RoastedChiliCornSalsa(Medium)',\n",
       " 'Rice',\n",
       " 'FajitaVeggies',\n",
       " 'RoastedChiliCornSalsa',\n",
       " 'FajitaVegetables',\n",
       " 'Rice',\n",
       " 'SourCream',\n",
       " 'Lettuce',\n",
       " 'FreshTomatoSalsa',\n",
       " 'FajitaVegetables',\n",
       " 'Rice',\n",
       " 'BlackBeans',\n",
       " 'PintoBeans',\n",
       " 'Cheese',\n",
       " 'SourCream',\n",
       " 'Guacamole',\n",
       " 'RoastedChiliCornSalsa(Medium)',\n",
       " 'Tomatillo-RedChiliSalsa(Hot)',\n",
       " 'PintoBeans',\n",
       " 'Rice',\n",
       " 'FajitaVeggies',\n",
       " 'Cheese',\n",
       " 'Lettuce',\n",
       " 'FreshTomatoSalsa(Mild)',\n",
       " 'BlackBeans',\n",
       " 'Rice',\n",
       " 'SourCream',\n",
       " 'Guacamole',\n",
       " 'FreshTomatoSalsa',\n",
       " 'FajitaVegetables',\n",
       " 'Rice',\n",
       " 'FreshTomatoSalsa',\n",
       " 'Rice',\n",
       " 'BlackBeans',\n",
       " 'Cheese',\n",
       " 'SourCream',\n",
       " 'Guacamole',\n",
       " 'Lettuce',\n",
       " 'FreshTomatoSalsa',\n",
       " 'Rice',\n",
       " 'BlackBeans',\n",
       " 'Cheese',\n",
       " 'SourCream',\n",
       " 'Lettuce',\n",
       " 'FreshTomatoSalsa',\n",
       " 'FajitaVegetables',\n",
       " 'PintoBeans',\n",
       " 'Guacamole',\n",
       " 'Lettuce',\n",
       " 'FreshTomatoSalsa',\n",
       " 'Rice',\n",
       " 'Cheese',\n",
       " 'SourCream',\n",
       " 'Lettuce',\n",
       " 'TomatilloRedChiliSalsa',\n",
       " 'FajitaVegetables',\n",
       " 'Rice',\n",
       " 'BlackBeans',\n",
       " 'Cheese',\n",
       " 'SourCream',\n",
       " ...]"
      ]
     },
     "execution_count": 72,
     "metadata": {},
     "output_type": "execute_result"
    }
   ],
   "source": [
    "# big_list = sum(choice_description_list.tolist(), [])\n",
    "# big_list"
   ]
  },
  {
   "cell_type": "code",
   "execution_count": 78,
   "metadata": {},
   "outputs": [
    {
     "data": {
      "text/plain": [
       "quantity\n",
       "1    693\n",
       "2     31\n",
       "3      2\n",
       "Name: count, dtype: int64"
      ]
     },
     "execution_count": 78,
     "metadata": {},
     "output_type": "execute_result"
    }
   ],
   "source": [
    "df[df[\"item_name\"]==\"Chicken Bowl\"][\"quantity\"].value_counts()"
   ]
  },
  {
   "cell_type": "code",
   "execution_count": 79,
   "metadata": {},
   "outputs": [
    {
     "data": {
      "text/plain": [
       "[('Rice', 684),\n",
       " ('Cheese', 549),\n",
       " ('Lettuce', 443),\n",
       " ('SourCream', 427),\n",
       " ('BlackBeans', 386),\n",
       " ('FreshTomatoSalsa', 324),\n",
       " ('Guacamole', 282),\n",
       " ('FajitaVegetables', 209),\n",
       " ('PintoBeans', 120),\n",
       " ('RoastedChiliCornSalsa', 106),\n",
       " ('FajitaVeggies', 87),\n",
       " ('FreshTomatoSalsa(Mild)', 83),\n",
       " ('Tomatillo-RedChiliSalsa(Hot)', 65),\n",
       " ('RoastedChiliCornSalsa(Medium)', 65),\n",
       " ('TomatilloGreenChiliSalsa', 65),\n",
       " ('TomatilloRedChiliSalsa', 61),\n",
       " ('Tomatillo-GreenChiliSalsa(Medium)', 21),\n",
       " ('FreshTomato(Mild)', 4),\n",
       " ('WhiteRice', 2)]"
      ]
     },
     "execution_count": 79,
     "metadata": {},
     "output_type": "execute_result"
    }
   ],
   "source": [
    "from collections import Counter\n",
    "\n",
    "# Count occurrences of items in big_list\n",
    "item_counts = Counter(big_list)\n",
    "\n",
    "# Sort items by occurrences in descending order\n",
    "sorted_items = item_counts.most_common()\n",
    "\n",
    "# Display the sorted items\n",
    "sorted_items"
   ]
  },
  {
   "cell_type": "code",
   "execution_count": 81,
   "metadata": {},
   "outputs": [
    {
     "data": {
      "text/plain": [
       "[('Rice', 684),\n",
       " ('Cheese', 549),\n",
       " ('Lettuce', 443),\n",
       " ('SourCream', 427),\n",
       " ('BlackBeans', 386),\n",
       " ('FreshTomatoSalsa', 324),\n",
       " ('Guacamole', 282),\n",
       " ('FajitaVegetables', 209),\n",
       " ('PintoBeans', 120),\n",
       " ('RoastedChiliCornSalsa', 106),\n",
       " ('FajitaVeggies', 87),\n",
       " ('FreshTomatoSalsa(Mild)', 83),\n",
       " ('Tomatillo-RedChiliSalsa(Hot)', 65),\n",
       " ('RoastedChiliCornSalsa(Medium)', 65),\n",
       " ('TomatilloGreenChiliSalsa', 65),\n",
       " ('TomatilloRedChiliSalsa', 61),\n",
       " ('Tomatillo-GreenChiliSalsa(Medium)', 21),\n",
       " ('FreshTomato(Mild)', 4),\n",
       " ('WhiteRice', 2)]"
      ]
     },
     "execution_count": 81,
     "metadata": {},
     "output_type": "execute_result"
    }
   ],
   "source": [
    "# Count occurrences of each item in big_list\n",
    "item_counts = {}\n",
    "for item in big_list:\n",
    "    if item in item_counts:\n",
    "        item_counts[item] += 1\n",
    "    else:\n",
    "        item_counts[item] = 1\n",
    "\n",
    "# Sort items by their counts in descending order\n",
    "sorted_items = sorted(item_counts.items(), key=lambda x: x[1], reverse=True)\n",
    "\n",
    "# Display the sorted items\n",
    "sorted_items"
   ]
  },
  {
   "cell_type": "markdown",
   "metadata": {
    "id": "yBBxmSzS53sT"
   },
   "source": [
    "Comptons à présent le nombre de fois que chaque accompagnement de \"Chicken Bowl\" a été choisi."
   ]
  },
  {
   "cell_type": "markdown",
   "metadata": {
    "id": "889azxS18RyH"
   },
   "source": [
    "Pour terminer, calculons le nombre moyen d'accompagnements par burrito."
   ]
  },
  {
   "cell_type": "code",
   "execution_count": 82,
   "metadata": {
    "id": "UQLC6Ffl8Qzs"
   },
   "outputs": [],
   "source": [
    "df[\"n_accompagnements\"] = df[\"choice_description_list\"].apply(lambda x: len(x) if isinstance(x, list) else 0)"
   ]
  },
  {
   "cell_type": "code",
   "execution_count": null,
   "metadata": {},
   "outputs": [
    {
     "data": {
      "text/plain": [
       "5.395051194539249"
      ]
     },
     "execution_count": 76,
     "metadata": {},
     "output_type": "execute_result"
    }
   ],
   "source": [
    "df[df[\"item_name\"].str.contains(\"Burrito\")][\"n_accompagnements\"].mean()"
   ]
  },
  {
   "cell_type": "code",
   "execution_count": 86,
   "metadata": {},
   "outputs": [],
   "source": [
    "df_burrito = df[df[\"item_name\"].str.contains(\"Burrito\")]"
   ]
  },
  {
   "cell_type": "code",
   "execution_count": 91,
   "metadata": {},
   "outputs": [
    {
     "data": {
      "text/plain": [
       "5.374492282696995"
      ]
     },
     "execution_count": 91,
     "metadata": {},
     "output_type": "execute_result"
    }
   ],
   "source": [
    "(df_burrito[\"n_accompagnements\"]*df_burrito[\"quantity\"]).sum()/df_burrito[\"quantity\"].sum()"
   ]
  },
  {
   "cell_type": "code",
   "execution_count": 85,
   "metadata": {},
   "outputs": [
    {
     "data": {
      "text/plain": [
       "array(['Steak Burrito', 'Chicken Burrito', 'Barbacoa Burrito',\n",
       "       'Carnitas Burrito', 'Veggie Burrito', 'Burrito'], dtype=object)"
      ]
     },
     "execution_count": 85,
     "metadata": {},
     "output_type": "execute_result"
    }
   ],
   "source": [
    "df[df[\"item_name\"].str.contains(\"Burrito\")][\"item_name\"].unique()"
   ]
  },
  {
   "cell_type": "markdown",
   "metadata": {},
   "source": [
    "## Save the dataframe"
   ]
  },
  {
   "cell_type": "code",
   "execution_count": 94,
   "metadata": {},
   "outputs": [],
   "source": [
    "df.to_csv(\"../data/chipotle_cleaned.csv\", index=False)"
   ]
  },
  {
   "cell_type": "code",
   "execution_count": 47,
   "metadata": {},
   "outputs": [],
   "source": [
    "df.to_csv(\"csv_local.csv\",index=False, sep=\";\")"
   ]
  },
  {
   "cell_type": "code",
   "execution_count": 48,
   "metadata": {},
   "outputs": [],
   "source": [
    "df.to_excel(\"../data/chipotle_cleaned.xlsx\", index=False)"
   ]
  },
  {
   "cell_type": "markdown",
   "metadata": {
    "id": "6kvxygPTudGE"
   },
   "source": [
    "## Tâche 3 : visualisation des données"
   ]
  },
  {
   "cell_type": "markdown",
   "metadata": {
    "id": "bcAEQs31ug6g"
   },
   "source": [
    "Testons maintenant ce qu'on a appris sur matplotlib pour effectuer quelques visualisations simples du jeu de données.\n",
    "\n",
    "Commençons par afficher la distribution des valeurs de ventes. Jouer par exemple sur le paramètre `bins` (si entier = nombre de barres d'histogrammes, si liste = intervalles des barres)."
   ]
  },
  {
   "cell_type": "code",
   "execution_count": 95,
   "metadata": {},
   "outputs": [],
   "source": [
    "import matplotlib.pyplot as plt"
   ]
  },
  {
   "cell_type": "code",
   "execution_count": 96,
   "metadata": {},
   "outputs": [],
   "source": [
    "df_price = df.groupby(\"order_id\")[\"item_price\"].sum()"
   ]
  },
  {
   "cell_type": "code",
   "execution_count": 100,
   "metadata": {
    "id": "DpvCzfS8zqtX"
   },
   "outputs": [
    {
     "data": {
      "text/plain": [
       "<Axes: >"
      ]
     },
     "execution_count": 100,
     "metadata": {},
     "output_type": "execute_result"
    },
    {
     "data": {
      "image/png": "[encoded data removed]",
      "text/plain": [
       "<Figure size 640x480 with 1 Axes>"
      ]
     },
     "metadata": {},
     "output_type": "display_data"
    }
   ],
   "source": [
    "df_price.hist(bins=100)"
   ]
  },
  {
   "cell_type": "code",
   "execution_count": 102,
   "metadata": {},
   "outputs": [
    {
     "data": {
      "text/plain": [
       "<Axes: >"
      ]
     },
     "execution_count": 102,
     "metadata": {},
     "output_type": "execute_result"
    },
    {
     "data": {
      "image/png": "[encoded data removed]",
      "text/plain": [
       "<Figure size 640x480 with 1 Axes>"
      ]
     },
     "metadata": {},
     "output_type": "display_data"
    }
   ],
   "source": [
    "df_price.hist(bins=[0, 5, 10, 15, 20, 25, 30, 35, 40, 45, 50, 60, 80, 100, 120, 140, 160, 180, 200, 220])"
   ]
  },
  {
   "cell_type": "code",
   "execution_count": 89,
   "metadata": {
    "id": "CL4S744Vuf8b"
   },
   "outputs": [
    {
     "data": {
      "image/png": "[encoded data removed]",
      "text/plain": [
       "<Figure size 640x480 with 1 Axes>"
      ]
     },
     "metadata": {},
     "output_type": "display_data"
    }
   ],
   "source": [
    "plt.hist(df_price, bins=50, facecolor='g', alpha=0.75, density=True)\n",
    "plt.xlabel('Order Price')\n",
    "plt.ylabel('Density')\n",
    "plt.title('Distribution of price orders')\n",
    "#plt.axis([0, 50, 0, 0.22])\n",
    "plt.grid(True)\n",
    "plt.show()"
   ]
  },
  {
   "cell_type": "markdown",
   "metadata": {
    "id": "x7kWgw5k14AU"
   },
   "source": [
    "Il est difficile de bien visualiser la distribution des données. Passons donc en axes logarithmiques. En matplotlib, cela se fait simplement avec la commande `plt.yscale('log')` (de même pour `xscale`), ou bien `ax.set_yscale('log')` si on travaille avec un axe."
   ]
  },
  {
   "cell_type": "code",
   "execution_count": 108,
   "metadata": {
    "id": "KkCtTZ1U2Tt5"
   },
   "outputs": [
    {
     "data": {
      "image/png": "[encoded data removed]",
      "text/plain": [
       "<Figure size 640x480 with 1 Axes>"
      ]
     },
     "metadata": {},
     "output_type": "display_data"
    }
   ],
   "source": [
    "plt.hist(df_price, bins=50, facecolor='g', alpha=0.75, density=False)\n",
    "plt.xlabel('Order Price')\n",
    "plt.ylabel('Density')\n",
    "plt.yscale('log')\n",
    "plt.title('Distribution of price orders')\n",
    "#plt.axis([0, 50, 0, 0.22])\n",
    "plt.grid(True)\n",
    "plt.show()"
   ]
  },
  {
   "cell_type": "markdown",
   "metadata": {
    "id": "dQdlqm9_2wFT"
   },
   "source": [
    "Affichons maintenant deux histogrammes côte à côte : celui des valeurs de ventes que nous venons de calculer, et celui des prix moyens de chaque item du menu."
   ]
  },
  {
   "cell_type": "code",
   "execution_count": 113,
   "metadata": {
    "id": "fsYoEeKZ3GlV"
   },
   "outputs": [
    {
     "name": "stderr",
     "output_type": "stream",
     "text": [
      "/tmp/ipykernel_24666/3967287743.py:19: UserWarning: FigureCanvasAgg is non-interactive, and thus cannot be shown\n",
      "  fig.show()\n"
     ]
    },
    {
     "data": {
      "image/png": "[encoded data removed]",
      "text/plain": [
       "<Figure size 1000x600 with 2 Axes>"
      ]
     },
     "metadata": {},
     "output_type": "display_data"
    }
   ],
   "source": [
    "fig, axes = plt.subplots(1, 2, figsize=(10, 6))\n",
    "#ax 0\n",
    "axes[0].hist(df_price, bins=50, facecolor='g', alpha=0.75, density=True)\n",
    "axes[0].set_xlabel('Order Price')\n",
    "axes[0].set_ylabel('Density')\n",
    "axes[0].set_yscale('log')\n",
    "axes[0].set_title(\"Distribution of orders' prices\")\n",
    "axes[0].grid(True)\n",
    "\n",
    "#ax 1\n",
    "axes[1].hist(df.groupby(\"item_name\")[\"unit_price\"].mean(),\n",
    "             bins=20, facecolor='b', alpha=0.75, density=True)\n",
    "axes[1].set_xlabel('Mean item price')\n",
    "axes[1].set_ylabel('Density')\n",
    "#axes[0].set_yscale('log')\n",
    "axes[1].set_title('Distribution of item prices')\n",
    "axes[1].grid(True)\n",
    "fig.suptitle('Distribution of prices', fontsize=16)\n",
    "fig.show()"
   ]
  },
  {
   "cell_type": "markdown",
   "metadata": {
    "id": "sN5ZNxv2zGOy"
   },
   "source": [
    "Affichons à présent le nombre de ventes par \"item_name\" pour les 10 items les plus vendus. Indice : utiliser la fonction `plt.bar()` pour afficher un barplot, qui prend en arguments `x` (les abscisses des rectangles) et `height` (leur hauteur)."
   ]
  },
  {
   "cell_type": "code",
   "execution_count": 114,
   "metadata": {
    "id": "9H_YkPCGzK-2"
   },
   "outputs": [],
   "source": [
    "df_barplot = df.groupby(\"item_name\")[\"quantity\"].sum().sort_values(ascending=False).head(10)"
   ]
  },
  {
   "cell_type": "code",
   "execution_count": 115,
   "metadata": {},
   "outputs": [
    {
     "data": {
      "text/plain": [
       "item_name\n",
       "Chicken Bowl                    761\n",
       "Chicken Burrito                 591\n",
       "Chips and Guacamole             506\n",
       "Steak Burrito                   386\n",
       "Canned Soft Drink               351\n",
       "Chips                           230\n",
       "Steak Bowl                      221\n",
       "Bottled Water                   211\n",
       "Chips and Fresh Tomato Salsa    130\n",
       "Canned Soda                     126\n",
       "Name: quantity, dtype: int64"
      ]
     },
     "execution_count": 115,
     "metadata": {},
     "output_type": "execute_result"
    }
   ],
   "source": [
    "df_barplot"
   ]
  },
  {
   "cell_type": "code",
   "execution_count": 118,
   "metadata": {},
   "outputs": [
    {
     "data": {
      "image/png": "[encoded data removed]",
      "text/plain": [
       "<Figure size 1000x500 with 1 Axes>"
      ]
     },
     "metadata": {},
     "output_type": "display_data"
    }
   ],
   "source": [
    "ax = df_barplot.plot(kind=\"barh\", xlabel=\"Quantity\", ylabel=\"\",title=\"Top 10 items sold\", figsize=(10, 5), legend=False, color=\"g\")\n",
    "\n",
    "# Add values to each bar\n",
    "for index, value in enumerate(df_barplot):\n",
    "    ax.text(value, index, \" \"+str(value), va='center', color='g', fontsize = 10)"
   ]
  },
  {
   "cell_type": "code",
   "execution_count": 117,
   "metadata": {},
   "outputs": [],
   "source": [
    "name_list = df_barplot.index.tolist()\n",
    "quantity_list = df_barplot.values.tolist()"
   ]
  },
  {
   "cell_type": "markdown",
   "metadata": {
    "id": "FhO_T4y_ICF3"
   },
   "source": [
    "Affichons maintenant les noms des items sur l'axe des abscisses. Nous allons utiliser la fonction `plt.xticks(ticks=..., labels=..., rotation=...)` où `ticks` correspond aux abscisses de nos points de données, `labels` à la liste des labels désirés et `rotation` l'angle de rotation."
   ]
  },
  {
   "cell_type": "code",
   "execution_count": 97,
   "metadata": {
    "id": "1byZzOnVIHgE"
   },
   "outputs": [
    {
     "data": {
      "text/plain": [
       "<matplotlib.collections.LineCollection at 0x7bbaccbdec90>"
      ]
     },
     "execution_count": 97,
     "metadata": {},
     "output_type": "execute_result"
    },
    {
     "data": {
      "image/png": "[encoded data removed]",
      "text/plain": [
       "<Figure size 640x480 with 1 Axes>"
      ]
     },
     "metadata": {},
     "output_type": "display_data"
    }
   ],
   "source": [
    "plt.bar(name_list, quantity_list, facecolor='g', alpha=0.75)\n",
    "plt.xticks(rotation=45, ha='right')\n",
    "for i, v in enumerate(quantity_list):\n",
    "    plt.text(i, v-40,  str(v), ha='center', va='bottom', color='k')\n",
    "plt.ylabel('Quantity sold')\n",
    "#turn off ylabels\n",
    "plt.yticks([])\n",
    "plt.xlim(-0.5, 9.5)\n",
    "plt.hlines(y=500, xmin=-2, xmax = 12, linestyle=\"--\", color=\"k\")"
   ]
  },
  {
   "cell_type": "markdown",
   "metadata": {
    "id": "-aR-PpmJKScC"
   },
   "source": [
    "Pour terminer, introduisons le package `seaborn` qui permet d'obtenir des visualisations plus avancées. Affichons la distribution de prix unitaires pour chaque item parmi les 10 items les plus vendus. On sait que selon l'item, le prix peut varier en fonction des options."
   ]
  },
  {
   "cell_type": "code",
   "execution_count": 98,
   "metadata": {
    "id": "_NaKfD2WI0DS"
   },
   "outputs": [],
   "source": [
    "import seaborn as sns"
   ]
  },
  {
   "cell_type": "code",
   "execution_count": 99,
   "metadata": {
    "id": "ijOfR3gVfQVh"
   },
   "outputs": [],
   "source": [
    "df_unit_price = df.groupby(\"item_name\")[\"unit_price\"].mean().sort_values(ascending=False).head(10)"
   ]
  },
  {
   "cell_type": "code",
   "execution_count": 100,
   "metadata": {},
   "outputs": [
    {
     "data": {
      "text/plain": [
       "<Axes: ylabel='item_name'>"
      ]
     },
     "execution_count": 100,
     "metadata": {},
     "output_type": "execute_result"
    },
    {
     "data": {
      "image/png": "[encoded data removed]",
      "text/plain": [
       "<Figure size 1000x500 with 1 Axes>"
      ]
     },
     "metadata": {},
     "output_type": "display_data"
    }
   ],
   "source": [
    "df_unit_price.plot(kind='barh', figsize=(10, 5), legend=False, color=\"b\")"
   ]
  },
  {
   "cell_type": "code",
   "execution_count": 102,
   "metadata": {},
   "outputs": [
    {
     "data": {
      "image/png": "[encoded data removed]",
      "text/plain": [
       "<Figure size 1000x600 with 1 Axes>"
      ]
     },
     "metadata": {},
     "output_type": "display_data"
    }
   ],
   "source": [
    "fig = plt.figure(figsize=(10, 6))\n",
    "sns.barplot(x=df_unit_price.values, y=df_unit_price.index, palette=\"viridis\", hue=pow(df_unit_price.values,8), legend=False)\n",
    "plt.xlabel(\"Mean Unit Price\")\n",
    "plt.ylabel(\"\")\n",
    "#plt.xticks([])\n",
    "plt.title(\"Top 10 Items by Mean Unit Price\")\n",
    "\n",
    "plt.show()"
   ]
  },
  {
   "cell_type": "code",
   "execution_count": 103,
   "metadata": {},
   "outputs": [
    {
     "data": {
      "text/plain": [
       "array([2.23354000e+08, 2.18752151e+08, 1.64260456e+08, 1.28218882e+08,\n",
       "       1.20191607e+08, 1.16001462e+08, 1.11666501e+08, 1.07198844e+08,\n",
       "       1.01481515e+08, 1.00954551e+08])"
      ]
     },
     "execution_count": 103,
     "metadata": {},
     "output_type": "execute_result"
    }
   ],
   "source": [
    "pow(df_unit_price.values,8)"
   ]
  },
  {
   "cell_type": "code",
   "execution_count": 104,
   "metadata": {},
   "outputs": [
    {
     "name": "stderr",
     "output_type": "stream",
     "text": [
      "/tmp/ipykernel_16621/3463209291.py:2: FutureWarning: \n",
      "\n",
      "Passing `palette` without assigning `hue` is deprecated and will be removed in v0.14.0. Assign the `x` variable to `hue` and set `legend=False` for the same effect.\n",
      "\n",
      "  sns.barplot(x=name_list, y=quantity_list, palette=\"viridis\")\n"
     ]
    },
    {
     "data": {
      "image/png": "[encoded data removed]",
      "text/plain": [
       "<Figure size 1000x600 with 1 Axes>"
      ]
     },
     "metadata": {},
     "output_type": "display_data"
    }
   ],
   "source": [
    "plt.figure(figsize=(10, 6))\n",
    "sns.barplot(x=name_list, y=quantity_list, palette=\"viridis\")\n",
    "plt.xticks(rotation=45, ha='right')\n",
    "plt.xlabel(\"Item Name\")\n",
    "plt.ylabel(\"Quantity Sold\")\n",
    "plt.title(\"Top 10 Items Sold\")\n",
    "plt.show()"
   ]
  },
  {
   "cell_type": "code",
   "execution_count": 110,
   "metadata": {},
   "outputs": [
    {
     "data": {
      "image/png": "[encoded data removed]",
      "text/plain": [
       "<Figure size 800x500 with 1 Axes>"
      ]
     },
     "metadata": {},
     "output_type": "display_data"
    },
    {
     "data": {
      "image/png": "[encoded data removed]",
      "text/plain": [
       "<Figure size 800x500 with 1 Axes>"
      ]
     },
     "metadata": {},
     "output_type": "display_data"
    },
    {
     "data": {
      "image/png": "[encoded data removed]",
      "text/plain": [
       "<Figure size 800x500 with 1 Axes>"
      ]
     },
     "metadata": {},
     "output_type": "display_data"
    },
    {
     "data": {
      "image/png": "[encoded data removed]",
      "text/plain": [
       "<Figure size 800x500 with 1 Axes>"
      ]
     },
     "metadata": {},
     "output_type": "display_data"
    },
    {
     "data": {
      "image/png": "[encoded data removed]",
      "text/plain": [
       "<Figure size 800x500 with 1 Axes>"
      ]
     },
     "metadata": {},
     "output_type": "display_data"
    },
    {
     "data": {
      "image/png": "[encoded data removed]",
      "text/plain": [
       "<Figure size 800x500 with 1 Axes>"
      ]
     },
     "metadata": {},
     "output_type": "display_data"
    },
    {
     "data": {
      "image/png": "[encoded data removed]",
      "text/plain": [
       "<Figure size 800x500 with 1 Axes>"
      ]
     },
     "metadata": {},
     "output_type": "display_data"
    },
    {
     "data": {
      "image/png": "[encoded data removed]",
      "text/plain": [
       "<Figure size 800x500 with 1 Axes>"
      ]
     },
     "metadata": {},
     "output_type": "display_data"
    },
    {
     "data": {
      "image/png": "[encoded data removed]",
      "text/plain": [
       "<Figure size 800x500 with 1 Axes>"
      ]
     },
     "metadata": {},
     "output_type": "display_data"
    },
    {
     "data": {
      "image/png": "[encoded data removed]",
      "text/plain": [
       "<Figure size 800x500 with 1 Axes>"
      ]
     },
     "metadata": {},
     "output_type": "display_data"
    }
   ],
   "source": [
    "for item in name_list:\n",
    "    plt.figure(figsize=(8, 5))\n",
    "    data = df[df[\"item_name\"] == item][\"unit_price\"]\n",
    "    sns.histplot(data, bins=20, kde=True, stat=\"density\", color=\"blue\", label=\"Histogram + KDE\")\n",
    "    plt.xlabel(\"Unit Price\")\n",
    "    plt.ylabel(\"Density\")\n",
    "    plt.title(f\"Density & Histogram of Unit Prices for {item}\")\n",
    "    plt.legend()\n",
    "    plt.show()"
   ]
  },
  {
   "cell_type": "code",
   "execution_count": 114,
   "metadata": {},
   "outputs": [
    {
     "name": "stdout",
     "output_type": "stream",
     "text": [
      "2.15    210\n",
      "1.99      1\n",
      "Name: unit_price, dtype: int64\n"
     ]
    }
   ],
   "source": [
    "print(df[df[\"item_name\"]==\"Chips\"][\"unit_price\"].value_counts())"
   ]
  },
  {
   "cell_type": "code",
   "execution_count": null,
   "metadata": {},
   "outputs": [],
   "source": []
  }
 ],
 "metadata": {
  "colab": {
   "authorship_tag": "ABX9TyPIHz5h55NB1FHCRqo6J/kU",
   "provenance": [],
   "toc_visible": true
  },
  "kernelspec": {
   "display_name": "workenv-pytorch-ssl1",
   "language": "python",
   "name": "python3"
  },
  "language_info": {
   "codemirror_mode": {
    "name": "ipython",
    "version": 3
   },
   "file_extension": ".py",
   "mimetype": "text/x-python",
   "name": "python",
   "nbconvert_exporter": "python",
   "pygments_lexer": "ipython3",
   "version": "3.11.6"
  }
 },
 "nbformat": 4,
 "nbformat_minor": 0
}
